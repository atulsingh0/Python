{
 "cells": [
  {
   "cell_type": "markdown",
   "id": "c1e468f0-5031-4c81-a2c0-bb3a9a8e30d7",
   "metadata": {},
   "source": [
    "## List #2\n",
    "\n",
    "**properties**: ordered, iterable, mutable, can contain multiple data types  \n",
    "\n",
    "**mutable** - Elements can be changed  \n",
    "**ordered** - Elements have an order  \n",
    "**iterable** - Can run a loop on elements  \n",
    "**hashable** - Can use index to select element"
   ]
  },
  {
   "cell_type": "code",
   "execution_count": 1,
   "id": "dc972940-a9cb-45cf-b047-fca27ea19606",
   "metadata": {},
   "outputs": [],
   "source": [
    "week = ['Mon', 'Tue', 'Wed', 'Thu', 'Fri', 'Sat', 'Sun']\n",
    "leap_year = [2000, 2004, 2008] "
   ]
  },
  {
   "cell_type": "markdown",
   "id": "45e8f8eb-9ba1-49cb-b067-0d72c84fcc9a",
   "metadata": {},
   "source": [
    "### For loop with List"
   ]
  },
  {
   "cell_type": "code",
   "execution_count": 3,
   "id": "8922c92a-8158-4db3-881c-c8ffae82d430",
   "metadata": {},
   "outputs": [
    {
     "name": "stdout",
     "output_type": "stream",
     "text": [
      "Mon\n",
      "Tue\n",
      "Wed\n",
      "Thu\n",
      "Fri\n",
      "Sat\n",
      "Sun\n"
     ]
    }
   ],
   "source": [
    "# In for loop with List - Loop will iterate through the List item one by one\n",
    "\n",
    "for day in week:   \n",
    "    print(day)"
   ]
  },
  {
   "cell_type": "code",
   "execution_count": 5,
   "id": "1baa8fb5-4444-4c7f-bc4e-142b44ef3a3d",
   "metadata": {},
   "outputs": [
    {
     "name": "stdout",
     "output_type": "stream",
     "text": [
      "2000\n",
      "2004\n",
      "2008\n",
      "2012\n"
     ]
    }
   ],
   "source": [
    "# You can perform the same operation as below - \n",
    "\n",
    "for yr in [2000, 2004, 2008, 2012] :\n",
    "    print(yr)"
   ]
  },
  {
   "cell_type": "markdown",
   "id": "f6e2c0d6-406e-4f14-ab88-5fc51f285eb0",
   "metadata": {},
   "source": [
    "### Looping with `range()` function"
   ]
  },
  {
   "cell_type": "code",
   "execution_count": 9,
   "id": "59af691e-8f19-4f5b-9b0b-21e346dfa72f",
   "metadata": {},
   "outputs": [
    {
     "data": {
      "text/plain": [
       "range(2, 9)"
      ]
     },
     "execution_count": 9,
     "metadata": {},
     "output_type": "execute_result"
    }
   ],
   "source": [
    "range(2, 9)  "
   ]
  },
  {
   "cell_type": "code",
   "execution_count": 10,
   "id": "04659c9e-754a-4278-b191-526bac04c9ac",
   "metadata": {},
   "outputs": [
    {
     "data": {
      "text/plain": [
       "[2, 3, 4, 5, 6, 7, 8]"
      ]
     },
     "execution_count": 10,
     "metadata": {},
     "output_type": "execute_result"
    }
   ],
   "source": [
    "# To see what value above range function will generate \n",
    "\n",
    "list(range(2, 9))"
   ]
  },
  {
   "cell_type": "code",
   "execution_count": 11,
   "id": "74ae3df4-9596-4f83-b4c2-65767dde8aff",
   "metadata": {},
   "outputs": [
    {
     "name": "stdout",
     "output_type": "stream",
     "text": [
      "2\n",
      "3\n",
      "4\n",
      "5\n",
      "6\n",
      "7\n",
      "8\n"
     ]
    }
   ],
   "source": [
    "# For loop with range list - \n",
    "\n",
    "for item in range(2, 9):\n",
    "    print(item)"
   ]
  },
  {
   "cell_type": "code",
   "execution_count": 12,
   "id": "cab11fa5-ae45-4aa9-9bf4-4a7101c23aa9",
   "metadata": {},
   "outputs": [
    {
     "name": "stdout",
     "output_type": "stream",
     "text": [
      "day 1 in week :  Mon\n",
      "day 2 in week :  Tue\n",
      "day 3 in week :  Wed\n",
      "day 4 in week :  Thu\n",
      "day 5 in week :  Fri\n",
      "day 6 in week :  Sat\n",
      "day 7 in week :  Sun\n"
     ]
    }
   ],
   "source": [
    "for idx in range(len(week)):\n",
    "    print(f'day {idx + 1} in week :  {week[idx]}')"
   ]
  },
  {
   "cell_type": "code",
   "execution_count": 14,
   "id": "deb4e131-6321-46ec-b0e1-225d36be0b55",
   "metadata": {},
   "outputs": [
    {
     "name": "stdout",
     "output_type": "stream",
     "text": [
      "day 1 in week :  Mon\n",
      "day 2 in week :  Tue\n",
      "day 3 in week :  Wed\n",
      "day 4 in week :  Thu\n",
      "day 5 in week :  Fri\n",
      "day 6 in week :  Sat\n",
      "day 7 in week :  Sun\n"
     ]
    }
   ],
   "source": [
    "count = 0\n",
    "for day in week:\n",
    "    count = count + 1\n",
    "    print(f'day {count} in week :  {day}')"
   ]
  },
  {
   "cell_type": "markdown",
   "id": "ccc1b08e-ecbc-4fd6-ac45-8970a9f1089d",
   "metadata": {},
   "source": [
    "### Get the Index of a Value with `index()` method"
   ]
  },
  {
   "cell_type": "code",
   "execution_count": 15,
   "id": "3e16ef6f-a89e-4ea7-a9ef-dce8094f31a3",
   "metadata": {},
   "outputs": [
    {
     "data": {
      "text/plain": [
       "['Mon', 'Tue', 'Wed', 'Thu', 'Fri', 'Sat', 'Sun']"
      ]
     },
     "execution_count": 15,
     "metadata": {},
     "output_type": "execute_result"
    }
   ],
   "source": [
    "week"
   ]
  },
  {
   "cell_type": "code",
   "execution_count": 16,
   "id": "db35af97-b28f-41c9-afac-b5c4f701d698",
   "metadata": {},
   "outputs": [
    {
     "data": {
      "text/plain": [
       "1"
      ]
     },
     "execution_count": 16,
     "metadata": {},
     "output_type": "execute_result"
    }
   ],
   "source": [
    "week.index('Tue')"
   ]
  },
  {
   "cell_type": "code",
   "execution_count": 17,
   "id": "44c5e7df-f55c-446c-a3fd-f6d1e4c9e8ab",
   "metadata": {},
   "outputs": [
    {
     "data": {
      "text/plain": [
       "4"
      ]
     },
     "execution_count": 17,
     "metadata": {},
     "output_type": "execute_result"
    }
   ],
   "source": [
    "week.index('Fri')"
   ]
  },
  {
   "cell_type": "markdown",
   "id": "9660e7ec-031f-4719-bcc8-ad0ac40bc5c4",
   "metadata": {},
   "source": [
    "### Check Count of an Item in list with `count()` method"
   ]
  },
  {
   "cell_type": "code",
   "execution_count": 34,
   "id": "01436186-b9dd-413e-90bf-10f620664db4",
   "metadata": {},
   "outputs": [
    {
     "data": {
      "text/plain": [
       "[2, 8, 3, 5, 2, 5, 7, 8, 5, 4, 9, 2]"
      ]
     },
     "execution_count": 34,
     "metadata": {},
     "output_type": "execute_result"
    }
   ],
   "source": [
    "random = [2, 8, 3, 5, 2, 5, 7, 8 ,5, 4,9, 2]\n",
    "\n",
    "random"
   ]
  },
  {
   "cell_type": "code",
   "execution_count": 21,
   "id": "982876a4-4542-4ec7-a8b4-65b0b50449c1",
   "metadata": {},
   "outputs": [
    {
     "data": {
      "text/plain": [
       "3"
      ]
     },
     "execution_count": 21,
     "metadata": {},
     "output_type": "execute_result"
    }
   ],
   "source": [
    "random.count(2)"
   ]
  },
  {
   "cell_type": "code",
   "execution_count": 22,
   "id": "c8426ea6-69f5-4b48-8766-c6359d910a15",
   "metadata": {},
   "outputs": [
    {
     "data": {
      "text/plain": [
       "1"
      ]
     },
     "execution_count": 22,
     "metadata": {},
     "output_type": "execute_result"
    }
   ],
   "source": [
    "random.count(9)"
   ]
  },
  {
   "cell_type": "code",
   "execution_count": 23,
   "id": "6b5406c5-0a46-4926-a80a-846860c3c40d",
   "metadata": {},
   "outputs": [
    {
     "data": {
      "text/plain": [
       "0"
      ]
     },
     "execution_count": 23,
     "metadata": {},
     "output_type": "execute_result"
    }
   ],
   "source": [
    "random.count(11)"
   ]
  },
  {
   "cell_type": "markdown",
   "id": "58af9077-abe2-4e4f-b702-f27e7e8a95fc",
   "metadata": {},
   "source": [
    "### Check Value existance in list with `in` or `not in`"
   ]
  },
  {
   "cell_type": "code",
   "execution_count": 24,
   "id": "43ad1da9-8ba3-42e0-b279-3702935b55e9",
   "metadata": {},
   "outputs": [
    {
     "data": {
      "text/plain": [
       "['Mon', 'Tue', 'Wed', 'Thu', 'Fri', 'Sat', 'Sun']"
      ]
     },
     "execution_count": 24,
     "metadata": {},
     "output_type": "execute_result"
    }
   ],
   "source": [
    "week"
   ]
  },
  {
   "cell_type": "code",
   "execution_count": 25,
   "id": "29de3f59-6b66-455f-b6bd-027bb647ecaa",
   "metadata": {},
   "outputs": [
    {
     "data": {
      "text/plain": [
       "True"
      ]
     },
     "execution_count": 25,
     "metadata": {},
     "output_type": "execute_result"
    }
   ],
   "source": [
    "'Wed' in week"
   ]
  },
  {
   "cell_type": "code",
   "execution_count": 26,
   "id": "07d54e3b-f5e9-48ee-a460-2a37b7b247ad",
   "metadata": {},
   "outputs": [
    {
     "data": {
      "text/plain": [
       "False"
      ]
     },
     "execution_count": 26,
     "metadata": {},
     "output_type": "execute_result"
    }
   ],
   "source": [
    "'Jen' in week"
   ]
  },
  {
   "cell_type": "code",
   "execution_count": 27,
   "id": "019d7eb5-4af7-4a86-bd3d-dc387d5df48a",
   "metadata": {},
   "outputs": [
    {
     "data": {
      "text/plain": [
       "True"
      ]
     },
     "execution_count": 27,
     "metadata": {},
     "output_type": "execute_result"
    }
   ],
   "source": [
    "'March' not in week"
   ]
  },
  {
   "cell_type": "markdown",
   "id": "2885aed4-82d0-4616-a7f7-40053c34504a",
   "metadata": {},
   "source": [
    "### Sorting Items with `sorted()` method"
   ]
  },
  {
   "cell_type": "code",
   "execution_count": 37,
   "id": "97688b7d-dbb2-4bc7-9f7b-6778acc93baf",
   "metadata": {},
   "outputs": [
    {
     "data": {
      "text/plain": [
       "[2, 2, 2, 3, 4, 5, 5, 5, 7, 8, 8, 9]"
      ]
     },
     "execution_count": 37,
     "metadata": {},
     "output_type": "execute_result"
    }
   ],
   "source": [
    "sorted(random)  # It will return the sorted list, without changing the original"
   ]
  },
  {
   "cell_type": "code",
   "execution_count": 38,
   "id": "2c0895f7-21fc-489d-9aef-a0de7dc94eac",
   "metadata": {},
   "outputs": [
    {
     "data": {
      "text/plain": [
       "[2, 8, 3, 5, 2, 5, 7, 8, 5, 4, 9, 2]"
      ]
     },
     "execution_count": 38,
     "metadata": {},
     "output_type": "execute_result"
    }
   ],
   "source": [
    "random"
   ]
  },
  {
   "cell_type": "markdown",
   "id": "01c7a64c-d268-4feb-aab0-1a47bcbfaf3f",
   "metadata": {},
   "source": [
    "### Sorting Items with `sort()` & `reverse()` method"
   ]
  },
  {
   "cell_type": "code",
   "execution_count": 40,
   "id": "07a79004-554a-45e2-8e6b-da13a16098cd",
   "metadata": {},
   "outputs": [],
   "source": [
    "random.sort()  # sort() method do In-Place sorting, Means, It will sort the list permanently"
   ]
  },
  {
   "cell_type": "code",
   "execution_count": 41,
   "id": "5d0274ee-1e81-4a33-9c35-ad6603f09ca3",
   "metadata": {},
   "outputs": [
    {
     "data": {
      "text/plain": [
       "[2, 2, 2, 3, 4, 5, 5, 5, 7, 8, 8, 9]"
      ]
     },
     "execution_count": 41,
     "metadata": {},
     "output_type": "execute_result"
    }
   ],
   "source": [
    "random"
   ]
  },
  {
   "cell_type": "code",
   "execution_count": 43,
   "id": "0af7e591-2d94-4c18-a936-4ab748cb1d53",
   "metadata": {},
   "outputs": [],
   "source": [
    "random.sort(reverse=True)"
   ]
  },
  {
   "cell_type": "code",
   "execution_count": 44,
   "id": "bf04f056-299a-44db-8dd8-8e7dde7f95f6",
   "metadata": {},
   "outputs": [
    {
     "data": {
      "text/plain": [
       "[9, 8, 8, 7, 5, 5, 5, 4, 3, 2, 2, 2]"
      ]
     },
     "execution_count": 44,
     "metadata": {},
     "output_type": "execute_result"
    }
   ],
   "source": [
    "random"
   ]
  },
  {
   "cell_type": "code",
   "execution_count": 47,
   "id": "80a7fe6b-7117-4982-abcc-25b9bc59a3d0",
   "metadata": {},
   "outputs": [],
   "source": [
    "random.reverse()  # another method to reverse sort"
   ]
  },
  {
   "cell_type": "code",
   "execution_count": 46,
   "id": "d40676b3-335b-4a05-ac3d-e24e10d7a32d",
   "metadata": {},
   "outputs": [
    {
     "data": {
      "text/plain": [
       "[2, 2, 2, 3, 4, 5, 5, 5, 7, 8, 8, 9]"
      ]
     },
     "execution_count": 46,
     "metadata": {},
     "output_type": "execute_result"
    }
   ],
   "source": [
    "random"
   ]
  },
  {
   "cell_type": "markdown",
   "id": "a596304d-e872-44c9-b03e-e146a3a4e0fa",
   "metadata": {},
   "source": [
    "### Get lenght of list with `len()`"
   ]
  },
  {
   "cell_type": "code",
   "execution_count": 42,
   "id": "551ca806-d064-40e1-a4fd-df0a18ec0450",
   "metadata": {},
   "outputs": [
    {
     "data": {
      "text/plain": [
       "12"
      ]
     },
     "execution_count": 42,
     "metadata": {},
     "output_type": "execute_result"
    }
   ],
   "source": [
    "len(random)"
   ]
  },
  {
   "cell_type": "markdown",
   "id": "2bb89a0d-fa1f-4589-bcb7-76b1dfd32f97",
   "metadata": {},
   "source": [
    "### Creating Copy with `copy()`, `list()`, or a slice"
   ]
  },
  {
   "cell_type": "code",
   "execution_count": 48,
   "id": "9eb4a506-955f-48c1-a414-992a90afdb4e",
   "metadata": {},
   "outputs": [
    {
     "data": {
      "text/plain": [
       "[9, 8, 8, 7, 5, 5, 5, 4, 3, 2, 2, 2]"
      ]
     },
     "execution_count": 48,
     "metadata": {},
     "output_type": "execute_result"
    }
   ],
   "source": [
    "random"
   ]
  },
  {
   "cell_type": "code",
   "execution_count": 49,
   "id": "7eed28ab-b0cd-4edd-9f9f-72f82896c8d5",
   "metadata": {},
   "outputs": [
    {
     "name": "stdout",
     "output_type": "stream",
     "text": [
      "[9, 8, 8, 7, 5, 5, 5, 4, 3, 2, 2, 2]\n"
     ]
    }
   ],
   "source": [
    "# If I want to create a copy by assignment \n",
    "\n",
    "random_copy = random \n",
    "\n",
    "print(random_copy)"
   ]
  },
  {
   "cell_type": "code",
   "execution_count": 50,
   "id": "b1517add-b58c-4b0b-aeec-cde4c881f219",
   "metadata": {},
   "outputs": [
    {
     "name": "stdout",
     "output_type": "stream",
     "text": [
      "[9999, 8, 8, 7, 5, 5, 5, 4, 3, 2, 2, 2]\n"
     ]
    }
   ],
   "source": [
    "random[0] = 9999\n",
    "\n",
    "print(random_copy)   "
   ]
  },
  {
   "cell_type": "markdown",
   "id": "a2ad1b9f-ebf9-4cea-adbd-cfaaf25c639a",
   "metadata": {},
   "source": [
    "As we have seen above, for creating a copy of a list, simple assignment is not enough.  \n",
    "A simple assignment is just another name for same list.  \n",
    "For creating an actual copy, we use below methods"
   ]
  },
  {
   "cell_type": "code",
   "execution_count": 51,
   "id": "80290146-9e5d-46e7-932a-e3cf4e6b0f74",
   "metadata": {},
   "outputs": [],
   "source": [
    "random_copy = random.copy() "
   ]
  },
  {
   "cell_type": "code",
   "execution_count": 56,
   "id": "a3d5e6e2-e4cc-4906-82a4-e250d5a971e8",
   "metadata": {},
   "outputs": [
    {
     "name": "stdout",
     "output_type": "stream",
     "text": [
      "[1111, 8, 8, 7, 5, 5, 5, 4, 3, 2, 2, 2]\n"
     ]
    }
   ],
   "source": [
    "random[0] = 1111\n",
    "\n",
    "print(random_copy)"
   ]
  },
  {
   "cell_type": "code",
   "execution_count": 57,
   "id": "82b8402d-5092-4180-813a-a4a58b51e379",
   "metadata": {},
   "outputs": [],
   "source": [
    "random_copy = list(random) "
   ]
  },
  {
   "cell_type": "code",
   "execution_count": 58,
   "id": "ef6b957e-b7a5-4617-b1fe-018fdb003014",
   "metadata": {},
   "outputs": [
    {
     "name": "stdout",
     "output_type": "stream",
     "text": [
      "[8888, 8, 8, 7, 5, 5, 5, 4, 3, 2, 2, 2]\n",
      "[1111, 8, 8, 7, 5, 5, 5, 4, 3, 2, 2, 2]\n"
     ]
    }
   ],
   "source": [
    "random[0] = 8888\n",
    "\n",
    "print(random)\n",
    "print(random_copy)"
   ]
  },
  {
   "cell_type": "code",
   "execution_count": 59,
   "id": "de398f98-36e8-4422-af2f-f817f13e74e0",
   "metadata": {},
   "outputs": [
    {
     "name": "stdout",
     "output_type": "stream",
     "text": [
      "[7777, 8, 8, 7, 5, 5, 5, 4, 3, 2, 2, 2]\n",
      "[8888, 8, 8, 7, 5, 5, 5, 4, 3, 2, 2, 2]\n"
     ]
    }
   ],
   "source": [
    "random_copy = random[:]\n",
    "\n",
    "random[0] = 7777\n",
    "\n",
    "print(random)\n",
    "print(random_copy)"
   ]
  },
  {
   "cell_type": "code",
   "execution_count": 61,
   "id": "703659e0-48ec-40e8-8bb8-098e8b653efb",
   "metadata": {},
   "outputs": [
    {
     "name": "stdout",
     "output_type": "stream",
     "text": [
      "[6666, 8, 8, 7, 5, 5, 5, 4, 3, 2, 2, 2]\n",
      "[7777, 8, 8, 7, 5]\n"
     ]
    }
   ],
   "source": [
    "random_copy = random[:5]\n",
    "\n",
    "random[0] = 6666\n",
    "\n",
    "print(random)\n",
    "print(random_copy)"
   ]
  },
  {
   "cell_type": "markdown",
   "id": "70982390-f3fb-4f9f-84f9-39500407e612",
   "metadata": {},
   "source": [
    "### Comparing List"
   ]
  },
  {
   "cell_type": "code",
   "execution_count": 67,
   "id": "b83ef60c-f5b1-466f-8066-001a9699349e",
   "metadata": {},
   "outputs": [],
   "source": [
    "spam = [ 2, 3, 5 , 6 ]\n",
    "pam = [ 2, 3, 5 , 6 ]\n",
    "cam = [ 2, 3 , 6 ]\n",
    "sam = [ 9, 7, 5 , 6 ]\n",
    "tam = [9, 7, 5]"
   ]
  },
  {
   "cell_type": "code",
   "execution_count": 63,
   "id": "519e5176-53dd-4a69-8d4e-47e7b2a81624",
   "metadata": {},
   "outputs": [
    {
     "data": {
      "text/plain": [
       "True"
      ]
     },
     "execution_count": 63,
     "metadata": {},
     "output_type": "execute_result"
    }
   ],
   "source": [
    "spam == pam"
   ]
  },
  {
   "cell_type": "code",
   "execution_count": 64,
   "id": "29c2df05-d89b-472d-a468-434b96be3ced",
   "metadata": {},
   "outputs": [
    {
     "data": {
      "text/plain": [
       "False"
      ]
     },
     "execution_count": 64,
     "metadata": {},
     "output_type": "execute_result"
    }
   ],
   "source": [
    "pam == cam   # Item to Item Comparison"
   ]
  },
  {
   "cell_type": "code",
   "execution_count": 69,
   "id": "966591c3-f643-4d8b-97c1-00d0a8417945",
   "metadata": {},
   "outputs": [
    {
     "data": {
      "text/plain": [
       "False"
      ]
     },
     "execution_count": 69,
     "metadata": {},
     "output_type": "execute_result"
    }
   ],
   "source": [
    "pam >= cam  # Item to Item Comparison, Item 5 (list pam, index 2) is not greater than Item 6 (list cam, index 2)"
   ]
  },
  {
   "cell_type": "code",
   "execution_count": 66,
   "id": "1890b31d-4351-4690-8dd2-84b41ca6750a",
   "metadata": {},
   "outputs": [
    {
     "data": {
      "text/plain": [
       "False"
      ]
     },
     "execution_count": 66,
     "metadata": {},
     "output_type": "execute_result"
    }
   ],
   "source": [
    "cam > sam   # Very First Element, 2 is not greater than 9"
   ]
  },
  {
   "cell_type": "code",
   "execution_count": 70,
   "id": "36fe5c39-e5b8-40bc-8561-f666aae9f40f",
   "metadata": {},
   "outputs": [
    {
     "data": {
      "text/plain": [
       "True"
      ]
     },
     "execution_count": 70,
     "metadata": {},
     "output_type": "execute_result"
    }
   ],
   "source": [
    "sam > tam   # If all elements are same, Higher No of item in list wins :)  "
   ]
  },
  {
   "cell_type": "code",
   "execution_count": null,
   "id": "527abc21-cce0-46da-ac59-ec1ecd9709ef",
   "metadata": {},
   "outputs": [],
   "source": []
  }
 ],
 "metadata": {
  "kernelspec": {
   "display_name": "Python 3",
   "language": "python",
   "name": "python3"
  },
  "language_info": {
   "codemirror_mode": {
    "name": "ipython",
    "version": 3
   },
   "file_extension": ".py",
   "mimetype": "text/x-python",
   "name": "python",
   "nbconvert_exporter": "python",
   "pygments_lexer": "ipython3",
   "version": "3.9.5"
  }
 },
 "nbformat": 4,
 "nbformat_minor": 5
}

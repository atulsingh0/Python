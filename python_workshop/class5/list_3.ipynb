{
 "cells": [
  {
   "cell_type": "markdown",
   "id": "12139ad6-1ee2-42fc-a129-2c19bac46fc4",
   "metadata": {},
   "source": [
    "## List #3 - Advance\n",
    "\n",
    "**properties**: ordered, iterable, mutable, can contain multiple data types  \n",
    "\n",
    "**mutable** - Elements can be changed  \n",
    "**ordered** - Elements have an order  \n",
    "**iterable** - Can run a loop on elements  \n",
    "**hashable** - Can use index to select element"
   ]
  },
  {
   "cell_type": "markdown",
   "id": "0af3d002-ae5b-4e69-b9ae-e107e5c0c1fb",
   "metadata": {},
   "source": [
    "### Iterate through multiple Sequences with `zip()` method"
   ]
  },
  {
   "cell_type": "code",
   "execution_count": 2,
   "id": "0e885995-f2bb-400d-817e-1c617cdcf4a5",
   "metadata": {},
   "outputs": [
    {
     "name": "stdout",
     "output_type": "stream",
     "text": [
      "a-1-z\n",
      "b-2-y\n",
      "c-3-x\n"
     ]
    }
   ],
   "source": [
    "list_1 = ['a', 'b', 'c']\n",
    "list_2 = [1, 2, 3]\n",
    "list_3 = ['z', 'y', 'x']\n",
    "\n",
    "for p, q, r in zip(list_1, list_2, list_3):\n",
    "    print(f\"{p}-{q}-{r}\")"
   ]
  },
  {
   "cell_type": "markdown",
   "id": "d2b43368-079c-4859-9f7b-46f0baa23104",
   "metadata": {},
   "source": [
    "To use `zip` method, the no of items in each list must be same"
   ]
  },
  {
   "cell_type": "markdown",
   "id": "9d0ae0ad-dbf4-460a-a227-286e4964676d",
   "metadata": {},
   "source": [
    "### List Comprehension  \n",
    "\n",
    "Python One liner way to create list"
   ]
  },
  {
   "cell_type": "code",
   "execution_count": 4,
   "id": "d6beece3-2156-45a1-8121-e385a982b2eb",
   "metadata": {},
   "outputs": [
    {
     "name": "stdout",
     "output_type": "stream",
     "text": [
      "[2, 6, 12, 16, 52]\n"
     ]
    }
   ],
   "source": [
    "random = [ 2, 5 , 6, 9, 12, 16, 7, 52, ] \n",
    "\n",
    "# Ask is - Create another list which HOLDs only EVEN no \n",
    "\n",
    "evn = []  # creat a empty list\n",
    "\n",
    "for item in random:\n",
    "    if item % 2 == 0:\n",
    "        evn.append(item)\n",
    "print(evn)"
   ]
  },
  {
   "cell_type": "code",
   "execution_count": 5,
   "id": "50c8e623-a41c-4640-912b-a5f55d149453",
   "metadata": {},
   "outputs": [
    {
     "name": "stdout",
     "output_type": "stream",
     "text": [
      "[2, 6, 12, 16, 52]\n"
     ]
    }
   ],
   "source": [
    "# List Comprehension \n",
    "\n",
    "evn_2 = [item for item in random if item%2 ==0]\n",
    "print(evn_2)"
   ]
  },
  {
   "cell_type": "code",
   "execution_count": 8,
   "id": "6db356c2-a5ac-485a-8e0c-6cea8fa4d5e2",
   "metadata": {},
   "outputs": [
    {
     "name": "stdout",
     "output_type": "stream",
     "text": [
      "[2, 0, 6, 0, 12, 16, 0, 52]\n"
     ]
    }
   ],
   "source": [
    "# Another Ask, - If Item is even keep it, else replace it with 0 \n",
    "\n",
    "evn = []  # creat a empty list\n",
    "\n",
    "for item in random:\n",
    "    if item % 2 == 0:\n",
    "        evn.append(item)\n",
    "    else:\n",
    "        evn.append(0)\n",
    "print(evn)"
   ]
  },
  {
   "cell_type": "code",
   "execution_count": 9,
   "id": "3434d32f-2b56-4cde-a41f-c22fbd2b4b0a",
   "metadata": {},
   "outputs": [
    {
     "name": "stdout",
     "output_type": "stream",
     "text": [
      "[2, 0, 6, 0, 12, 16, 0, 52]\n"
     ]
    }
   ],
   "source": [
    "# List Comprehenstion way \n",
    "\n",
    "evn_2 = [item if item%2 ==0 else 0 for item in random ]\n",
    "print(evn_2)"
   ]
  },
  {
   "cell_type": "markdown",
   "id": "3948d914-d027-4c40-86d6-36a24aea0fb6",
   "metadata": {},
   "source": [
    "**Nested For loop** with **List Comprehension**"
   ]
  },
  {
   "cell_type": "code",
   "execution_count": 11,
   "id": "bbe3fd87-32e8-4cb3-a9bb-9c6634ac48f3",
   "metadata": {},
   "outputs": [
    {
     "name": "stdout",
     "output_type": "stream",
     "text": [
      "Mon 1\n",
      "Mon 2\n",
      "Mon 3\n",
      "Tue 1\n",
      "Tue 2\n",
      "Tue 3\n",
      "Wed 1\n",
      "Wed 2\n",
      "Wed 3\n"
     ]
    }
   ],
   "source": [
    "week = ['Mon', 'Tue', 'Wed']\n",
    "month = ['1', '2', '3']\n",
    "\n",
    "# print all the combinations - \n",
    "\n",
    "for w in week:\n",
    "    for m in month:\n",
    "        print(w, m)"
   ]
  },
  {
   "cell_type": "code",
   "execution_count": 13,
   "id": "f2719082-bf67-4d98-8fc0-2cfc2aecbd8d",
   "metadata": {},
   "outputs": [
    {
     "name": "stdout",
     "output_type": "stream",
     "text": [
      "Mon 1\n",
      "Mon 2\n",
      "Mon 3\n",
      "Tue 1\n",
      "Tue 2\n",
      "Tue 3\n",
      "Wed 1\n",
      "Wed 2\n",
      "Wed 3\n"
     ]
    }
   ],
   "source": [
    "# List comprehention way - \n",
    "\n",
    "_= [print(w, m) for w in week for m in month ]"
   ]
  },
  {
   "cell_type": "markdown",
   "id": "9852c28f-7206-4954-8295-298caba08c6c",
   "metadata": {},
   "source": [
    "### Lists support math operation as well "
   ]
  },
  {
   "cell_type": "code",
   "execution_count": 16,
   "id": "63fbd22a-8260-4190-b4a4-bb5a9dda98a8",
   "metadata": {},
   "outputs": [
    {
     "data": {
      "text/plain": [
       "[2, 8, 3, 5, 2, 5, 11.2, 7, 8.3, 5, 4, 9, 2, 9.7]"
      ]
     },
     "execution_count": 16,
     "metadata": {},
     "output_type": "execute_result"
    }
   ],
   "source": [
    "random = [2, 8, 3, 5, 2, 5, 11.2, 7, 8.3 ,5, 4,9, 2, 9.7]\n",
    "\n",
    "random"
   ]
  },
  {
   "cell_type": "code",
   "execution_count": 17,
   "id": "66d4ca23-e9f1-47c6-8349-546d956504f4",
   "metadata": {},
   "outputs": [
    {
     "data": {
      "text/plain": [
       "11.2"
      ]
     },
     "execution_count": 17,
     "metadata": {},
     "output_type": "execute_result"
    }
   ],
   "source": [
    "max(random)"
   ]
  },
  {
   "cell_type": "code",
   "execution_count": 18,
   "id": "dbd7b3c3-2372-4ec3-8cf9-0d01cc38b2f9",
   "metadata": {},
   "outputs": [
    {
     "data": {
      "text/plain": [
       "2"
      ]
     },
     "execution_count": 18,
     "metadata": {},
     "output_type": "execute_result"
    }
   ],
   "source": [
    "min(random)"
   ]
  },
  {
   "cell_type": "code",
   "execution_count": 19,
   "id": "79b12631-8f1e-4a45-a506-1b84063e3726",
   "metadata": {},
   "outputs": [
    {
     "data": {
      "text/plain": [
       "81.2"
      ]
     },
     "execution_count": 19,
     "metadata": {},
     "output_type": "execute_result"
    }
   ],
   "source": [
    "sum(random)"
   ]
  },
  {
   "cell_type": "code",
   "execution_count": 21,
   "id": "0cde7ea3-92ad-4475-b35e-ca015d18719c",
   "metadata": {},
   "outputs": [
    {
     "data": {
      "text/plain": [
       "5.8"
      ]
     },
     "execution_count": 21,
     "metadata": {},
     "output_type": "execute_result"
    }
   ],
   "source": [
    "# calculate average as - \n",
    "sum(random) / len(random)"
   ]
  },
  {
   "cell_type": "code",
   "execution_count": null,
   "id": "8711b638-0604-4ca7-9234-495f2da19d61",
   "metadata": {},
   "outputs": [],
   "source": []
  }
 ],
 "metadata": {
  "kernelspec": {
   "display_name": "Python 3",
   "language": "python",
   "name": "python3"
  },
  "language_info": {
   "codemirror_mode": {
    "name": "ipython",
    "version": 3
   },
   "file_extension": ".py",
   "mimetype": "text/x-python",
   "name": "python",
   "nbconvert_exporter": "python",
   "pygments_lexer": "ipython3",
   "version": "3.9.5"
  }
 },
 "nbformat": 4,
 "nbformat_minor": 5
}

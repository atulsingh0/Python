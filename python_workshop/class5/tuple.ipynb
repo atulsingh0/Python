{
 "cells": [
  {
   "cell_type": "markdown",
   "id": "7109895d-cb4f-42f1-b47a-f9e3f5357fdb",
   "metadata": {},
   "source": [
    "## Tuple  \n",
    "\n",
    "**properties:** immutable, ordered, iterable, hashable, can contain multiple data types\n",
    "\n",
    "**immutable** - Can't be changed  \n",
    "**ordered** - Have an order  \n",
    "**iterable** - Can run a loop on elements  \n",
    "**hashable** - Can use index to select element"
   ]
  },
  {
   "cell_type": "markdown",
   "id": "357ed7a1-2ec7-4e5f-b0a5-5a7d5320a718",
   "metadata": {},
   "source": [
    "#### Creating tuple data type with ()"
   ]
  },
  {
   "cell_type": "code",
   "execution_count": 53,
   "id": "0b86124e-b7c8-41ca-8e80-82c6d1ae2461",
   "metadata": {},
   "outputs": [
    {
     "name": "stdout",
     "output_type": "stream",
     "text": [
      "()\n"
     ]
    }
   ],
   "source": [
    "empty_tuple = ()\n",
    "\n",
    "print(empty_tuple)"
   ]
  },
  {
   "cell_type": "code",
   "execution_count": 54,
   "id": "7eb5ae53-32ae-45eb-8733-a01eb70befcd",
   "metadata": {},
   "outputs": [
    {
     "data": {
      "text/plain": [
       "tuple"
      ]
     },
     "execution_count": 54,
     "metadata": {},
     "output_type": "execute_result"
    }
   ],
   "source": [
    "type(empty_tuple)"
   ]
  },
  {
   "cell_type": "markdown",
   "id": "21982769-4e82-4a30-a16d-b2669e59f83a",
   "metadata": {},
   "source": [
    "#### Creating tuple with single / multiple value  "
   ]
  },
  {
   "cell_type": "code",
   "execution_count": 55,
   "id": "47630908-eddf-4c39-ab4c-d8cb5a2c70aa",
   "metadata": {},
   "outputs": [],
   "source": [
    "one_tup = ('addy',)   # If creating tuple with one value only, REMEMBER to put COMMA , after the value \n",
    "\n",
    "multi_tup = ('One', 2, 3, 'Four', 5.6, 2 )  # tuple can have multiple type of data"
   ]
  },
  {
   "cell_type": "code",
   "execution_count": 56,
   "id": "5ca12189-9ca5-41af-bcc5-100f1568cb89",
   "metadata": {},
   "outputs": [
    {
     "name": "stdout",
     "output_type": "stream",
     "text": [
      "('addy',)\n",
      "<class 'tuple'>\n"
     ]
    }
   ],
   "source": [
    "print(one_tup)\n",
    "print(type(one_tup))"
   ]
  },
  {
   "cell_type": "code",
   "execution_count": 57,
   "id": "1aaf134f-f87d-4179-a2e6-d533bd3d615f",
   "metadata": {},
   "outputs": [
    {
     "name": "stdout",
     "output_type": "stream",
     "text": [
      "('One', 2, 3, 'Four', 5.6, 2)\n",
      "<class 'tuple'>\n"
     ]
    }
   ],
   "source": [
    "print(multi_tup)\n",
    "print(type(multi_tup))"
   ]
  },
  {
   "cell_type": "markdown",
   "id": "467b8ab1-6fc3-4719-a74d-b53cb67b0d5e",
   "metadata": {},
   "source": [
    "It can also be created with `tuple()` function"
   ]
  },
  {
   "cell_type": "code",
   "execution_count": 58,
   "id": "06afd630-7c60-46ec-91c4-2a37d5cfd44d",
   "metadata": {},
   "outputs": [
    {
     "name": "stdout",
     "output_type": "stream",
     "text": [
      "(1, 'pre', 3.8, 100, 2.3, 'six')\n",
      "<class 'tuple'>\n"
     ]
    }
   ],
   "source": [
    "thr = tuple([1, 'pre', 3.8, 100, 2.3, 'six']) \n",
    "\n",
    "print(thr)\n",
    "print(type(thr))"
   ]
  },
  {
   "cell_type": "markdown",
   "id": "813df795-2385-413e-aad7-f7fd743c1b12",
   "metadata": {},
   "source": [
    "### Tuple Operations  \n",
    "\n",
    "#### Combine tuple by Using + "
   ]
  },
  {
   "cell_type": "code",
   "execution_count": 59,
   "id": "3527dbf1-6a41-40e8-bb6a-df6f5b0091a6",
   "metadata": {},
   "outputs": [
    {
     "name": "stdout",
     "output_type": "stream",
     "text": [
      "(1, 'pre', 3.8, 100, 2.3, 'six')\n",
      "('One', 2, 3, 'Four', 5.6, 2)\n"
     ]
    }
   ],
   "source": [
    "print(thr)\n",
    "print(multi_tup)"
   ]
  },
  {
   "cell_type": "code",
   "execution_count": 60,
   "id": "58f38960-a73e-4041-82b3-db55cea3d6e8",
   "metadata": {},
   "outputs": [
    {
     "name": "stdout",
     "output_type": "stream",
     "text": [
      "(1, 'pre', 3.8, 100, 2.3, 'six', 'One', 2, 3, 'Four', 5.6, 2)\n"
     ]
    }
   ],
   "source": [
    "com_tup = thr + multi_tup\n",
    "\n",
    "print(com_tup)"
   ]
  },
  {
   "cell_type": "markdown",
   "id": "2701b942-94fb-4aa8-b41e-abade6d79225",
   "metadata": {},
   "source": [
    "#### Dublicate item with *"
   ]
  },
  {
   "cell_type": "code",
   "execution_count": 61,
   "id": "c490d765-6cc0-43d9-9b1d-ddad069f7fd6",
   "metadata": {},
   "outputs": [
    {
     "name": "stdout",
     "output_type": "stream",
     "text": [
      "('addy',)\n"
     ]
    },
    {
     "data": {
      "text/plain": [
       "('addy', 'addy', 'addy')"
      ]
     },
     "execution_count": 61,
     "metadata": {},
     "output_type": "execute_result"
    }
   ],
   "source": [
    "print(one_tup)\n",
    "\n",
    "one_tup * 3"
   ]
  },
  {
   "cell_type": "markdown",
   "id": "2a0604f6-e9b9-46c6-91ad-70c589f3d43c",
   "metadata": {},
   "source": [
    "### Compare Touples  \n",
    "Compare happends element by element, i.e - first element to first and so on..."
   ]
  },
  {
   "cell_type": "code",
   "execution_count": 62,
   "id": "4951ec0f-bea7-42fb-9d49-c4685c26f750",
   "metadata": {},
   "outputs": [
    {
     "data": {
      "text/plain": [
       "False"
      ]
     },
     "execution_count": 62,
     "metadata": {},
     "output_type": "execute_result"
    }
   ],
   "source": [
    "one_tup == multi_tup"
   ]
  },
  {
   "cell_type": "code",
   "execution_count": 63,
   "id": "0be3a888-1df3-4381-a2ad-f8e12783e704",
   "metadata": {},
   "outputs": [
    {
     "data": {
      "text/plain": [
       "False"
      ]
     },
     "execution_count": 63,
     "metadata": {},
     "output_type": "execute_result"
    }
   ],
   "source": [
    "thr == multi_tup"
   ]
  },
  {
   "cell_type": "markdown",
   "id": "a7108786-6a2c-4e98-89db-f601fc4b6e75",
   "metadata": {},
   "source": [
    "### Iterable  "
   ]
  },
  {
   "cell_type": "code",
   "execution_count": 64,
   "id": "2e8579a4-d9bb-495c-8371-3afd5f915bbc",
   "metadata": {},
   "outputs": [
    {
     "name": "stdout",
     "output_type": "stream",
     "text": [
      "One\n",
      "2\n",
      "3\n",
      "Four\n",
      "5.6\n",
      "2\n"
     ]
    }
   ],
   "source": [
    "for item in multi_tup:\n",
    "    print(item)"
   ]
  },
  {
   "cell_type": "markdown",
   "id": "684c8afe-64a9-4aff-855a-7fe1d7969d46",
   "metadata": {},
   "source": [
    "### Hashable"
   ]
  },
  {
   "cell_type": "code",
   "execution_count": 65,
   "id": "35f59bd9-fd90-4bca-83bd-50cef9e1c9cf",
   "metadata": {},
   "outputs": [
    {
     "data": {
      "text/plain": [
       "3"
      ]
     },
     "execution_count": 65,
     "metadata": {},
     "output_type": "execute_result"
    }
   ],
   "source": [
    "# print 3rd value \n",
    "multi_tup[2]"
   ]
  },
  {
   "cell_type": "code",
   "execution_count": 66,
   "id": "4ba72438-7786-4faf-8f8c-26b26ec046b0",
   "metadata": {},
   "outputs": [
    {
     "data": {
      "text/plain": [
       "2"
      ]
     },
     "execution_count": 66,
     "metadata": {},
     "output_type": "execute_result"
    }
   ],
   "source": [
    "multi_tup[-1]"
   ]
  },
  {
   "cell_type": "code",
   "execution_count": 67,
   "id": "6f44b939-18b3-403e-8a9b-6c4b3b750a25",
   "metadata": {},
   "outputs": [
    {
     "data": {
      "text/plain": [
       "(3, 'Four')"
      ]
     },
     "execution_count": 67,
     "metadata": {},
     "output_type": "execute_result"
    }
   ],
   "source": [
    "multi_tup[2:4]"
   ]
  },
  {
   "cell_type": "markdown",
   "id": "b24b232b-f0c4-423f-9f0b-12941481ca4d",
   "metadata": {},
   "source": [
    "### Modify a tuple  \n",
    "You can't, like String , tuples are immutables, so you cant change any elements it holds.  \n",
    "You can create another one by modifying the first one."
   ]
  },
  {
   "cell_type": "code",
   "execution_count": 68,
   "id": "f856ad37-9d2a-4780-afde-c0944bae45dd",
   "metadata": {},
   "outputs": [
    {
     "ename": "TypeError",
     "evalue": "'tuple' object does not support item assignment",
     "output_type": "error",
     "traceback": [
      "\u001b[1;31m---------------------------------------------------------------------------\u001b[0m",
      "\u001b[1;31mTypeError\u001b[0m                                 Traceback (most recent call last)",
      "\u001b[1;32m<ipython-input-68-bd5f4fcce3c5>\u001b[0m in \u001b[0;36m<module>\u001b[1;34m\u001b[0m\n\u001b[0;32m      1\u001b[0m \u001b[1;31m# Let's try to modify 3nd value\u001b[0m\u001b[1;33m\u001b[0m\u001b[1;33m\u001b[0m\u001b[1;33m\u001b[0m\u001b[0m\n\u001b[0;32m      2\u001b[0m \u001b[1;33m\u001b[0m\u001b[0m\n\u001b[1;32m----> 3\u001b[1;33m \u001b[0mmulti_tup\u001b[0m\u001b[1;33m[\u001b[0m\u001b[1;36m2\u001b[0m\u001b[1;33m]\u001b[0m \u001b[1;33m=\u001b[0m \u001b[1;36m6\u001b[0m\u001b[1;33m\u001b[0m\u001b[1;33m\u001b[0m\u001b[0m\n\u001b[0m",
      "\u001b[1;31mTypeError\u001b[0m: 'tuple' object does not support item assignment"
     ]
    }
   ],
   "source": [
    "# Let's try to modify 3nd value \n",
    "\n",
    "multi_tup[2] = 6"
   ]
  },
  {
   "cell_type": "code",
   "execution_count": 69,
   "id": "8f287c6a-3d3c-417a-9b3e-ccb24436f909",
   "metadata": {},
   "outputs": [
    {
     "name": "stdout",
     "output_type": "stream",
     "text": [
      "('One', 2, 3, 'Four', 5.6, 2)\n"
     ]
    }
   ],
   "source": [
    "print(multi_tup)"
   ]
  },
  {
   "cell_type": "code",
   "execution_count": 70,
   "id": "fd74632b-a7fd-4592-85cf-6a3441b99dc0",
   "metadata": {},
   "outputs": [
    {
     "name": "stdout",
     "output_type": "stream",
     "text": [
      "('One', 2, 5, 'Four', 5.6, 2)\n"
     ]
    }
   ],
   "source": [
    "mod_tup = multi_tup[:2]+ (5,) + multi_tup[3:]\n",
    "\n",
    "print(mod_tup)"
   ]
  },
  {
   "cell_type": "code",
   "execution_count": null,
   "id": "951a45dc-712b-4bb2-9364-94369b7affa9",
   "metadata": {},
   "outputs": [],
   "source": []
  }
 ],
 "metadata": {
  "kernelspec": {
   "display_name": "Python 3",
   "language": "python",
   "name": "python3"
  },
  "language_info": {
   "codemirror_mode": {
    "name": "ipython",
    "version": 3
   },
   "file_extension": ".py",
   "mimetype": "text/x-python",
   "name": "python",
   "nbconvert_exporter": "python",
   "pygments_lexer": "ipython3",
   "version": "3.9.5"
  }
 },
 "nbformat": 4,
 "nbformat_minor": 5
}

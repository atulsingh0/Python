{
 "cells": [
  {
   "cell_type": "markdown",
   "id": "f298cedb-ec05-4c56-af4b-6143d573ee9b",
   "metadata": {},
   "source": [
    "## List #1\n",
    "\n",
    "**properties**: ordered, iterable, mutable, can contain multiple data types  \n",
    "\n",
    "**mutable** - Elements can be changed  \n",
    "**ordered** - Elements have an order  \n",
    "**iterable** - Can run a loop on elements  \n",
    "**hashable** - Can use index to select element"
   ]
  },
  {
   "cell_type": "markdown",
   "id": "53a5efb3-8b6f-4d10-a65e-224f1cc06e9f",
   "metadata": {},
   "source": [
    "### Creating list with `[]`  method"
   ]
  },
  {
   "cell_type": "code",
   "execution_count": 2,
   "id": "359a967c-eb86-4b1c-8a0a-4fa07e0b2e39",
   "metadata": {},
   "outputs": [],
   "source": [
    "emp1 = list()\n",
    "emp2 = []"
   ]
  },
  {
   "cell_type": "code",
   "execution_count": 3,
   "id": "a23ee712-e5ba-44f7-9421-329dd1adef86",
   "metadata": {},
   "outputs": [
    {
     "name": "stdout",
     "output_type": "stream",
     "text": [
      "[]\n",
      "<class 'list'>\n"
     ]
    }
   ],
   "source": [
    "print(emp1)\n",
    "print(type(emp1))"
   ]
  },
  {
   "cell_type": "code",
   "execution_count": 4,
   "id": "8c59495a-a8cd-44f2-bc60-c8eab2294c23",
   "metadata": {},
   "outputs": [
    {
     "name": "stdout",
     "output_type": "stream",
     "text": [
      "[]\n",
      "<class 'list'>\n"
     ]
    }
   ],
   "source": [
    "print(emp2)\n",
    "print(type(emp2))"
   ]
  },
  {
   "cell_type": "code",
   "execution_count": 5,
   "id": "e8f0ef05-7454-41dc-b7ef-758b5e95fb99",
   "metadata": {},
   "outputs": [],
   "source": [
    "week = ['Mon', 'Tue', 'Wed', 'Thu', 'Fri', 'Sat', 'Sun']\n",
    "leap_year = [2000, 2004, 2008] \n",
    "random_data = ['One', 2, 3.4, [5, 'Six']]   "
   ]
  },
  {
   "cell_type": "code",
   "execution_count": 6,
   "id": "6e479422-c366-4a9b-8e7d-51fe18d58ea9",
   "metadata": {},
   "outputs": [
    {
     "name": "stdout",
     "output_type": "stream",
     "text": [
      "<class 'list'>\n",
      "<class 'list'>\n",
      "<class 'list'>\n"
     ]
    }
   ],
   "source": [
    "print(type(week))\n",
    "print(type(leap_year))\n",
    "print(type(random_data))"
   ]
  },
  {
   "cell_type": "markdown",
   "id": "ab20a6a9-bdeb-4b13-b9bf-71117decdea3",
   "metadata": {},
   "source": [
    "### Creating with `list()` method"
   ]
  },
  {
   "cell_type": "code",
   "execution_count": 7,
   "id": "e1ad8937-90b2-46b7-b51b-938f8a73a1c8",
   "metadata": {},
   "outputs": [
    {
     "name": "stdout",
     "output_type": "stream",
     "text": [
      "['b', 'a', 'n', 'a', 'n', 'a']\n",
      "<class 'list'>\n"
     ]
    }
   ],
   "source": [
    "chr = list('banana')\n",
    "print(chr)\n",
    "print(type(chr))"
   ]
  },
  {
   "cell_type": "code",
   "execution_count": 11,
   "id": "b1da00f2-de35-436b-9dfc-cf656009cb96",
   "metadata": {},
   "outputs": [
    {
     "name": "stdout",
     "output_type": "stream",
     "text": [
      "['this', 'data', 'is', 'so', 'random']\n"
     ]
    }
   ],
   "source": [
    "random_words = list(['this', 'data', 'is', 'so', 'random'])\n",
    "print(random_words)"
   ]
  },
  {
   "cell_type": "markdown",
   "id": "05ab3326-ea2f-4d06-b389-60403a536d5a",
   "metadata": {},
   "source": [
    "### String `split()` method returns a `list`"
   ]
  },
  {
   "cell_type": "code",
   "execution_count": 8,
   "id": "05ebf69e-6116-4ab1-8ecc-156cb8519c67",
   "metadata": {},
   "outputs": [],
   "source": [
    "lne = 'Baa baa black sheep Twinkle Twinkle little star'\n",
    "\n",
    "words = lne.split()"
   ]
  },
  {
   "cell_type": "code",
   "execution_count": 9,
   "id": "a858b30f-5b8d-4fe4-8ae2-3093f6d9b0d3",
   "metadata": {},
   "outputs": [
    {
     "name": "stdout",
     "output_type": "stream",
     "text": [
      "['Baa', 'baa', 'black', 'sheep', 'Twinkle', 'Twinkle', 'little', 'star']\n",
      "<class 'list'>\n"
     ]
    }
   ],
   "source": [
    "print(words)\n",
    "print(type(words))"
   ]
  },
  {
   "cell_type": "code",
   "execution_count": 12,
   "id": "5eb41891-9e80-46a6-92a8-53e7e858f4b3",
   "metadata": {},
   "outputs": [
    {
     "name": "stdout",
     "output_type": "stream",
     "text": [
      "['jul', '4', '2021']\n"
     ]
    }
   ],
   "source": [
    "free_date = 'jul/4/2021'\n",
    "\n",
    "sep_date = free_date.split('/')\n",
    "print(sep_date)"
   ]
  },
  {
   "cell_type": "markdown",
   "id": "036b0f34-aa40-403a-8638-41b5782c8820",
   "metadata": {},
   "source": [
    "### Get an Item by offset (Index)"
   ]
  },
  {
   "cell_type": "code",
   "execution_count": 13,
   "id": "526bfd4d-74c8-4e27-a38e-a92551dc028b",
   "metadata": {},
   "outputs": [
    {
     "name": "stdout",
     "output_type": "stream",
     "text": [
      "['Mon', 'Tue', 'Wed', 'Thu', 'Fri', 'Sat', 'Sun']\n"
     ]
    }
   ],
   "source": [
    "print(week)"
   ]
  },
  {
   "cell_type": "code",
   "execution_count": 14,
   "id": "f6928e00-fda3-43a0-9b53-576a8f933b98",
   "metadata": {},
   "outputs": [
    {
     "data": {
      "text/plain": [
       "'Mon'"
      ]
     },
     "execution_count": 14,
     "metadata": {},
     "output_type": "execute_result"
    }
   ],
   "source": [
    "week[0]"
   ]
  },
  {
   "cell_type": "code",
   "execution_count": 15,
   "id": "cd5c561d-faa0-4c49-b6f0-e56b731d71be",
   "metadata": {},
   "outputs": [
    {
     "data": {
      "text/plain": [
       "'Fri'"
      ]
     },
     "execution_count": 15,
     "metadata": {},
     "output_type": "execute_result"
    }
   ],
   "source": [
    "week[4]"
   ]
  },
  {
   "cell_type": "code",
   "execution_count": 19,
   "id": "4a841f87-8550-4576-835e-22166e4bb61f",
   "metadata": {},
   "outputs": [
    {
     "data": {
      "text/plain": [
       "'Sun'"
      ]
     },
     "execution_count": 19,
     "metadata": {},
     "output_type": "execute_result"
    }
   ],
   "source": [
    "week[-1]"
   ]
  },
  {
   "cell_type": "code",
   "execution_count": 20,
   "id": "9d1cbc30-0ca4-49c7-bc44-73a493a3dac1",
   "metadata": {},
   "outputs": [
    {
     "data": {
      "text/plain": [
       "'Fri'"
      ]
     },
     "execution_count": 20,
     "metadata": {},
     "output_type": "execute_result"
    }
   ],
   "source": [
    "week[-3]"
   ]
  },
  {
   "cell_type": "markdown",
   "id": "d325ecf0-8778-46b0-a335-611b9fee1002",
   "metadata": {},
   "source": [
    "### Get Item with Slice"
   ]
  },
  {
   "cell_type": "code",
   "execution_count": 16,
   "id": "bb7ddaac-52e7-445f-8b76-06d5f19490a3",
   "metadata": {},
   "outputs": [
    {
     "data": {
      "text/plain": [
       "['Wed', 'Thu', 'Fri', 'Sat']"
      ]
     },
     "execution_count": 16,
     "metadata": {},
     "output_type": "execute_result"
    }
   ],
   "source": [
    "week[2:6]"
   ]
  },
  {
   "cell_type": "code",
   "execution_count": 17,
   "id": "1779dd3e-6c81-4202-9b11-0a8fe4f6a4b4",
   "metadata": {},
   "outputs": [
    {
     "data": {
      "text/plain": [
       "['Mon', 'Wed', 'Fri', 'Sun']"
      ]
     },
     "execution_count": 17,
     "metadata": {},
     "output_type": "execute_result"
    }
   ],
   "source": [
    "week[::2]"
   ]
  },
  {
   "cell_type": "code",
   "execution_count": 22,
   "id": "84cb7bd6-c67c-47b6-8d74-52ea6a7a14db",
   "metadata": {},
   "outputs": [
    {
     "data": {
      "text/plain": [
       "['Tue', 'Wed', 'Thu', 'Fri']"
      ]
     },
     "execution_count": 22,
     "metadata": {},
     "output_type": "execute_result"
    }
   ],
   "source": [
    "week[1:5]"
   ]
  },
  {
   "cell_type": "code",
   "execution_count": 23,
   "id": "4687286a-302b-46eb-80a1-918e2de6721d",
   "metadata": {},
   "outputs": [
    {
     "data": {
      "text/plain": [
       "['Mon', 'Tue', 'Wed', 'Thu', 'Fri', 'Sat', 'Sun']"
      ]
     },
     "execution_count": 23,
     "metadata": {},
     "output_type": "execute_result"
    }
   ],
   "source": [
    "week[:]"
   ]
  },
  {
   "cell_type": "code",
   "execution_count": 24,
   "id": "16c43444-0730-469e-92b1-74f06075d7c9",
   "metadata": {},
   "outputs": [
    {
     "data": {
      "text/plain": [
       "['Mon', 'Tue', 'Wed']"
      ]
     },
     "execution_count": 24,
     "metadata": {},
     "output_type": "execute_result"
    }
   ],
   "source": [
    "week[:3]"
   ]
  },
  {
   "cell_type": "code",
   "execution_count": 26,
   "id": "e69e9e44-470d-43b8-a796-1ed85cb73da3",
   "metadata": {},
   "outputs": [
    {
     "data": {
      "text/plain": [
       "['Sat', 'Sun']"
      ]
     },
     "execution_count": 26,
     "metadata": {},
     "output_type": "execute_result"
    }
   ],
   "source": [
    "week[5:]"
   ]
  },
  {
   "cell_type": "code",
   "execution_count": 27,
   "id": "3c813637-d636-4639-8f09-b672a53dc513",
   "metadata": {},
   "outputs": [
    {
     "name": "stdout",
     "output_type": "stream",
     "text": [
      "['One', 2, 3.4, [5, 'Six']]\n"
     ]
    }
   ],
   "source": [
    "print(random_data)"
   ]
  },
  {
   "cell_type": "code",
   "execution_count": 28,
   "id": "3b108958-de7c-4392-a713-59dd3a02c741",
   "metadata": {},
   "outputs": [
    {
     "data": {
      "text/plain": [
       "3.4"
      ]
     },
     "execution_count": 28,
     "metadata": {},
     "output_type": "execute_result"
    }
   ],
   "source": [
    "random_data[2]"
   ]
  },
  {
   "cell_type": "code",
   "execution_count": 30,
   "id": "2b08f326-bf11-47ad-b129-1a38b353a36a",
   "metadata": {},
   "outputs": [
    {
     "data": {
      "text/plain": [
       "['One', 2, 3.4]"
      ]
     },
     "execution_count": 30,
     "metadata": {},
     "output_type": "execute_result"
    }
   ],
   "source": [
    "random_data[:3]"
   ]
  },
  {
   "cell_type": "code",
   "execution_count": 31,
   "id": "141596a0-cd2a-464c-be89-010016f8b046",
   "metadata": {},
   "outputs": [
    {
     "data": {
      "text/plain": [
       "[3.4, [5, 'Six']]"
      ]
     },
     "execution_count": 31,
     "metadata": {},
     "output_type": "execute_result"
    }
   ],
   "source": [
    "random_data[2:]"
   ]
  },
  {
   "cell_type": "code",
   "execution_count": 32,
   "id": "08fe75bc-9b38-461c-8d73-dfd9c5a32dd2",
   "metadata": {},
   "outputs": [
    {
     "data": {
      "text/plain": [
       "[5, 'Six']"
      ]
     },
     "execution_count": 32,
     "metadata": {},
     "output_type": "execute_result"
    }
   ],
   "source": [
    "random_data[-1]"
   ]
  },
  {
   "cell_type": "code",
   "execution_count": 33,
   "id": "c79a679d-427b-44c2-b919-c3b7240ad1e8",
   "metadata": {},
   "outputs": [
    {
     "data": {
      "text/plain": [
       "5"
      ]
     },
     "execution_count": 33,
     "metadata": {},
     "output_type": "execute_result"
    }
   ],
   "source": [
    "# You can use another Index to fetch element/item from last element which is a list \n",
    "\n",
    "random_data[-1][0]"
   ]
  },
  {
   "cell_type": "markdown",
   "id": "66de71d8-192e-4da5-97bf-7bb8379754f4",
   "metadata": {},
   "source": [
    "### List Operations"
   ]
  },
  {
   "cell_type": "markdown",
   "id": "6db192db-f63c-4060-b214-04d9256031e7",
   "metadata": {},
   "source": [
    "### Combine with + "
   ]
  },
  {
   "cell_type": "code",
   "execution_count": 35,
   "id": "b1c80e4b-9357-4ac7-b6b5-15873f0fc03e",
   "metadata": {},
   "outputs": [
    {
     "name": "stdout",
     "output_type": "stream",
     "text": [
      "['Baa', 'baa', 'black', 'sheep', 'Twinkle', 'Twinkle', 'little', 'star', 2000, 2004, 2008]\n"
     ]
    }
   ],
   "source": [
    "raw_data = words + leap_year \n",
    "\n",
    "print(raw_data)"
   ]
  },
  {
   "cell_type": "markdown",
   "id": "7046215a-a885-4a61-9761-8defe673d1de",
   "metadata": {},
   "source": [
    "### Duplicate with *"
   ]
  },
  {
   "cell_type": "code",
   "execution_count": 37,
   "id": "20bc5bc7-64c0-4f11-9834-73bcc014ccc8",
   "metadata": {},
   "outputs": [
    {
     "name": "stdout",
     "output_type": "stream",
     "text": [
      "[2000, 2004, 2008]\n",
      "[2000, 2004, 2008, 2000, 2004, 2008, 2000, 2004, 2008]\n"
     ]
    }
   ],
   "source": [
    "leap = leap_year * 3\n",
    "\n",
    "print(leap_year)\n",
    "print(leap)"
   ]
  },
  {
   "cell_type": "markdown",
   "id": "d0ad125b-b465-4876-a57a-e035290b4cb6",
   "metadata": {},
   "source": [
    "### List Methods  \n",
    "\n",
    "### Add an item at END of list with `append()` method"
   ]
  },
  {
   "cell_type": "code",
   "execution_count": 39,
   "id": "8055e1a4-4181-4d7d-b0fb-d1976f74c951",
   "metadata": {},
   "outputs": [
    {
     "name": "stdout",
     "output_type": "stream",
     "text": [
      "['One', 2, 3.4, [5, 'Six']]\n"
     ]
    }
   ],
   "source": [
    "print(random_data)"
   ]
  },
  {
   "cell_type": "code",
   "execution_count": 40,
   "id": "4cf78788-3a18-450d-88f6-696122dc59af",
   "metadata": {},
   "outputs": [
    {
     "name": "stdout",
     "output_type": "stream",
     "text": [
      "['One', 2, 3.4, [5, 'Six'], 'me']\n"
     ]
    }
   ],
   "source": [
    "random_data.append('me')\n",
    "\n",
    "print(random_data)"
   ]
  },
  {
   "cell_type": "code",
   "execution_count": 42,
   "id": "c6887789-0799-4677-bf55-146b00ca709a",
   "metadata": {},
   "outputs": [
    {
     "name": "stdout",
     "output_type": "stream",
     "text": [
      "['One', 2, 3.4, [5, 'Six'], 'me', ['us', 'you']]\n"
     ]
    }
   ],
   "source": [
    "random_data.append(['us','you'])\n",
    "\n",
    "print(random_data)\n"
   ]
  },
  {
   "cell_type": "code",
   "execution_count": 43,
   "id": "6620c547-ce65-42b8-b345-a6977eec4930",
   "metadata": {},
   "outputs": [
    {
     "name": "stdout",
     "output_type": "stream",
     "text": [
      "['One', 2, 3.4, [5, 'Six'], 'me', ['us', 'you'], 99]\n"
     ]
    }
   ],
   "source": [
    "random_data.append(99)\n",
    "\n",
    "print(random_data)"
   ]
  },
  {
   "cell_type": "markdown",
   "id": "4d2b7c60-648a-4ad3-8eab-fb1879db718e",
   "metadata": {},
   "source": [
    "### Add an item/s at END of list with `extend()` method"
   ]
  },
  {
   "cell_type": "code",
   "execution_count": 44,
   "id": "3a7469c0-d80a-4696-b0be-282839845c8d",
   "metadata": {},
   "outputs": [
    {
     "name": "stdout",
     "output_type": "stream",
     "text": [
      "['Mon', 'Tue', 'Wed', 'Thu', 'Fri', 'Sat', 'Sun']\n"
     ]
    }
   ],
   "source": [
    "print(week)"
   ]
  },
  {
   "cell_type": "code",
   "execution_count": 45,
   "id": "4cfb634e-c692-4d95-8359-118cc5e1aba3",
   "metadata": {},
   "outputs": [
    {
     "name": "stdout",
     "output_type": "stream",
     "text": [
      "['Mon', 'Tue', 'Wed', 'Thu', 'Fri', 'Sat', 'Sun', 'Jan', 'Feb, Mar']\n"
     ]
    }
   ],
   "source": [
    "week.extend(['Jan', 'Feb, Mar'])\n",
    "\n",
    "print(week)"
   ]
  },
  {
   "cell_type": "markdown",
   "id": "de30cb1c-2bdb-44ff-847c-2148fb688215",
   "metadata": {},
   "source": [
    "#### You can acheive the same with + "
   ]
  },
  {
   "cell_type": "code",
   "execution_count": 46,
   "id": "bb203520-d1e5-4197-a02a-28ae055448c0",
   "metadata": {},
   "outputs": [
    {
     "data": {
      "text/plain": [
       "['Mon', 'Tue', 'Wed', 'Thu', 'Fri', 'Sat', 'Sun', 'Jan', 'Feb, Mar']"
      ]
     },
     "execution_count": 46,
     "metadata": {},
     "output_type": "execute_result"
    }
   ],
   "source": [
    "week"
   ]
  },
  {
   "cell_type": "code",
   "execution_count": 47,
   "id": "59020b25-5930-4873-a0c1-900704fb8747",
   "metadata": {},
   "outputs": [
    {
     "name": "stdout",
     "output_type": "stream",
     "text": [
      "['Mon', 'Tue', 'Wed', 'Thu', 'Fri', 'Sat', 'Sun', 'Jan', 'Feb, Mar', 4, 11, 2]\n"
     ]
    }
   ],
   "source": [
    "week = week + [4, 11, 2]\n",
    "\n",
    "print(week)"
   ]
  },
  {
   "cell_type": "markdown",
   "id": "99b24783-b015-4bda-b081-ee4bec66aabf",
   "metadata": {},
   "source": [
    "### Add an item/s at particular Index of list with `insert()` method"
   ]
  },
  {
   "cell_type": "code",
   "execution_count": 48,
   "id": "20abb05a-ecae-40b2-b088-ecb74d2b0da8",
   "metadata": {},
   "outputs": [
    {
     "data": {
      "text/plain": [
       "[2000, 2004, 2008]"
      ]
     },
     "execution_count": 48,
     "metadata": {},
     "output_type": "execute_result"
    }
   ],
   "source": [
    "leap_year"
   ]
  },
  {
   "cell_type": "code",
   "execution_count": 49,
   "id": "db49ca58-678a-4f9f-8383-470fb1aef39f",
   "metadata": {},
   "outputs": [
    {
     "name": "stdout",
     "output_type": "stream",
     "text": [
      "[2000, 99, 2004, 2008]\n"
     ]
    }
   ],
   "source": [
    "# to add 99 at Index 1 \n",
    "\n",
    "leap_year.insert(1, 99)\n",
    "\n",
    "print(leap_year)"
   ]
  },
  {
   "cell_type": "code",
   "execution_count": 51,
   "id": "c86178c6-c034-4514-806f-9866533f6200",
   "metadata": {},
   "outputs": [
    {
     "name": "stdout",
     "output_type": "stream",
     "text": [
      "[2000, 99, 2004, 2008, 'pqr']\n"
     ]
    }
   ],
   "source": [
    "# If particular index does not exist, Item will be added at last \n",
    "\n",
    "leap_year.insert(12, 'pqr')\n",
    "\n",
    "print(leap_year)"
   ]
  },
  {
   "cell_type": "markdown",
   "id": "2c90b9a4-f376-40c2-bfb2-59de894bb742",
   "metadata": {},
   "source": [
    "### Modify an Item by Offset (Index)"
   ]
  },
  {
   "cell_type": "code",
   "execution_count": 52,
   "id": "58cd0695-0bcb-422e-8055-825025dce9c6",
   "metadata": {},
   "outputs": [
    {
     "data": {
      "text/plain": [
       "[2000, 99, 2004, 2008, 'pqr']"
      ]
     },
     "execution_count": 52,
     "metadata": {},
     "output_type": "execute_result"
    }
   ],
   "source": [
    "leap_year"
   ]
  },
  {
   "cell_type": "code",
   "execution_count": 54,
   "id": "52853b30-5f7b-4f63-8f91-99fe6ee95b67",
   "metadata": {},
   "outputs": [
    {
     "name": "stdout",
     "output_type": "stream",
     "text": [
      "[2000, 2020, 2004, 2008, 'pqr']\n"
     ]
    }
   ],
   "source": [
    "leap_year[1] = 2020 \n",
    "\n",
    "print(leap_year)"
   ]
  },
  {
   "cell_type": "code",
   "execution_count": 55,
   "id": "90d651cc-b9ba-4554-8224-023b321acb61",
   "metadata": {},
   "outputs": [
    {
     "data": {
      "text/plain": [
       "[2000, 2020, 2004, 2008, 2024]"
      ]
     },
     "execution_count": 55,
     "metadata": {},
     "output_type": "execute_result"
    }
   ],
   "source": [
    "leap_year[-1] = 2024\n",
    "\n",
    "leap_year"
   ]
  },
  {
   "cell_type": "markdown",
   "id": "a5a17761-768a-465b-86f4-1c2c8c534443",
   "metadata": {},
   "source": [
    "### Modify Items with Slice"
   ]
  },
  {
   "cell_type": "code",
   "execution_count": 65,
   "id": "97681199-e9ca-4e03-8d82-9d46e301cedd",
   "metadata": {},
   "outputs": [
    {
     "name": "stdout",
     "output_type": "stream",
     "text": [
      "[1, 4, 6, 9]\n"
     ]
    }
   ],
   "source": [
    "num = [ 1, 4, 6, 9]\n",
    "\n",
    "print(num)"
   ]
  },
  {
   "cell_type": "code",
   "execution_count": 66,
   "id": "c62be83f-d90b-41b6-bc02-74a40d4deaed",
   "metadata": {},
   "outputs": [
    {
     "data": {
      "text/plain": [
       "[6, 9]"
      ]
     },
     "execution_count": 66,
     "metadata": {},
     "output_type": "execute_result"
    }
   ],
   "source": [
    "num[2:]"
   ]
  },
  {
   "cell_type": "code",
   "execution_count": 67,
   "id": "a698ef43-7c70-4952-8ef1-8ccf915eb5bc",
   "metadata": {},
   "outputs": [
    {
     "name": "stdout",
     "output_type": "stream",
     "text": [
      "[1, 4, 11, 12]\n"
     ]
    }
   ],
   "source": [
    "num[2:] = [11, 12]\n",
    "\n",
    "print(num)"
   ]
  },
  {
   "cell_type": "code",
   "execution_count": 68,
   "id": "d836eecb-37fb-46ca-bbb1-21fa162023be",
   "metadata": {},
   "outputs": [
    {
     "data": {
      "text/plain": [
       "[4, 11]"
      ]
     },
     "execution_count": 68,
     "metadata": {},
     "output_type": "execute_result"
    }
   ],
   "source": [
    "num[1:3]"
   ]
  },
  {
   "cell_type": "markdown",
   "id": "3aaff74b-ab71-4fda-97b2-c9c9fbe0bf59",
   "metadata": {},
   "source": [
    "When We modify Items via Slice, List doesn't check if No of Items in Left Hand Side is equal to Right Hand Side.  \n",
    "It Simply REPLACE the SLICED Value with RIGHT HAND SIDE values"
   ]
  },
  {
   "cell_type": "code",
   "execution_count": 69,
   "id": "57e81258-243c-4d81-b35d-b3a670ecd1fc",
   "metadata": {},
   "outputs": [
    {
     "name": "stdout",
     "output_type": "stream",
     "text": [
      "[1, 99, 98, 97, 12]\n"
     ]
    }
   ],
   "source": [
    "num[1:3] = [99, 98, 97]\n",
    "\n",
    "print(num)"
   ]
  },
  {
   "cell_type": "markdown",
   "id": "989c485f-6713-45b2-bb3e-3a2ef7f04c50",
   "metadata": {},
   "source": [
    "### Delete an Item by Offset (Index) via `del` "
   ]
  },
  {
   "cell_type": "code",
   "execution_count": 70,
   "id": "a739af49-cced-452b-bbf3-803a693f46b3",
   "metadata": {},
   "outputs": [
    {
     "data": {
      "text/plain": [
       "[1, 99, 98, 97, 12]"
      ]
     },
     "execution_count": 70,
     "metadata": {},
     "output_type": "execute_result"
    }
   ],
   "source": [
    "num"
   ]
  },
  {
   "cell_type": "code",
   "execution_count": 71,
   "id": "6d0fac64-bfe4-4607-8134-399f802c0ec9",
   "metadata": {},
   "outputs": [
    {
     "name": "stdout",
     "output_type": "stream",
     "text": [
      "[99, 98, 97, 12]\n"
     ]
    }
   ],
   "source": [
    "# Delete the 1st Item (Index 0)\n",
    "\n",
    "del num[0]\n",
    "\n",
    "print(num)"
   ]
  },
  {
   "cell_type": "code",
   "execution_count": 72,
   "id": "acedab5d-9107-46f0-8d94-8f33358b42d9",
   "metadata": {},
   "outputs": [
    {
     "name": "stdout",
     "output_type": "stream",
     "text": [
      "[99, 98, 12]\n"
     ]
    }
   ],
   "source": [
    "# Delete the 3rd Item (Index 2)\n",
    "\n",
    "del num[2]\n",
    "\n",
    "print(num)"
   ]
  },
  {
   "cell_type": "markdown",
   "id": "7b8615f3-ef3b-4cb8-ac3e-6504ab29d424",
   "metadata": {},
   "source": [
    "### Delete an Iterm by Value with `remove(val)` method"
   ]
  },
  {
   "cell_type": "code",
   "execution_count": 73,
   "id": "ccbfc741-f828-4133-9dcd-286ab3021cfa",
   "metadata": {},
   "outputs": [
    {
     "data": {
      "text/plain": [
       "[99, 98, 12]"
      ]
     },
     "execution_count": 73,
     "metadata": {},
     "output_type": "execute_result"
    }
   ],
   "source": [
    "num"
   ]
  },
  {
   "cell_type": "code",
   "execution_count": 74,
   "id": "727d935d-15bd-4ebc-a546-5e3350e099b7",
   "metadata": {},
   "outputs": [
    {
     "name": "stdout",
     "output_type": "stream",
     "text": [
      "[99, 12]\n"
     ]
    }
   ],
   "source": [
    "num.remove(98)\n",
    "\n",
    "print(num)"
   ]
  },
  {
   "cell_type": "markdown",
   "id": "141590ee-5e22-4c36-8abf-94d276860c7f",
   "metadata": {},
   "source": [
    "### Fetch an Item by offset (Index) and Delete it at the same time via `pop()` method"
   ]
  },
  {
   "cell_type": "code",
   "execution_count": 75,
   "id": "3d9deda5-ae3f-4ace-b1fa-067a3d35035e",
   "metadata": {},
   "outputs": [
    {
     "data": {
      "text/plain": [
       "['Mon', 'Tue', 'Wed', 'Thu', 'Fri', 'Sat', 'Sun', 'Jan', 'Feb, Mar', 4, 11, 2]"
      ]
     },
     "execution_count": 75,
     "metadata": {},
     "output_type": "execute_result"
    }
   ],
   "source": [
    "week"
   ]
  },
  {
   "cell_type": "code",
   "execution_count": 76,
   "id": "4803bcc7-36d0-4d62-b073-a85daef355e4",
   "metadata": {},
   "outputs": [
    {
     "name": "stdout",
     "output_type": "stream",
     "text": [
      "Feb, Mar\n",
      "['Mon', 'Tue', 'Wed', 'Thu', 'Fri', 'Sat', 'Sun', 'Jan', 4, 11, 2]\n"
     ]
    }
   ],
   "source": [
    "spam = week.pop(-4)\n",
    "\n",
    "print(spam)\n",
    "print(week)"
   ]
  },
  {
   "cell_type": "code",
   "execution_count": 77,
   "id": "b34be99e-5844-43ca-950f-fbb17860efa2",
   "metadata": {},
   "outputs": [
    {
     "name": "stdout",
     "output_type": "stream",
     "text": [
      "Jan\n",
      "['Mon', 'Tue', 'Wed', 'Thu', 'Fri', 'Sat', 'Sun', 4, 11, 2]\n"
     ]
    }
   ],
   "source": [
    "spam = week.pop(7)\n",
    "\n",
    "print(spam)\n",
    "print(week)"
   ]
  },
  {
   "cell_type": "code",
   "execution_count": 78,
   "id": "b9921a02-2176-428d-9246-daf25fb191a5",
   "metadata": {},
   "outputs": [
    {
     "name": "stdout",
     "output_type": "stream",
     "text": [
      "2\n",
      "['Mon', 'Tue', 'Wed', 'Thu', 'Fri', 'Sat', 'Sun', 4, 11]\n"
     ]
    }
   ],
   "source": [
    "# If you do not pass any Index, pop will remove the very last Item \n",
    "\n",
    "spam = week.pop()\n",
    "\n",
    "print(spam)\n",
    "print(week)"
   ]
  },
  {
   "cell_type": "markdown",
   "id": "841f7e9b-47f3-4246-b428-5daf677e5451",
   "metadata": {},
   "source": [
    "### Delete all Items with `clear()` method"
   ]
  },
  {
   "cell_type": "code",
   "execution_count": 79,
   "id": "f26f1cae-4c07-4263-9552-df62854e0015",
   "metadata": {},
   "outputs": [
    {
     "data": {
      "text/plain": [
       "[99, 12]"
      ]
     },
     "execution_count": 79,
     "metadata": {},
     "output_type": "execute_result"
    }
   ],
   "source": [
    "num"
   ]
  },
  {
   "cell_type": "code",
   "execution_count": 80,
   "id": "f1a7d159-1dcb-42e2-b525-ebabbd45dbfc",
   "metadata": {},
   "outputs": [],
   "source": [
    "num.clear()"
   ]
  },
  {
   "cell_type": "code",
   "execution_count": 81,
   "id": "9e02a82f-d3f3-4b47-a08e-255c5939082a",
   "metadata": {},
   "outputs": [
    {
     "data": {
      "text/plain": [
       "[]"
      ]
     },
     "execution_count": 81,
     "metadata": {},
     "output_type": "execute_result"
    }
   ],
   "source": [
    "num"
   ]
  },
  {
   "cell_type": "code",
   "execution_count": null,
   "id": "a8e91c34-4048-471e-ae26-2332fc915619",
   "metadata": {},
   "outputs": [],
   "source": []
  }
 ],
 "metadata": {
  "kernelspec": {
   "display_name": "Python 3",
   "language": "python",
   "name": "python3"
  },
  "language_info": {
   "codemirror_mode": {
    "name": "ipython",
    "version": 3
   },
   "file_extension": ".py",
   "mimetype": "text/x-python",
   "name": "python",
   "nbconvert_exporter": "python",
   "pygments_lexer": "ipython3",
   "version": "3.9.5"
  }
 },
 "nbformat": 4,
 "nbformat_minor": 5
}

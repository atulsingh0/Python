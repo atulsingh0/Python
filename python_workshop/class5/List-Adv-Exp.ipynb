{
 "cells": [
  {
   "cell_type": "code",
   "execution_count": 1,
   "id": "825e5632-eb16-4ae1-a2b9-5d4640c62a60",
   "metadata": {},
   "outputs": [
    {
     "name": "stdout",
     "output_type": "stream",
     "text": [
      "[89.6, 53.6, 111.2, 84.2]\n"
     ]
    }
   ],
   "source": [
    "# Converting the Temp\n",
    "\n",
    "Celsius = [32, 12, 44, 29]\n",
    "Fahrenheit = []\n",
    "\n",
    "for C in Celsius:\n",
    "    F = (9/5)*C + 32\n",
    "    Fahrenheit.append(F)\n",
    "else:\n",
    "    print(Fahrenheit)"
   ]
  },
  {
   "cell_type": "markdown",
   "id": "bbd52099-ce0e-4428-b342-54a0aa9ab75b",
   "metadata": {},
   "source": [
    "## Guess the word\n",
    "* Take a list of words where each word's length is 4 char\n",
    "* User have 7 tries\n",
    "* Ask User to enter an char\n",
    "* If match, display the char and its location\n",
    "* If not, thows warning msg and ask to enter again. "
   ]
  },
  {
   "cell_type": "code",
   "execution_count": 5,
   "id": "bcc57fbc-4a04-4b6c-8e83-983a09cc1f3b",
   "metadata": {},
   "outputs": [
    {
     "name": "stdin",
     "output_type": "stream",
     "text": [
      "Enter a letter [enter q for quitting the game]:  t\n"
     ]
    },
    {
     "name": "stdout",
     "output_type": "stream",
     "text": [
      "Try again.\n"
     ]
    },
    {
     "name": "stdin",
     "output_type": "stream",
     "text": [
      "Enter a letter [enter q for quitting the game]:  n\n"
     ]
    },
    {
     "name": "stdout",
     "output_type": "stream",
     "text": [
      "Try again.\n"
     ]
    },
    {
     "name": "stdin",
     "output_type": "stream",
     "text": [
      "Enter a letter [enter q for quitting the game]:  r\n"
     ]
    },
    {
     "name": "stdout",
     "output_type": "stream",
     "text": [
      "Your word is something like: r___\n"
     ]
    },
    {
     "name": "stdin",
     "output_type": "stream",
     "text": [
      "Enter a letter [enter q for quitting the game]:  o\n"
     ]
    },
    {
     "name": "stdout",
     "output_type": "stream",
     "text": [
      "Your word is something like: ro__\n"
     ]
    },
    {
     "name": "stdin",
     "output_type": "stream",
     "text": [
      "Enter a letter [enter q for quitting the game]:  c\n"
     ]
    },
    {
     "name": "stdout",
     "output_type": "stream",
     "text": [
      "Your word is something like: roc_\n"
     ]
    },
    {
     "name": "stdin",
     "output_type": "stream",
     "text": [
      "Enter a letter [enter q for quitting the game]:  k\n"
     ]
    },
    {
     "name": "stdout",
     "output_type": "stream",
     "text": [
      "Voila!!! You have guessed the correct word: rock\n"
     ]
    }
   ],
   "source": [
    "words = ['card', 'note', 'kite', 'rock', 'user', 'word']\n",
    "\n",
    "from random import choice   # Random library, choice method will randomly choose the word from list\n",
    "word = choice(words) \n",
    "\n",
    "guessed_word = ['_', '_', '_', '_']\n",
    "for c in range(7):\n",
    "    inp = input(\"Enter a letter [enter q for quitting the game]: \")\n",
    "    if inp == 'q':\n",
    "        print(\"You are quitting the game.\")\n",
    "        print(\"Bye Bye\")\n",
    "        break\n",
    "        \n",
    "    if inp in word:\n",
    "        idx = word.index(inp)\n",
    "        guessed_word[idx] = inp\n",
    "        gword = ''.join(guessed_word)\n",
    "        if gword == word:\n",
    "            print(f\"Voila!!! You have guessed the correct word: {word}\")\n",
    "            break\n",
    "        print(f\"Your word is something like: {gword}\")\n",
    "    else:\n",
    "        print(\"Try again.\")    \n",
    "else:\n",
    "    print(\"You have used all your chances. Please try again.\")"
   ]
  },
  {
   "cell_type": "code",
   "execution_count": null,
   "id": "fccaa78f-7332-4422-923c-9d1ff784d478",
   "metadata": {},
   "outputs": [],
   "source": []
  }
 ],
 "metadata": {
  "kernelspec": {
   "display_name": "Python 3",
   "language": "python",
   "name": "python3"
  },
  "language_info": {
   "codemirror_mode": {
    "name": "ipython",
    "version": 3
   },
   "file_extension": ".py",
   "mimetype": "text/x-python",
   "name": "python",
   "nbconvert_exporter": "python",
   "pygments_lexer": "ipython3",
   "version": "3.9.5"
  }
 },
 "nbformat": 4,
 "nbformat_minor": 5
}

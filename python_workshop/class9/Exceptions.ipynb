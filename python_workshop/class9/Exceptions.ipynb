{
 "cells": [
  {
   "cell_type": "markdown",
   "id": "d6cfcc3d-215e-4dff-864a-4b7d7f0abe62",
   "metadata": {},
   "source": [
    "## Exceptions"
   ]
  },
  {
   "cell_type": "markdown",
   "id": "197a8774-a3be-4648-bad2-7f1f4e4d9017",
   "metadata": {},
   "source": [
    "### Try & Excpet with one type of exeption"
   ]
  },
  {
   "cell_type": "code",
   "execution_count": 8,
   "id": "e034ffa0-4dcd-4ac8-a008-ce245c9691aa",
   "metadata": {},
   "outputs": [
    {
     "name": "stdin",
     "output_type": "stream",
     "text": [
      "Enter your age:  abcd\n"
     ]
    },
    {
     "name": "stdout",
     "output_type": "stream",
     "text": [
      "Age must be an interger value\n"
     ]
    }
   ],
   "source": [
    "try:\n",
    "    inp = input(\"Enter your age: \")\n",
    "    inp = int(inp)\n",
    "    print(f\"You have entered: {inp}\")\n",
    "\n",
    "except ValueError:\n",
    "    print(\"Age must be an interger value\")\n"
   ]
  },
  {
   "cell_type": "markdown",
   "id": "1d0677ce-ae85-454f-8c3e-a97ddd68f851",
   "metadata": {},
   "source": [
    "### Try & Excpet with multiple type of exeption"
   ]
  },
  {
   "cell_type": "code",
   "execution_count": 12,
   "id": "cc07fdd2-d2d4-45a1-bee5-cc5ab7547ffe",
   "metadata": {},
   "outputs": [
    {
     "name": "stdin",
     "output_type": "stream",
     "text": [
      "Enter the first no:  22\n",
      "Enter the second no:  3.14\n"
     ]
    },
    {
     "name": "stdout",
     "output_type": "stream",
     "text": [
      "Division Output: 7.01\n"
     ]
    }
   ],
   "source": [
    "## Division\n",
    "\n",
    "try:\n",
    "    no_1 = float(input(\"Enter the first no: \"))\n",
    "    no_2 = float(input(\"Enter the second no: \"))\n",
    "    \n",
    "    print(f\"Division Output: {no_1 / no_2:.2f}\")\n",
    "\n",
    "except ValueError:\n",
    "    print(\"Numbers should be either integer or float type\") \n",
    "    \n",
    "except ZeroDivisionError:\n",
    "    print(\"Second Number should not be zero (0)\")\n",
    "\n",
    "except Exception as e:\n",
    "    print(\"An unexpected error occured. - \", type(e))"
   ]
  },
  {
   "cell_type": "markdown",
   "id": "427a0bf5-d66d-4ba1-86e1-fd0ea2509d45",
   "metadata": {},
   "source": [
    "### Try & Excpet with `else` clouse  \n",
    "`else` clouse will only be execute if no exception has been raised."
   ]
  },
  {
   "cell_type": "code",
   "execution_count": 37,
   "id": "d5d4fa50-4c1b-48ed-9e62-0a9fbc7d5697",
   "metadata": {},
   "outputs": [
    {
     "name": "stdin",
     "output_type": "stream",
     "text": [
      "Enter the first no:  2\n",
      "Enter the second no:  0\n"
     ]
    },
    {
     "name": "stdout",
     "output_type": "stream",
     "text": [
      "Second Number should not be zero (0)\n"
     ]
    }
   ],
   "source": [
    "## Division\n",
    "\n",
    "try:\n",
    "    no_1 = float(input(\"Enter the first no: \"))\n",
    "    no_2 = float(input(\"Enter the second no: \"))\n",
    "\n",
    "    output = no_1 / no_2\n",
    "    \n",
    "except ValueError:\n",
    "    print(\"Numbers should be either integer or float type\") \n",
    "    \n",
    "except ZeroDivisionError:\n",
    "    print(\"Second Number should not be zero (0)\")\n",
    "\n",
    "except Exception as e:\n",
    "    print(\"An unexpected error occured. - \", type(e))\n",
    "    \n",
    "else:\n",
    "    print(f\"Division Output: {output:.2f}\")"
   ]
  },
  {
   "cell_type": "markdown",
   "id": "541b9214-bb89-4e5d-8e11-ce2724394c01",
   "metadata": {},
   "source": [
    "### Try & Excpet with `finally` clouse  \n",
    "`finally` clause will always execute irrespective of whether any exeption has been raised in try/except block or not.  \n",
    "Usually, `finally` clouse use to cleanup the resources.  "
   ]
  },
  {
   "cell_type": "code",
   "execution_count": 20,
   "id": "ba6192a7-e162-4789-82e4-4ab5ab7da946",
   "metadata": {},
   "outputs": [
    {
     "name": "stdout",
     "output_type": "stream",
     "text": [
      "File contents are as below...\n",
      "---------------------------\n",
      "this is myfile\n",
      "\n",
      "second line\n",
      "---------------------------\n"
     ]
    }
   ],
   "source": [
    "## Trying to read a file which doesn't exist. \n",
    "\n",
    "try:\n",
    "    file = open('myfile.txt')\n",
    "    \n",
    "    print('File contents are as below...')\n",
    "    print('---------------------------')\n",
    "    for line in file:\n",
    "        print(line)\n",
    "    print('---------------------------')\n",
    "\n",
    "except FileNotFoundError:\n",
    "    print(\"File does not exists\") \n",
    "    \n",
    "except Exception as e:\n",
    "    print(\"An unexpected error occured. - \", type(e))\n",
    "    \n",
    "finally:\n",
    "    file.close()"
   ]
  },
  {
   "cell_type": "markdown",
   "id": "1ab1ae1d-e97c-4e4d-94c5-712c79f03630",
   "metadata": {},
   "source": [
    "## Raising an Exception"
   ]
  },
  {
   "cell_type": "code",
   "execution_count": 33,
   "id": "0e4a8987-ea08-4f43-aead-7797c288aef6",
   "metadata": {},
   "outputs": [
    {
     "name": "stdin",
     "output_type": "stream",
     "text": [
      "Enter your age (in years):  1.2\n"
     ]
    },
    {
     "name": "stdout",
     "output_type": "stream",
     "text": [
      "An unexpected error occured. -  <class 'ValueError'> Age must be integer.\n"
     ]
    }
   ],
   "source": [
    "try:\n",
    "    age = input(\"Enter your age (in years): \")\n",
    "    \n",
    "    if not isinstance(age, int):\n",
    "        raise ValueError(\"Age must be integer.\")\n",
    "        \n",
    "    if int(age)==0:\n",
    "        raise ValueError(\"Age should not be 0\")\n",
    "    \n",
    "    total_months = int(age) * 12\n",
    "    total_days = int(age) * 365\n",
    "    \n",
    "    print(f\"You have lived approx {total_months} months or {total_days} days\")\n",
    "    \n",
    "except Exception as e:\n",
    "    print(\"An unexpected error occured. - \", type(e), e)"
   ]
  },
  {
   "cell_type": "code",
   "execution_count": null,
   "id": "6556024d-36c0-441d-9d10-b039e7ccc850",
   "metadata": {},
   "outputs": [],
   "source": []
  }
 ],
 "metadata": {
  "kernelspec": {
   "display_name": "Python 3",
   "language": "python",
   "name": "python3"
  },
  "language_info": {
   "codemirror_mode": {
    "name": "ipython",
    "version": 3
   },
   "file_extension": ".py",
   "mimetype": "text/x-python",
   "name": "python",
   "nbconvert_exporter": "python",
   "pygments_lexer": "ipython3",
   "version": "3.9.5"
  }
 },
 "nbformat": 4,
 "nbformat_minor": 5
}

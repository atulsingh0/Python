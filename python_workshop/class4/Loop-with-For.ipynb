{
 "cells": [
  {
   "cell_type": "markdown",
   "id": "9410a488-7918-41b2-a3d3-0e1238fe6c56",
   "metadata": {},
   "source": [
    "## Loop with For  \n",
    "\n",
    "Every loop must need these 3 things one way or other to limit its execution  \n",
    "initialization, check, next level\n",
    "\n",
    "**REMEMBER** there is no {} or () to bind the code as we do in C or C++  \n",
    "In python indent is necessary to achieve the same"
   ]
  },
  {
   "cell_type": "markdown",
   "id": "647a6cd0-92cf-4246-a258-6865806e77bd",
   "metadata": {},
   "source": [
    "### Iteration with `for` and `in`  \n",
    "\n",
    "for loops are called “definite loops” because they execute an exact number of times  "
   ]
  },
  {
   "cell_type": "code",
   "execution_count": 2,
   "id": "c68be985-696a-4288-932a-5c838e535ef7",
   "metadata": {},
   "outputs": [
    {
     "name": "stdout",
     "output_type": "stream",
     "text": [
      "B\n",
      "a\n",
      "n\n",
      "a\n",
      "n\n",
      "a\n"
     ]
    }
   ],
   "source": [
    "word = 'Banana'\n",
    "\n",
    "for ch in word:\n",
    "    print(f'{ch}')"
   ]
  },
  {
   "cell_type": "code",
   "execution_count": 4,
   "id": "90c7189c-a6e3-4555-b5ab-32648c090bf6",
   "metadata": {},
   "outputs": [
    {
     "name": "stdout",
     "output_type": "stream",
     "text": [
      "Apple\n",
      "Banana\n",
      "Cherry\n",
      "Papaya\n",
      "Orange\n"
     ]
    }
   ],
   "source": [
    "fruits = ['apple', 'banana', 'cherry', 'papaya','orange'] \n",
    "\n",
    "for fruit in fruits:\n",
    "    print(fruit.capitalize())"
   ]
  },
  {
   "cell_type": "markdown",
   "id": "ef7c5659-7211-4aa1-b51b-68ea9447030a",
   "metadata": {},
   "source": [
    "### Generate Number Sequence with `range` function "
   ]
  },
  {
   "cell_type": "markdown",
   "id": "5a59e6ac-4e28-4a87-8569-994e193048c9",
   "metadata": {},
   "source": [
    "**range(end)**  \n",
    "Generate a Sequence of no starting from 0 till `end-1` \n",
    "\n",
    "**range(start,end)**  \n",
    "Generate a Sequence of no starting from `start` till `end-1`  \n",
    "\n",
    "**range(start, end, skip)**  \n",
    "Generate a Sequence of no starting from `start` till `end-1` by skipping `skip`  "
   ]
  },
  {
   "cell_type": "code",
   "execution_count": 10,
   "id": "f176f965-6e24-448c-a265-9d1491883387",
   "metadata": {},
   "outputs": [
    {
     "data": {
      "text/plain": [
       "[0, 1, 2, 3, 4]"
      ]
     },
     "execution_count": 10,
     "metadata": {},
     "output_type": "execute_result"
    }
   ],
   "source": [
    "list(range(5))"
   ]
  },
  {
   "cell_type": "code",
   "execution_count": 11,
   "id": "32c50ce5-b72d-469d-a260-1d3aa31414f8",
   "metadata": {},
   "outputs": [
    {
     "data": {
      "text/plain": [
       "[2, 3, 4, 5, 6]"
      ]
     },
     "execution_count": 11,
     "metadata": {},
     "output_type": "execute_result"
    }
   ],
   "source": [
    "list(range(2, 7))"
   ]
  },
  {
   "cell_type": "code",
   "execution_count": 15,
   "id": "5606019f-e611-4e3d-9550-94cd9b7a8631",
   "metadata": {},
   "outputs": [
    {
     "data": {
      "text/plain": [
       "[2, 5, 8]"
      ]
     },
     "execution_count": 15,
     "metadata": {},
     "output_type": "execute_result"
    }
   ],
   "source": [
    "list(range(2, 9, 3))   # 2, 2+3, 5+3"
   ]
  },
  {
   "cell_type": "code",
   "execution_count": 7,
   "id": "fb73ed27-198d-4b06-a01a-47c02b6d79a0",
   "metadata": {},
   "outputs": [
    {
     "data": {
      "text/plain": [
       "[3, 4, 5, 6, 7, 8, 9, 10, 11, 12, 13, 14, 15, 16, 17, 18]"
      ]
     },
     "execution_count": 7,
     "metadata": {},
     "output_type": "execute_result"
    }
   ],
   "source": [
    "list(range(3, 19))  # to display all the numbers"
   ]
  },
  {
   "cell_type": "code",
   "execution_count": 8,
   "id": "ad0ebfd0-7751-4936-bdae-749b512ab04c",
   "metadata": {},
   "outputs": [
    {
     "name": "stdout",
     "output_type": "stream",
     "text": [
      "2\n",
      "3\n",
      "4\n",
      "5\n",
      "6\n",
      "7\n",
      "8\n",
      "9\n",
      "10\n"
     ]
    }
   ],
   "source": [
    "for no in range(2, 11):\n",
    "    print(no)"
   ]
  },
  {
   "cell_type": "code",
   "execution_count": 9,
   "id": "743879e7-0da1-4b57-b462-66c35b177a1b",
   "metadata": {},
   "outputs": [
    {
     "name": "stdout",
     "output_type": "stream",
     "text": [
      "0\n",
      "1\n",
      "2\n",
      "3\n"
     ]
    }
   ],
   "source": [
    "for no in range(4):\n",
    "    print(no)"
   ]
  },
  {
   "cell_type": "code",
   "execution_count": 18,
   "id": "6675eb44-eff9-47cd-830c-03f97353e570",
   "metadata": {},
   "outputs": [
    {
     "name": "stdout",
     "output_type": "stream",
     "text": [
      "7\n"
     ]
    }
   ],
   "source": [
    "## Let pick the last example. where we are playing guessing game. \n",
    "## But this time, we will give only 4 chances to user \n",
    "\n",
    "import random\n",
    "no = random.randint(1, 10)\n",
    "print(no)"
   ]
  },
  {
   "cell_type": "code",
   "execution_count": 20,
   "id": "709a8331-2005-4a3a-ae2c-b1a320660f7c",
   "metadata": {},
   "outputs": [
    {
     "name": "stdin",
     "output_type": "stream",
     "text": [
      "Enter a no between 1 to 10 .. [press q to quit.]  1\n"
     ]
    },
    {
     "name": "stdout",
     "output_type": "stream",
     "text": [
      "Try again....\n"
     ]
    },
    {
     "name": "stdin",
     "output_type": "stream",
     "text": [
      "Enter a no between 1 to 10 .. [press q to quit.]  2\n"
     ]
    },
    {
     "name": "stdout",
     "output_type": "stream",
     "text": [
      "Try again....\n"
     ]
    },
    {
     "name": "stdin",
     "output_type": "stream",
     "text": [
      "Enter a no between 1 to 10 .. [press q to quit.]  3\n"
     ]
    },
    {
     "name": "stdout",
     "output_type": "stream",
     "text": [
      "Try again....\n"
     ]
    },
    {
     "name": "stdin",
     "output_type": "stream",
     "text": [
      "Enter a no between 1 to 10 .. [press q to quit.]  4\n"
     ]
    },
    {
     "name": "stdout",
     "output_type": "stream",
     "text": [
      "Try again....\n"
     ]
    }
   ],
   "source": [
    "for chances in range(4):\n",
    "    num = input(\"Enter a no between 1 to 10 .. [press q to quit.] \")\n",
    "    if num == 'q':\n",
    "        print(\"Bye Bye!\")\n",
    "        break\n",
    "        \n",
    "    num = int(num)\n",
    "    \n",
    "    if num == no:\n",
    "        print(\"Voila! You have guessed the correct no.\")\n",
    "        break\n",
    "    else:\n",
    "        print(\"Try again....\")"
   ]
  },
  {
   "cell_type": "markdown",
   "id": "68936420-4d30-45c3-93bc-35c480ace4d3",
   "metadata": {},
   "source": [
    "### for with else    \n",
    "\n",
    "`else` in `for` loop will be only executed if loop is completed without hitting the `break` statement"
   ]
  },
  {
   "cell_type": "code",
   "execution_count": 23,
   "id": "7fafc3a0-8da3-45bd-90c3-4842251b15a3",
   "metadata": {},
   "outputs": [
    {
     "name": "stdin",
     "output_type": "stream",
     "text": [
      "Enter a no between 1 to 10 .. [press q to quit.]  1\n"
     ]
    },
    {
     "name": "stdout",
     "output_type": "stream",
     "text": [
      "Try again....\n"
     ]
    },
    {
     "name": "stdin",
     "output_type": "stream",
     "text": [
      "Enter a no between 1 to 10 .. [press q to quit.]  2\n"
     ]
    },
    {
     "name": "stdout",
     "output_type": "stream",
     "text": [
      "Try again....\n"
     ]
    },
    {
     "name": "stdin",
     "output_type": "stream",
     "text": [
      "Enter a no between 1 to 10 .. [press q to quit.]  3\n"
     ]
    },
    {
     "name": "stdout",
     "output_type": "stream",
     "text": [
      "Try again....\n"
     ]
    },
    {
     "name": "stdin",
     "output_type": "stream",
     "text": [
      "Enter a no between 1 to 10 .. [press q to quit.]  4\n"
     ]
    },
    {
     "name": "stdout",
     "output_type": "stream",
     "text": [
      "Try again....\n",
      "You have used all your chances. Try again.\n"
     ]
    }
   ],
   "source": [
    "for chances in range(4):\n",
    "    num = input(\"Enter a no between 1 to 10 .. [press q to quit.] \")\n",
    "    if num == 'q':\n",
    "        print(\"Bye Bye!\")\n",
    "        break\n",
    "        \n",
    "    num = int(num)\n",
    "    \n",
    "    if num == no:\n",
    "        print(\"Voila! You have guessed the correct no.\")\n",
    "        break\n",
    "    else:\n",
    "        print(\"Try again....\")\n",
    "else:\n",
    "    # this block executes ONLY if the for loop completes without hitting 'break'\n",
    "    print(\"You have used all your chances. Try again later.\")"
   ]
  },
  {
   "cell_type": "code",
   "execution_count": null,
   "id": "5d3f1577-bd0c-443d-832e-370808808df3",
   "metadata": {},
   "outputs": [],
   "source": []
  }
 ],
 "metadata": {
  "kernelspec": {
   "display_name": "Python 3",
   "language": "python",
   "name": "python3"
  },
  "language_info": {
   "codemirror_mode": {
    "name": "ipython",
    "version": 3
   },
   "file_extension": ".py",
   "mimetype": "text/x-python",
   "name": "python",
   "nbconvert_exporter": "python",
   "pygments_lexer": "ipython3",
   "version": "3.9.5"
  }
 },
 "nbformat": 4,
 "nbformat_minor": 5
}

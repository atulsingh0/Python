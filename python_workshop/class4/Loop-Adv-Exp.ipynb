{
 "cells": [
  {
   "cell_type": "code",
   "execution_count": 13,
   "id": "434d8eaf-7e20-47e7-b5ad-4750e96fed2e",
   "metadata": {},
   "outputs": [
    {
     "name": "stdout",
     "output_type": "stream",
     "text": [
      "john\n",
      "Ash\n",
      "Val\n",
      "Kahani\n"
     ]
    }
   ],
   "source": [
    "# Print Only names with letters\n",
    "\n",
    "names = ['john', ' ', 'Ash', 4, 'Val', 342, 3.2, 'Kahani']\n",
    "\n",
    "for name in names:\n",
    "    name = str(name)           # converting data type to string\n",
    "    for c in name:             # lopping via each char in single name\n",
    "        c = c.lower()          # lowe case conversion\n",
    "        if c in ' 1234567890':       # check if char is exist in \n",
    "            break                    # If so, break the loop for next iteration\n",
    "    else:                            # Else will be executed in for doesn't hit the break\n",
    "        print(name)                  # In that case, it will print the name"
   ]
  },
  {
   "cell_type": "code",
   "execution_count": 50,
   "id": "d24878b3-74e7-4e9d-87c3-cd3bfc276654",
   "metadata": {},
   "outputs": [
    {
     "name": "stdin",
     "output_type": "stream",
     "text": [
      "Enter the no of rows in Pyramid:  10\n"
     ]
    },
    {
     "name": "stdout",
     "output_type": "stream",
     "text": [
      "                     x                    \n",
      "                    x x                   \n",
      "                   x x x                  \n",
      "                  x x x x                 \n",
      "                 x x x x x                \n",
      "                x x x x x x               \n",
      "               x x x x x x x              \n",
      "              x x x x x x x x             \n",
      "             x x x x x x x x x            \n",
      "            x x x x x x x x x x           \n"
     ]
    }
   ],
   "source": [
    "# Create a pyramid\n",
    "\n",
    "\n",
    "n = int(input(\"Enter the no of rows in Pyramid: \"))\n",
    "for i in range(1,n+1):\n",
    "    sp = n*2-i\n",
    "    print(' '*sp,' x'*i,' '*sp)"
   ]
  },
  {
   "cell_type": "code",
   "execution_count": null,
   "id": "1582fbe2-04e7-4a21-b90f-e33489da976d",
   "metadata": {},
   "outputs": [],
   "source": []
  }
 ],
 "metadata": {
  "kernelspec": {
   "display_name": "Python 3",
   "language": "python",
   "name": "python3"
  },
  "language_info": {
   "codemirror_mode": {
    "name": "ipython",
    "version": 3
   },
   "file_extension": ".py",
   "mimetype": "text/x-python",
   "name": "python",
   "nbconvert_exporter": "python",
   "pygments_lexer": "ipython3",
   "version": "3.9.5"
  }
 },
 "nbformat": 4,
 "nbformat_minor": 5
}

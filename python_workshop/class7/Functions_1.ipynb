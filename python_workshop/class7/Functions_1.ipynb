{
 "cells": [
  {
   "cell_type": "markdown",
   "id": "d95f3c7a-fee7-4730-8294-73d0442e6969",
   "metadata": {},
   "source": [
    "## Functions  \n",
    "\n",
    "A names piece of code, seperate from all others.  \n",
    "A function can take any number & type of input parameters and return any number & type of outputs"
   ]
  },
  {
   "cell_type": "markdown",
   "id": "640a11f0-6939-4e78-b956-616cf0f23e6b",
   "metadata": {},
   "source": [
    "Till now, We have seen so many in-built functions such as - len, print, count, type, del ... and lot more  \n",
    "\n",
    "The process for executing (calling) a function can be summarized in three steps:\n",
    "*  The function is called, and any arguments are passed to the function as input.\n",
    "* The function executes, and some action is performed with the arguments.\n",
    "* The function returns, and the original function call is replaced with the return value."
   ]
  },
  {
   "cell_type": "code",
   "execution_count": 1,
   "id": "d2f2c128-9955-47df-aa2e-c6e50ad62c30",
   "metadata": {},
   "outputs": [],
   "source": [
    "line = 'Baa baa black sheep'"
   ]
  },
  {
   "cell_type": "code",
   "execution_count": 2,
   "id": "1061b0d9-9b17-4dd0-878d-b537069ac15b",
   "metadata": {},
   "outputs": [
    {
     "name": "stdout",
     "output_type": "stream",
     "text": [
      "19\n"
     ]
    }
   ],
   "source": [
    "no_of_char = len(line)\n",
    "\n",
    "print(no_of_char)"
   ]
  },
  {
   "cell_type": "markdown",
   "id": "e831a1ba-3206-4519-84cc-717e043b931a",
   "metadata": {},
   "source": [
    "In above example, `len` is function, `line` is an input arguement and return value has stored in `no_of_char`  \n",
    "But **Rememeber**, Not all function return values.. such as `print`  "
   ]
  },
  {
   "cell_type": "code",
   "execution_count": 3,
   "id": "ed3b86b4-2cc9-4ddc-ad21-cfb2ed81e275",
   "metadata": {},
   "outputs": [
    {
     "name": "stdout",
     "output_type": "stream",
     "text": [
      "Who are you? \n",
      "None\n"
     ]
    }
   ],
   "source": [
    "return_val = print(\"Who are you? \")\n",
    "\n",
    "print(return_val)"
   ]
  },
  {
   "cell_type": "markdown",
   "id": "2591aa92-7634-4460-800f-ff4bde844d31",
   "metadata": {},
   "source": [
    "As you can see, print function returns `None` and performs an action on input and printed that.  \n",
    "So when you are using any fuction, Keep a look there, if Function returns some output or work on input directly.  "
   ]
  },
  {
   "cell_type": "markdown",
   "id": "55a96b15-5bc1-4b38-92b2-0419e10694ea",
   "metadata": {},
   "source": [
    "### function with `def`  \n",
    "\n",
    "`def function_name(inp_args if any):` this is called `function signature`  \n",
    "Line of codes which comes with function are called `function body`"
   ]
  },
  {
   "cell_type": "code",
   "execution_count": 4,
   "id": "641d41a4-acb7-4ca0-9257-bd633a833922",
   "metadata": {},
   "outputs": [],
   "source": [
    "def multiply(x, y):  # function signature\n",
    "    # function body\n",
    "    output = x * y \n",
    "    return output"
   ]
  },
  {
   "cell_type": "markdown",
   "id": "3f6ad421-4a84-4429-acaa-2a095d2cc435",
   "metadata": {},
   "source": [
    "**Need to Remember** few things when working with `functions`  \n",
    "* Indentation defines the CODE BLOCK (In function - Function Body), So whatever line of codes you want to put under function should follow the same.  \n",
    "* As soon as Python Interpreter hits the `return` statement, it will return the value and come out from function, so anything defined after return is never going to execute.  "
   ]
  },
  {
   "cell_type": "code",
   "execution_count": 5,
   "id": "8afbef5d-6736-4f08-b845-27a3f3d55992",
   "metadata": {},
   "outputs": [],
   "source": [
    "def add(x, y):\n",
    "    output = x + y\n",
    "    return output\n",
    "    print(\"Hi, I am in function add\")   # this statement is residing in function after after the return statement. "
   ]
  },
  {
   "cell_type": "code",
   "execution_count": 6,
   "id": "88cbc215-884e-4e6d-a0e2-819a6ae79741",
   "metadata": {},
   "outputs": [
    {
     "data": {
      "text/plain": [
       "12"
      ]
     },
     "execution_count": 6,
     "metadata": {},
     "output_type": "execute_result"
    }
   ],
   "source": [
    "# Let's call the functions, when calling, we call with function signature without def - \n",
    "\n",
    "multiply(3, 4)"
   ]
  },
  {
   "cell_type": "code",
   "execution_count": 7,
   "id": "4fd0df8e-94a8-49d0-b7de-acee849bac06",
   "metadata": {},
   "outputs": [
    {
     "data": {
      "text/plain": [
       "-8"
      ]
     },
     "execution_count": 7,
     "metadata": {},
     "output_type": "execute_result"
    }
   ],
   "source": [
    "multiply(-2, 4)"
   ]
  },
  {
   "cell_type": "code",
   "execution_count": 8,
   "id": "1432d0ae-345e-4b41-b90b-293057457952",
   "metadata": {},
   "outputs": [
    {
     "data": {
      "text/plain": [
       "11"
      ]
     },
     "execution_count": 8,
     "metadata": {},
     "output_type": "execute_result"
    }
   ],
   "source": [
    "add(3, 8)  # as you can see, there is no output for print. "
   ]
  },
  {
   "cell_type": "code",
   "execution_count": 9,
   "id": "5d925612-fc40-4453-86b7-aad37eff8af2",
   "metadata": {},
   "outputs": [
    {
     "data": {
      "text/plain": [
       "4"
      ]
     },
     "execution_count": 9,
     "metadata": {},
     "output_type": "execute_result"
    }
   ],
   "source": [
    "add(-8, 12)"
   ]
  },
  {
   "cell_type": "markdown",
   "id": "2a95662c-b552-4d75-aec6-78b6acfe1a05",
   "metadata": {},
   "source": [
    "### Documenting the function - docstring\n",
    "When we write function, It is a good practice to put some documentation about the functionality.  "
   ]
  },
  {
   "cell_type": "code",
   "execution_count": 10,
   "id": "b7aecfba-2088-47a8-874f-431f8813f682",
   "metadata": {},
   "outputs": [],
   "source": [
    "def square(x):\n",
    "    '''Return Squared Value of Input x'''         # this is docstring\n",
    "    return x*x \n"
   ]
  },
  {
   "cell_type": "code",
   "execution_count": 11,
   "id": "3a3ea969-fb0a-4961-a036-3a46f0331cab",
   "metadata": {},
   "outputs": [
    {
     "data": {
      "text/plain": [
       "16"
      ]
     },
     "execution_count": 11,
     "metadata": {},
     "output_type": "execute_result"
    }
   ],
   "source": [
    "# calling a func square\n",
    "\n",
    "square(4)"
   ]
  },
  {
   "cell_type": "code",
   "execution_count": 12,
   "id": "5cf78c63-cf2e-4040-889d-0ba50bcf1cb1",
   "metadata": {},
   "outputs": [
    {
     "data": {
      "text/plain": [
       "1.44"
      ]
     },
     "execution_count": 12,
     "metadata": {},
     "output_type": "execute_result"
    }
   ],
   "source": [
    "square(1.2)"
   ]
  },
  {
   "cell_type": "code",
   "execution_count": 13,
   "id": "138bdd8e-d009-4d92-b5ea-1d843bd3bedc",
   "metadata": {},
   "outputs": [
    {
     "name": "stdout",
     "output_type": "stream",
     "text": [
      "Help on function square in module __main__:\n",
      "\n",
      "square(x)\n",
      "    Return Squared Value of Input x\n",
      "\n"
     ]
    }
   ],
   "source": [
    "# let's check how docstring helps - \n",
    "\n",
    "help(square)   "
   ]
  },
  {
   "cell_type": "markdown",
   "id": "466f3f55-2b85-4f70-b7d8-f7910dc999fd",
   "metadata": {},
   "source": [
    "Functions can be defined without return statement as well, those functions returns `None` value (which is equivalent to `Null` or `Nothing`)   \n",
    "`None` does not equal to `False`"
   ]
  },
  {
   "cell_type": "code",
   "execution_count": 14,
   "id": "883e2425-87b9-42ca-b5e5-79e2fcbe1bf3",
   "metadata": {},
   "outputs": [],
   "source": [
    "def echo(x):\n",
    "    print(f'User want to say: {x}')\n",
    "    print('Bye')"
   ]
  },
  {
   "cell_type": "code",
   "execution_count": 15,
   "id": "ed8738ce-8668-433a-9230-da55429bcb6a",
   "metadata": {},
   "outputs": [
    {
     "name": "stdout",
     "output_type": "stream",
     "text": [
      "User want to say: Hello\n",
      "Bye\n"
     ]
    }
   ],
   "source": [
    "ret_val = echo(\"Hello\")"
   ]
  },
  {
   "cell_type": "code",
   "execution_count": 16,
   "id": "e9c97439-63ab-4c7c-bed9-d639c3d4e5a1",
   "metadata": {},
   "outputs": [
    {
     "name": "stdout",
     "output_type": "stream",
     "text": [
      "None\n"
     ]
    }
   ],
   "source": [
    "print(ret_val)"
   ]
  },
  {
   "cell_type": "markdown",
   "id": "9d70f703-a026-4759-82a8-343da92c00d0",
   "metadata": {},
   "source": [
    "### Positional Arguments  \n",
    "When functions have multiple arguements whoes value are assigned to their corresponding parameters in order. "
   ]
  },
  {
   "cell_type": "code",
   "execution_count": 17,
   "id": "499a94e8-5f7e-4e36-a1e0-0ca9eb397166",
   "metadata": {},
   "outputs": [],
   "source": [
    "def simple_interest(amt, rate, yr):\n",
    "    si = amt * rate * yr / 100\n",
    "    return si"
   ]
  },
  {
   "cell_type": "code",
   "execution_count": 18,
   "id": "f573bc76-a9de-4c6e-9ac7-2f2d130d84b6",
   "metadata": {},
   "outputs": [
    {
     "data": {
      "text/plain": [
       "1000.0"
      ]
     },
     "execution_count": 18,
     "metadata": {},
     "output_type": "execute_result"
    }
   ],
   "source": [
    "amount = 1000\n",
    "roi = 5\n",
    "year = 20 \n",
    "\n",
    "simple_interest(amount, roi, year)   "
   ]
  },
  {
   "cell_type": "markdown",
   "id": "4995ca78-05a4-48c7-ab52-9a62081b209d",
   "metadata": {},
   "source": [
    "Order of Input Parameters should match Order of function arguments as python assigned them by position. \n",
    "\n",
    "\n",
    "### Keyword Arguments  \n",
    "Input paramters will assigned by the argument keyword, Order does not matter"
   ]
  },
  {
   "cell_type": "code",
   "execution_count": 19,
   "id": "674d3754-3348-4bc6-b360-3cecb1263e0d",
   "metadata": {},
   "outputs": [
    {
     "data": {
      "text/plain": [
       "1000.0"
      ]
     },
     "execution_count": 19,
     "metadata": {},
     "output_type": "execute_result"
    }
   ],
   "source": [
    "# calling the same function with keyword \n",
    "\n",
    "simple_interest(yr=year, amt=amount, rate=roi)"
   ]
  },
  {
   "cell_type": "markdown",
   "id": "8f765821-78cb-463b-b224-b78a1aba07ac",
   "metadata": {},
   "source": [
    "### Specify Default Parameter Values  \n",
    "Your function can have default value if it is not passed when calling function.   \n",
    "**Remember** - All the Arguments which have default value must be defined at the end in function.  "
   ]
  },
  {
   "cell_type": "code",
   "execution_count": 20,
   "id": "c5df40ef-efad-4f00-be75-79625a818e4a",
   "metadata": {},
   "outputs": [],
   "source": [
    "import random\n",
    "\n",
    "def generate_random_num(less_than=10):\n",
    "    \"\"\"\n",
    "        This function will return a random number which will be less than passed input. \n",
    "        If No value has been passed to function, Generated no will be less then 10\n",
    "    \n",
    "    i.e. - \n",
    "    \n",
    "    >>> generate_random_num()\n",
    "    >>> generate_random_num(100)\n",
    "    \n",
    "    \"\"\"\n",
    "    rand = random.randint(0, less_than)    \n",
    "    return rand"
   ]
  },
  {
   "cell_type": "code",
   "execution_count": 21,
   "id": "12ae112c-09ee-4e47-b1dc-3f89605e08c6",
   "metadata": {},
   "outputs": [
    {
     "data": {
      "text/plain": [
       "2"
      ]
     },
     "execution_count": 21,
     "metadata": {},
     "output_type": "execute_result"
    }
   ],
   "source": [
    "# Let's test - \n",
    "\n",
    "generate_random_num()   # No input parameter, Hence function will return a random no less than 10"
   ]
  },
  {
   "cell_type": "code",
   "execution_count": 22,
   "id": "50dae5d1-f6c9-45f7-9db8-07e4da4bd9af",
   "metadata": {},
   "outputs": [
    {
     "data": {
      "text/plain": [
       "25"
      ]
     },
     "execution_count": 22,
     "metadata": {},
     "output_type": "execute_result"
    }
   ],
   "source": [
    "generate_random_num(25)   # here, less_than arguement will be given parameter 25 "
   ]
  },
  {
   "cell_type": "code",
   "execution_count": 23,
   "id": "23154d56-f365-4b6d-81d2-f6bdc97909a3",
   "metadata": {},
   "outputs": [],
   "source": [
    "def interest_rate_calculator(principal_amount, rate_of_interest, time_in_months=12, interest_type='SI'):\n",
    "    \"\"\"\n",
    "    interest_rate_calculator is a function which calculate the interest amount based on the input parameters\n",
    "    \n",
    "    Input Arguments:\n",
    "        principal_amount - Amount on which you want to calculate interest\n",
    "        rate_of_interest - Rate of Interest\n",
    "        time_in_months - Total Time for Interest Calculation, If not provided, Int amount will be calculated for 12 months\n",
    "        interest_type - ['SI', 'CI'] - Simple Inerest / Compount Interest, If not provided, will be treated as SI.\n",
    "    \n",
    "    i.e - \n",
    "    \n",
    "    >>> interest_rate_calculator(1000, 5)\n",
    "    >>> interest_rate_calculator(1000, 5, 18)\n",
    "    >>> interest_rate_calculator(1000, 5, 18, 'CI')\n",
    "\n",
    "    \"\"\"\n",
    "    int_amt = None\n",
    "    if interest_type=='SI':\n",
    "        int_amt = principal_amount * rate_of_interest * time_in_months / 1200\n",
    "    elif interest_type=='CI':\n",
    "        int_amt = principal_amount * ((1 + rate_of_interest/1200)**time_in_months - 1)\n",
    "        int_amt = round(int_amt, 2)\n",
    "    else:\n",
    "        print(\"Interest Type Either can be 'SI' or 'CI'\")\n",
    "        \n",
    "    return int_amt\n",
    "    \n",
    "    \n",
    "#    P [(1 + i)n – 1]"
   ]
  },
  {
   "cell_type": "code",
   "execution_count": 24,
   "id": "89271b77-e197-4893-9f62-0588a69922df",
   "metadata": {},
   "outputs": [
    {
     "data": {
      "text/plain": [
       "500.0"
      ]
     },
     "execution_count": 24,
     "metadata": {},
     "output_type": "execute_result"
    }
   ],
   "source": [
    "interest_rate_calculator(10000, 5)"
   ]
  },
  {
   "cell_type": "code",
   "execution_count": 25,
   "id": "7703c460-5489-4d5d-b372-9f94c02fd3ac",
   "metadata": {},
   "outputs": [
    {
     "data": {
      "text/plain": [
       "511.62"
      ]
     },
     "execution_count": 25,
     "metadata": {},
     "output_type": "execute_result"
    }
   ],
   "source": [
    "interest_rate_calculator(10000, 5, interest_type='CI')"
   ]
  },
  {
   "cell_type": "code",
   "execution_count": 26,
   "id": "614fdc28-e3bf-4644-a7ef-89ec60eed828",
   "metadata": {},
   "outputs": [
    {
     "data": {
      "text/plain": [
       "777.16"
      ]
     },
     "execution_count": 26,
     "metadata": {},
     "output_type": "execute_result"
    }
   ],
   "source": [
    "interest_rate_calculator(10000, 5, interest_type='CI', time_in_months=18)"
   ]
  },
  {
   "cell_type": "code",
   "execution_count": 27,
   "id": "64180c39-9c17-4a16-a886-fdd17af3dca6",
   "metadata": {},
   "outputs": [
    {
     "data": {
      "text/plain": [
       "750.0"
      ]
     },
     "execution_count": 27,
     "metadata": {},
     "output_type": "execute_result"
    }
   ],
   "source": [
    "interest_rate_calculator(10000, 5, time_in_months=18)"
   ]
  },
  {
   "cell_type": "markdown",
   "id": "e6d364f4-e1c1-4e88-bb3d-dae98f218758",
   "metadata": {},
   "source": [
    "### Gather Positional Argument with *"
   ]
  },
  {
   "cell_type": "markdown",
   "id": "d0162615-c426-49e2-9426-d94dd38c3907",
   "metadata": {},
   "source": [
    "In previous `add(x,y)` function, we are passing 2 and 2 only input parameters to do the addition.  \n",
    "But that is not covering additional functionality completely. What if we want to pass 4 or 9 or N input parameters.  \n",
    "We can achieve that by using `*` method.  "
   ]
  },
  {
   "cell_type": "code",
   "execution_count": 28,
   "id": "69f3f795-5b1b-4fce-8766-124323530154",
   "metadata": {},
   "outputs": [],
   "source": [
    "# redefining the function - \n",
    "\n",
    "def addition(*args):\n",
    "    print(f\"Input Parameters are: {args}\")\n",
    "    \n",
    "    return sum(args)"
   ]
  },
  {
   "cell_type": "code",
   "execution_count": 29,
   "id": "8b22c50a-a368-44b3-88cb-8d905d6be8af",
   "metadata": {},
   "outputs": [
    {
     "name": "stdout",
     "output_type": "stream",
     "text": [
      "Input Parameters are: (2,)\n"
     ]
    },
    {
     "data": {
      "text/plain": [
       "2"
      ]
     },
     "execution_count": 29,
     "metadata": {},
     "output_type": "execute_result"
    }
   ],
   "source": [
    "addition(2)"
   ]
  },
  {
   "cell_type": "code",
   "execution_count": 30,
   "id": "42196952-fd3d-43bb-aae7-dc333710a6a7",
   "metadata": {},
   "outputs": [
    {
     "name": "stdout",
     "output_type": "stream",
     "text": [
      "Input Parameters are: (2, 5, 10, 23)\n"
     ]
    },
    {
     "data": {
      "text/plain": [
       "40"
      ]
     },
     "execution_count": 30,
     "metadata": {},
     "output_type": "execute_result"
    }
   ],
   "source": [
    "addition(2, 5, 10, 23)"
   ]
  },
  {
   "cell_type": "code",
   "execution_count": 31,
   "id": "1a35ddc1-0599-4d65-8252-665a920c4507",
   "metadata": {},
   "outputs": [
    {
     "name": "stdout",
     "output_type": "stream",
     "text": [
      "Input Parameters are: ()\n"
     ]
    },
    {
     "data": {
      "text/plain": [
       "0"
      ]
     },
     "execution_count": 31,
     "metadata": {},
     "output_type": "execute_result"
    }
   ],
   "source": [
    "addition()"
   ]
  },
  {
   "cell_type": "markdown",
   "id": "03a2f4ed-a168-4e56-a66d-20577c6407ab",
   "metadata": {},
   "source": [
    "#### **What if**  \n",
    "you have indefinite number of paramter with few required ones ...."
   ]
  },
  {
   "cell_type": "code",
   "execution_count": 56,
   "id": "37d84125-4c1e-48b5-b155-53b21b8090bb",
   "metadata": {},
   "outputs": [],
   "source": [
    "def multiply_advance(x, y, *args):   # x, y are required parameter, *args will capture if there is more than 2 params\n",
    "    out = 1\n",
    "    #print(args)\n",
    "    for i in args:\n",
    "        out = out * i\n",
    "    return out * x * y"
   ]
  },
  {
   "cell_type": "code",
   "execution_count": 57,
   "id": "ce7a7944-2163-4002-850b-b1104126f2b6",
   "metadata": {},
   "outputs": [
    {
     "data": {
      "text/plain": [
       "360"
      ]
     },
     "execution_count": 57,
     "metadata": {},
     "output_type": "execute_result"
    }
   ],
   "source": [
    "multiply_advance(1,2,4,5, 9)"
   ]
  },
  {
   "cell_type": "code",
   "execution_count": 58,
   "id": "bf89b91a-eaae-4497-80e3-9ab81ccc1a8e",
   "metadata": {},
   "outputs": [
    {
     "data": {
      "text/plain": [
       "21"
      ]
     },
     "execution_count": 58,
     "metadata": {},
     "output_type": "execute_result"
    }
   ],
   "source": [
    "multiply_advance(3, 7)"
   ]
  }
 ],
 "metadata": {
  "kernelspec": {
   "display_name": "Python 3",
   "language": "python",
   "name": "python3"
  },
  "language_info": {
   "codemirror_mode": {
    "name": "ipython",
    "version": 3
   },
   "file_extension": ".py",
   "mimetype": "text/x-python",
   "name": "python",
   "nbconvert_exporter": "python",
   "pygments_lexer": "ipython3",
   "version": "3.9.5"
  }
 },
 "nbformat": 4,
 "nbformat_minor": 5
}

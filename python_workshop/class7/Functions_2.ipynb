{
 "cells": [
  {
   "cell_type": "markdown",
   "id": "acaff9d4-bd77-4b0a-b2d3-b88f35d293b3",
   "metadata": {},
   "source": [
    "## Functions #2 - ADVANCE - **kwargs, function as object, nested & lambda function"
   ]
  },
  {
   "cell_type": "markdown",
   "id": "bcbba812-dde5-4f93-9bf7-69dea619591b",
   "metadata": {},
   "source": [
    "## Gather Keyword Argument with **"
   ]
  },
  {
   "cell_type": "code",
   "execution_count": 4,
   "id": "456c964a-c085-4da7-945a-dc94fb28b127",
   "metadata": {},
   "outputs": [],
   "source": [
    "def area(**kwargs):\n",
    "    print(kwargs)\n",
    "    \n",
    "    return kwargs['length'] * kwargs['width']"
   ]
  },
  {
   "cell_type": "code",
   "execution_count": 5,
   "id": "6a818bc0-2a26-4cfc-8eef-466e384cbc2d",
   "metadata": {},
   "outputs": [
    {
     "ename": "TypeError",
     "evalue": "area() takes 0 positional arguments but 2 were given",
     "output_type": "error",
     "traceback": [
      "\u001b[1;31m---------------------------------------------------------------------------\u001b[0m",
      "\u001b[1;31mTypeError\u001b[0m                                 Traceback (most recent call last)",
      "\u001b[1;32m<ipython-input-5-b63bf21f4429>\u001b[0m in \u001b[0;36m<module>\u001b[1;34m\u001b[0m\n\u001b[1;32m----> 1\u001b[1;33m \u001b[0marea\u001b[0m\u001b[1;33m(\u001b[0m\u001b[1;36m3\u001b[0m\u001b[1;33m,\u001b[0m \u001b[1;36m4\u001b[0m\u001b[1;33m)\u001b[0m\u001b[1;33m\u001b[0m\u001b[1;33m\u001b[0m\u001b[0m\n\u001b[0m",
      "\u001b[1;31mTypeError\u001b[0m: area() takes 0 positional arguments but 2 were given"
     ]
    }
   ],
   "source": [
    "area(3, 4)"
   ]
  },
  {
   "cell_type": "code",
   "execution_count": 6,
   "id": "106bb38d-1d29-4b39-a561-c587ed7a348b",
   "metadata": {},
   "outputs": [
    {
     "name": "stdout",
     "output_type": "stream",
     "text": [
      "{'length': 4, 'width': 5}\n"
     ]
    },
    {
     "data": {
      "text/plain": [
       "20"
      ]
     },
     "execution_count": 6,
     "metadata": {},
     "output_type": "execute_result"
    }
   ],
   "source": [
    "area(length=4, width=5)"
   ]
  },
  {
   "cell_type": "markdown",
   "id": "a0082768-df51-4400-bf54-ebc8b9ede14e",
   "metadata": {},
   "source": [
    "### Arguement Order is  \n",
    "* Required Positional Argument  \n",
    "* Optional Positional Argument (*args)  \n",
    "* Optional Keyword Argument (**kwargs)"
   ]
  },
  {
   "cell_type": "markdown",
   "id": "7132d1b9-f07c-4d1c-a24e-008699c47da4",
   "metadata": {},
   "source": [
    "### Mutable (which can change) and Immutable Arguments  \n",
    "If an argument os mutable such as `list`. its value can be changed from inside the function via its corresponding parameter.  "
   ]
  },
  {
   "cell_type": "code",
   "execution_count": 7,
   "id": "edb01c4f-2700-4c10-bb1c-cb7b9eab5685",
   "metadata": {},
   "outputs": [],
   "source": [
    "def print_val(arg):\n",
    "    arg[1] = 9999\n",
    "    print(arg)"
   ]
  },
  {
   "cell_type": "code",
   "execution_count": 8,
   "id": "a174cc5e-0b1f-400a-806c-536ae80a46c5",
   "metadata": {},
   "outputs": [
    {
     "name": "stdout",
     "output_type": "stream",
     "text": [
      "[1, 9999, 4]\n",
      "[1, 9999, 4]\n"
     ]
    }
   ],
   "source": [
    "val = [1, 2, 4]\n",
    "\n",
    "print_val(val)\n",
    "\n",
    "print(val)"
   ]
  },
  {
   "cell_type": "code",
   "execution_count": 26,
   "id": "a3a96631-80c4-429b-99bb-2c71df481852",
   "metadata": {},
   "outputs": [],
   "source": [
    "def get_square(x, y=[]):  # default values are assigned at function definition time.\n",
    "    y.append(x * x)\n",
    "    return y"
   ]
  },
  {
   "cell_type": "code",
   "execution_count": 27,
   "id": "9c1ba64a-0bbb-41b5-99a2-779a209cc189",
   "metadata": {},
   "outputs": [
    {
     "data": {
      "text/plain": [
       "[25]"
      ]
     },
     "execution_count": 27,
     "metadata": {},
     "output_type": "execute_result"
    }
   ],
   "source": [
    "get_square(5)"
   ]
  },
  {
   "cell_type": "code",
   "execution_count": 28,
   "id": "85bef533-fd57-47ca-880d-2838cb8b658d",
   "metadata": {},
   "outputs": [
    {
     "data": {
      "text/plain": [
       "[25, 36]"
      ]
     },
     "execution_count": 28,
     "metadata": {},
     "output_type": "execute_result"
    }
   ],
   "source": [
    "get_square(6)"
   ]
  },
  {
   "cell_type": "code",
   "execution_count": 29,
   "id": "522e0d75-b659-4b42-8ae0-0a3acadcdac7",
   "metadata": {},
   "outputs": [
    {
     "data": {
      "text/plain": [
       "[25, 36, 81]"
      ]
     },
     "execution_count": 29,
     "metadata": {},
     "output_type": "execute_result"
    }
   ],
   "source": [
    "get_square(9)"
   ]
  },
  {
   "cell_type": "markdown",
   "id": "401f4d63-0b7a-498f-9e78-0f680fb916ad",
   "metadata": {},
   "source": [
    "### Functionas are Objects  \n",
    "In Python, Everything is object, numbers, strings, tuples, lists, dictionaries...and functions as well.  \n",
    "We can assign them to variable, use them as an argument to another function"
   ]
  },
  {
   "cell_type": "code",
   "execution_count": 14,
   "id": "a64e8255-97b6-4170-9434-c766f6471090",
   "metadata": {},
   "outputs": [],
   "source": [
    "def add_all(*args):\n",
    "    '''\n",
    "        Take any numbers of Input and Return the Sum of them\n",
    "    '''\n",
    "    return sum(args)"
   ]
  },
  {
   "cell_type": "code",
   "execution_count": 15,
   "id": "be2aff86-0d3f-42b0-a642-654034ad212f",
   "metadata": {},
   "outputs": [],
   "source": [
    "def multiply_all(*args):\n",
    "    '''\n",
    "        Take any numbers of Input and Return the Multiplication of them\n",
    "    '''\n",
    "    out = 1\n",
    "    for x in args:\n",
    "        out *= x\n",
    "    return out"
   ]
  },
  {
   "cell_type": "code",
   "execution_count": 16,
   "id": "325f91a7-013b-47b2-9763-f77d65c9be0e",
   "metadata": {},
   "outputs": [],
   "source": [
    "def run_any_function(func, *args):\n",
    "    '''\n",
    "        Take a name of func and any number of inputs\n",
    "        Return the Value which is return by the func with *args\n",
    "    '''\n",
    "    return func(*args)"
   ]
  },
  {
   "cell_type": "code",
   "execution_count": 17,
   "id": "8f0139bc-0978-4b18-b8a3-9f4a004c418a",
   "metadata": {},
   "outputs": [
    {
     "data": {
      "text/plain": [
       "9"
      ]
     },
     "execution_count": 17,
     "metadata": {},
     "output_type": "execute_result"
    }
   ],
   "source": [
    "add_all(2,3,4)"
   ]
  },
  {
   "cell_type": "code",
   "execution_count": 18,
   "id": "0af03d9b-a14f-411d-852b-90af0e95f139",
   "metadata": {},
   "outputs": [
    {
     "data": {
      "text/plain": [
       "24"
      ]
     },
     "execution_count": 18,
     "metadata": {},
     "output_type": "execute_result"
    }
   ],
   "source": [
    "multiply_all(2,3,4)"
   ]
  },
  {
   "cell_type": "code",
   "execution_count": 19,
   "id": "51229a00-5429-4284-b264-de1e5d25c086",
   "metadata": {},
   "outputs": [
    {
     "data": {
      "text/plain": [
       "9"
      ]
     },
     "execution_count": 19,
     "metadata": {},
     "output_type": "execute_result"
    }
   ],
   "source": [
    "run_any_function(add_all, 2,3,4)"
   ]
  },
  {
   "cell_type": "code",
   "execution_count": 20,
   "id": "141770e0-84f3-4d7d-b083-6b009065b78b",
   "metadata": {},
   "outputs": [
    {
     "data": {
      "text/plain": [
       "24"
      ]
     },
     "execution_count": 20,
     "metadata": {},
     "output_type": "execute_result"
    }
   ],
   "source": [
    "run_any_function(multiply_all, 2,3,4)"
   ]
  },
  {
   "cell_type": "markdown",
   "id": "cf075505-4361-4fe5-b6b7-784471d4a1c8",
   "metadata": {},
   "source": [
    "### Nested Function  \n",
    "When a function is defined within another function.  "
   ]
  },
  {
   "cell_type": "code",
   "execution_count": 74,
   "id": "639f96eb-e927-41a1-be5d-06b14f46beb3",
   "metadata": {},
   "outputs": [],
   "source": [
    "def speak(say,vol):\n",
    "    \n",
    "    def loud():             # child #1\n",
    "        return say.upper() + '!!......'\n",
    "    \n",
    "    def soft():             # child #2\n",
    "        return say.lower() + '.......'\n",
    "    \n",
    "    if vol>0.5:\n",
    "        return loud\n",
    "    else:\n",
    "        return soft"
   ]
  },
  {
   "cell_type": "code",
   "execution_count": 76,
   "id": "ed518f5c-d44e-4fd2-a747-7d0f6e0e3f2b",
   "metadata": {},
   "outputs": [
    {
     "data": {
      "text/plain": [
       "'hi.......'"
      ]
     },
     "execution_count": 76,
     "metadata": {},
     "output_type": "execute_result"
    }
   ],
   "source": [
    "func=speak('HI', 0.4)\n",
    "func()"
   ]
  },
  {
   "cell_type": "code",
   "execution_count": 77,
   "id": "d9571873-e1f3-49bc-9133-198061abf3ed",
   "metadata": {},
   "outputs": [
    {
     "data": {
      "text/plain": [
       "'HI!!......'"
      ]
     },
     "execution_count": 77,
     "metadata": {},
     "output_type": "execute_result"
    }
   ],
   "source": [
    "speak('HI', 0.7)()"
   ]
  },
  {
   "cell_type": "markdown",
   "id": "3f3825c4-dcb2-4dd4-8541-80f32c208e46",
   "metadata": {},
   "source": [
    "A closure remembers the values from its enclosing lexical scope even when the program flow is no longer in that scope.  \n",
    "As we can see in below example, child function does not have any input argument but it remember the value passed in its parenet.  \n",
    "These kind of functions are called **closure function**."
   ]
  },
  {
   "cell_type": "code",
   "execution_count": 82,
   "id": "9eea6cde-22d9-4eaa-8fa0-58e5cdacd1de",
   "metadata": {},
   "outputs": [],
   "source": [
    "## Design the Adder\n",
    "\n",
    "def make_adder(n):\n",
    "    def adder(x):\n",
    "        return x + n\n",
    "    return adder"
   ]
  },
  {
   "cell_type": "code",
   "execution_count": 83,
   "id": "f193b47f-ca69-4891-b24a-aa2287c1bbc5",
   "metadata": {},
   "outputs": [],
   "source": [
    "adder_3 = make_adder(3)"
   ]
  },
  {
   "cell_type": "code",
   "execution_count": 84,
   "id": "ba5981e1-bf47-46e4-9e80-dd2a3546df27",
   "metadata": {},
   "outputs": [
    {
     "data": {
      "text/plain": [
       "12"
      ]
     },
     "execution_count": 84,
     "metadata": {},
     "output_type": "execute_result"
    }
   ],
   "source": [
    "adder_3(9)"
   ]
  },
  {
   "cell_type": "code",
   "execution_count": 85,
   "id": "421fc776-273e-4007-9b86-b61bbce34a26",
   "metadata": {},
   "outputs": [
    {
     "data": {
      "text/plain": [
       "31"
      ]
     },
     "execution_count": 85,
     "metadata": {},
     "output_type": "execute_result"
    }
   ],
   "source": [
    "adder_3(28)"
   ]
  },
  {
   "cell_type": "markdown",
   "id": "8800c4f1-b14a-4c0c-bccc-da013ead38f7",
   "metadata": {},
   "source": [
    "### No Name (Anonymous) Functions : lambda  \n",
    "Lambdas Are Single-Expression Functions, these are one liner with no name.  "
   ]
  },
  {
   "cell_type": "code",
   "execution_count": 30,
   "id": "0257919b-40ed-4eb0-b8a0-e08ba0fd7a04",
   "metadata": {},
   "outputs": [],
   "source": [
    "add = lambda x, y: x+y"
   ]
  },
  {
   "cell_type": "code",
   "execution_count": 31,
   "id": "92c0c71f-6083-4ff8-88be-3d2c339e03c0",
   "metadata": {},
   "outputs": [
    {
     "data": {
      "text/plain": [
       "7"
      ]
     },
     "execution_count": 31,
     "metadata": {},
     "output_type": "execute_result"
    }
   ],
   "source": [
    "add(3,4)"
   ]
  },
  {
   "cell_type": "code",
   "execution_count": 32,
   "id": "60c0587f-69bb-4bab-a8e3-6867cc2113f1",
   "metadata": {},
   "outputs": [],
   "source": [
    "add_any = lambda *args: sum(args)"
   ]
  },
  {
   "cell_type": "code",
   "execution_count": 33,
   "id": "7f455205-92f6-4622-b105-9ef9422eb9da",
   "metadata": {},
   "outputs": [
    {
     "data": {
      "text/plain": [
       "9"
      ]
     },
     "execution_count": 33,
     "metadata": {},
     "output_type": "execute_result"
    }
   ],
   "source": [
    "add_any(2, 3, 4)"
   ]
  },
  {
   "cell_type": "markdown",
   "id": "df635711-2ca7-4242-827e-c230456a6dd4",
   "metadata": {},
   "source": [
    "Lambda function doesn't need to be binded with any name, they can be called directly"
   ]
  },
  {
   "cell_type": "code",
   "execution_count": 34,
   "id": "7665c311-1db0-4271-a819-836ec524b255",
   "metadata": {},
   "outputs": [
    {
     "data": {
      "text/plain": [
       "14"
      ]
     },
     "execution_count": 34,
     "metadata": {},
     "output_type": "execute_result"
    }
   ],
   "source": [
    "(lambda *args: sum(args))(2,3,4,5)"
   ]
  },
  {
   "cell_type": "code",
   "execution_count": 37,
   "id": "43e2af69-c824-4368-a865-389e5a198e4a",
   "metadata": {},
   "outputs": [
    {
     "data": {
      "text/plain": [
       "[(1, 'd'), (2, 'b'), (3, 'c'), (4, 'a')]"
      ]
     },
     "execution_count": 37,
     "metadata": {},
     "output_type": "execute_result"
    }
   ],
   "source": [
    "tuples = [(1, 'd'), (2, 'b'), (4, 'a'), (3, 'c')] \n",
    "\n",
    "sorted(tuples)  # by default it will sort with first item is each tuples"
   ]
  },
  {
   "cell_type": "code",
   "execution_count": 41,
   "id": "8ed1c9e9-2559-4a8d-9343-1c26be3e7652",
   "metadata": {},
   "outputs": [
    {
     "data": {
      "text/plain": [
       "[(4, 'a'), (2, 'b'), (3, 'c'), (1, 'd')]"
      ]
     },
     "execution_count": 41,
     "metadata": {},
     "output_type": "execute_result"
    }
   ],
   "source": [
    "sorted(tuples, key=(lambda x:x[1]))     # sorted by 2nd item"
   ]
  },
  {
   "cell_type": "code",
   "execution_count": 42,
   "id": "351cdaca-29b7-43d9-b72c-69c55ddcec3d",
   "metadata": {},
   "outputs": [
    {
     "data": {
      "text/plain": [
       "[0, -1, 1, -2, 2, -3, 3, -4, 4, -5, 5]"
      ]
     },
     "execution_count": 42,
     "metadata": {},
     "output_type": "execute_result"
    }
   ],
   "source": [
    "sorted(range(-5, 6), key=lambda x: x * x)"
   ]
  },
  {
   "cell_type": "code",
   "execution_count": 43,
   "id": "216bf0c8-72e8-488e-bc70-cd5a92f73538",
   "metadata": {},
   "outputs": [
    {
     "data": {
      "text/plain": [
       "[0, -1, 1, -2, 2, -3, 3, -4, 4, -5, 5]"
      ]
     },
     "execution_count": 43,
     "metadata": {},
     "output_type": "execute_result"
    }
   ],
   "source": [
    "sorted(range(-5, 6), key=lambda x: abs(x))"
   ]
  },
  {
   "cell_type": "markdown",
   "id": "a85975f0-8e76-46f1-99cf-4d3e34b82b71",
   "metadata": {},
   "source": [
    "Lambda functions can be used as a **closure function**"
   ]
  },
  {
   "cell_type": "code",
   "execution_count": 89,
   "id": "aa4ddd3b-5682-41ff-bede-04a14377d650",
   "metadata": {},
   "outputs": [],
   "source": [
    "def create_adder(n):\n",
    "    return lambda x: x + n"
   ]
  },
  {
   "cell_type": "code",
   "execution_count": 90,
   "id": "aac5db64-f4d8-47fe-99af-defd9e01847c",
   "metadata": {},
   "outputs": [
    {
     "data": {
      "text/plain": [
       "17"
      ]
     },
     "execution_count": 90,
     "metadata": {},
     "output_type": "execute_result"
    }
   ],
   "source": [
    "create_adder(5)(12)"
   ]
  },
  {
   "cell_type": "code",
   "execution_count": 91,
   "id": "ba8b1bf5-fd5f-40c3-9e31-7bc4f3a83262",
   "metadata": {},
   "outputs": [
    {
     "data": {
      "text/plain": [
       "33"
      ]
     },
     "execution_count": 91,
     "metadata": {},
     "output_type": "execute_result"
    }
   ],
   "source": [
    "fun = create_adder(10)\n",
    "fun(23)"
   ]
  },
  {
   "cell_type": "markdown",
   "id": "ae95f21a-b32b-4126-b4df-7658c407c8cd",
   "metadata": {},
   "source": [
    "Lambda functions should be used sparingly and with extraordinary care. As these are good if used wisely, exessive use of lambda function in program can loose the readability.  "
   ]
  },
  {
   "cell_type": "code",
   "execution_count": 92,
   "id": "2072903e-0eb9-4f99-9b36-82b14198e4cb",
   "metadata": {},
   "outputs": [
    {
     "data": {
      "text/plain": [
       "[0, 2, 4, 6, 8, 10, 12, 14, 16, 18]"
      ]
     },
     "execution_count": 92,
     "metadata": {},
     "output_type": "execute_result"
    }
   ],
   "source": [
    "# TO get only even no from a range function  \n",
    "\n",
    "[x for x in range(20) if x%2==0]   # EASY and CLEAR"
   ]
  },
  {
   "cell_type": "code",
   "execution_count": 97,
   "id": "ba9586ce-5f45-4645-b8ed-40a814b882d5",
   "metadata": {},
   "outputs": [
    {
     "data": {
      "text/plain": [
       "[0, 2, 4, 6, 8, 10, 12, 14, 16, 18]"
      ]
     },
     "execution_count": 97,
     "metadata": {},
     "output_type": "execute_result"
    }
   ],
   "source": [
    "list(filter(lambda x: x%2==0, range(20)))   # Little COMPLEX"
   ]
  },
  {
   "cell_type": "code",
   "execution_count": 98,
   "id": "43ed37ed-4f38-41b8-8258-343abb301c7f",
   "metadata": {},
   "outputs": [
    {
     "data": {
      "text/plain": [
       "[0, 1, 4, 9, 16]"
      ]
     },
     "execution_count": 98,
     "metadata": {},
     "output_type": "execute_result"
    }
   ],
   "source": [
    "list(map(lambda x: x**2, range(5)))"
   ]
  },
  {
   "cell_type": "code",
   "execution_count": 102,
   "id": "050e8e03-1c49-41ac-9056-0575d56f54dd",
   "metadata": {},
   "outputs": [
    {
     "data": {
      "text/plain": [
       "16"
      ]
     },
     "execution_count": 102,
     "metadata": {},
     "output_type": "execute_result"
    }
   ],
   "source": [
    "func = lambda x: x**2\n",
    "func(4)"
   ]
  },
  {
   "cell_type": "code",
   "execution_count": 106,
   "id": "169c48e0-7e5d-4342-b049-d92dbc22062b",
   "metadata": {},
   "outputs": [
    {
     "data": {
      "text/plain": [
       "[0, 1, 4, 9, 16, 25, 36, 49, 64, 81]"
      ]
     },
     "execution_count": 106,
     "metadata": {},
     "output_type": "execute_result"
    }
   ],
   "source": [
    "list(map(func, range(10)))"
   ]
  },
  {
   "cell_type": "code",
   "execution_count": null,
   "id": "3a4acfcd-db63-42a8-af8a-49f72681aec3",
   "metadata": {},
   "outputs": [],
   "source": []
  }
 ],
 "metadata": {
  "kernelspec": {
   "display_name": "Python 3",
   "language": "python",
   "name": "python3"
  },
  "language_info": {
   "codemirror_mode": {
    "name": "ipython",
    "version": 3
   },
   "file_extension": ".py",
   "mimetype": "text/x-python",
   "name": "python",
   "nbconvert_exporter": "python",
   "pygments_lexer": "ipython3",
   "version": "3.9.5"
  }
 },
 "nbformat": 4,
 "nbformat_minor": 5
}

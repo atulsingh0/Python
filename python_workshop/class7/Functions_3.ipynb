{
 "cells": [
  {
   "cell_type": "markdown",
   "id": "764a732e-b234-4cad-8f02-5cb74ce1400f",
   "metadata": {},
   "source": [
    "## Functions #3 - ADVANCE - decorators"
   ]
  },
  {
   "cell_type": "code",
   "execution_count": 8,
   "id": "f746349a-8cc8-465e-be64-8533e2bac180",
   "metadata": {},
   "outputs": [],
   "source": [
    "def make_uppercase(func):\n",
    "    def wrapper(*args):\n",
    "        org_op = func(*args)\n",
    "        return org_op.upper()\n",
    "    return wrapper"
   ]
  },
  {
   "cell_type": "code",
   "execution_count": 9,
   "id": "138455e3-845c-4f46-82ce-bf427b7efb15",
   "metadata": {},
   "outputs": [],
   "source": [
    "@make_uppercase\n",
    "def greet(say):\n",
    "    return say +'!...'"
   ]
  },
  {
   "cell_type": "code",
   "execution_count": 11,
   "id": "e38a777a-b725-407f-83e5-929d9a313ffc",
   "metadata": {},
   "outputs": [
    {
     "data": {
      "text/plain": [
       "'HI!...'"
      ]
     },
     "execution_count": 11,
     "metadata": {},
     "output_type": "execute_result"
    }
   ],
   "source": [
    "greet('hi')"
   ]
  },
  {
   "cell_type": "code",
   "execution_count": null,
   "id": "0e2175d7-dc12-441c-8acf-9a8f0d1b0838",
   "metadata": {},
   "outputs": [],
   "source": []
  }
 ],
 "metadata": {
  "kernelspec": {
   "display_name": "Python 3",
   "language": "python",
   "name": "python3"
  },
  "language_info": {
   "codemirror_mode": {
    "name": "ipython",
    "version": 3
   },
   "file_extension": ".py",
   "mimetype": "text/x-python",
   "name": "python",
   "nbconvert_exporter": "python",
   "pygments_lexer": "ipython3",
   "version": "3.9.5"
  }
 },
 "nbformat": 4,
 "nbformat_minor": 5
}

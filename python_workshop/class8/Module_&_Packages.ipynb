{
 "cells": [
  {
   "cell_type": "markdown",
   "id": "5e0b3c5f-4014-458b-ab03-480192ef4a3e",
   "metadata": {},
   "source": [
    "## Modules & Packages  \n",
    "A *Module* is kust a file of any Python code.    \n",
    "\n",
    "### Import a Module  \n",
    "Use the *import* statement to import a module"
   ]
  },
  {
   "cell_type": "code",
   "execution_count": 1,
   "id": "f4f9936b-a3a3-4b90-8769-5470b8c051f8",
   "metadata": {},
   "outputs": [
    {
     "data": {
      "text/plain": [
       "25"
      ]
     },
     "execution_count": 1,
     "metadata": {},
     "output_type": "execute_result"
    }
   ],
   "source": [
    "import random    # Importing random module  \n",
    "\n",
    "random.randint(10, 100)"
   ]
  },
  {
   "cell_type": "code",
   "execution_count": 2,
   "id": "f15ca41d-b4d1-4de7-a420-5371805747cc",
   "metadata": {},
   "outputs": [
    {
     "data": {
      "text/plain": [
       "0.17377032986337726"
      ]
     },
     "execution_count": 2,
     "metadata": {},
     "output_type": "execute_result"
    }
   ],
   "source": [
    "# importing an specific function  \n",
    "\n",
    "from random import random \n",
    "\n",
    "random()"
   ]
  },
  {
   "cell_type": "markdown",
   "id": "4c65bb4e-41f7-42e9-a522-9658b99a9e4c",
   "metadata": {},
   "source": [
    "### Packages Location  \n",
    "Python checks for below locations for calling module. "
   ]
  },
  {
   "cell_type": "code",
   "execution_count": 7,
   "id": "733135ff-5b6f-4b54-a026-ae9a5dbe7640",
   "metadata": {},
   "outputs": [
    {
     "name": "stdout",
     "output_type": "stream",
     "text": [
      "D:\\Linux-Shared\\DATA\\mydata\\github\\Python\\python_workshop\n",
      "c:\\users\\atul\\appdata\\local\\programs\\python\\python39\\python39.zip\n",
      "c:\\users\\atul\\appdata\\local\\programs\\python\\python39\\DLLs\n",
      "c:\\users\\atul\\appdata\\local\\programs\\python\\python39\\lib\n",
      "c:\\users\\atul\\appdata\\local\\programs\\python\\python39\n",
      "\n",
      "c:\\users\\atul\\appdata\\local\\programs\\python\\python39\\lib\\site-packages\n",
      "c:\\users\\atul\\appdata\\local\\programs\\python\\python39\\lib\\site-packages\\win32\n",
      "c:\\users\\atul\\appdata\\local\\programs\\python\\python39\\lib\\site-packages\\win32\\lib\n",
      "c:\\users\\atul\\appdata\\local\\programs\\python\\python39\\lib\\site-packages\\Pythonwin\n",
      "c:\\users\\atul\\appdata\\local\\programs\\python\\python39\\lib\\site-packages\\IPython\\extensions\n",
      "C:\\Users\\Atul\\.ipython\n"
     ]
    }
   ],
   "source": [
    "import sys; print('\\n'.join(sys.path))"
   ]
  },
  {
   "cell_type": "code",
   "execution_count": null,
   "id": "7ae041bb-9652-4d7e-ac41-6d27caa2f271",
   "metadata": {},
   "outputs": [],
   "source": []
  }
 ],
 "metadata": {
  "kernelspec": {
   "display_name": "Python 3",
   "language": "python",
   "name": "python3"
  },
  "language_info": {
   "codemirror_mode": {
    "name": "ipython",
    "version": 3
   },
   "file_extension": ".py",
   "mimetype": "text/x-python",
   "name": "python",
   "nbconvert_exporter": "python",
   "pygments_lexer": "ipython3",
   "version": "3.9.5"
  }
 },
 "nbformat": 4,
 "nbformat_minor": 5
}

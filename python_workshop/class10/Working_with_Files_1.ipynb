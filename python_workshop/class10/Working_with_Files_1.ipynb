{
 "cells": [
  {
   "cell_type": "markdown",
   "id": "b18bbe97-31bb-4c14-8336-1c4916e1aa15",
   "metadata": {},
   "source": [
    "## Working with Files"
   ]
  },
  {
   "cell_type": "markdown",
   "id": "9b9fa1bc-a3ac-4152-a54b-5b137abee0c8",
   "metadata": {},
   "source": [
    "### Read a Text file with `read()`, `readline()` and `readlines()`   \n",
    "*read()* - Read the whole file as characters  \n",
    "*readline()* - Read one line at a time  \n",
    "*readlines()* - Read all the lines as a list  "
   ]
  },
  {
   "cell_type": "code",
   "execution_count": 1,
   "id": "5e801515-471f-49bf-a527-8ed5e978bf13",
   "metadata": {},
   "outputs": [
    {
     "name": "stdout",
     "output_type": "stream",
     "text": [
      "Docker containers and microservices have become more or less\n"
     ]
    }
   ],
   "source": [
    "fh = open(\"sample.txt\", mode='r')  # open the file if exists\n",
    "\n",
    "data = fh.read()                   # read the whole file in one go, not prefferred method if file is huge\n",
    "fh.close()                         # closing the file handler\n",
    "\n",
    "print(data[:60])                   # printing first 60 char"
   ]
  },
  {
   "cell_type": "code",
   "execution_count": 2,
   "id": "cefac4d7-4e75-426c-93f4-81b7b7f4ebb5",
   "metadata": {},
   "outputs": [
    {
     "name": "stdout",
     "output_type": "stream",
     "text": [
      "Total Characters in file: 10307\n"
     ]
    }
   ],
   "source": [
    "print(f'Total Characters in file: {len(data)}')"
   ]
  },
  {
   "cell_type": "markdown",
   "id": "12a58250-2fa4-44c5-89ba-82d4d9a55fe4",
   "metadata": {},
   "source": [
    "### Using `readline()` method"
   ]
  },
  {
   "cell_type": "code",
   "execution_count": 11,
   "id": "af4a39fa-1090-4e2a-9193-e4b384b38baf",
   "metadata": {},
   "outputs": [
    {
     "name": "stdout",
     "output_type": "stream",
     "text": [
      "Total lines in file: 146\n"
     ]
    }
   ],
   "source": [
    "cnt = 0\n",
    "\n",
    "fh = open(\"sample.txt\", mode='r')  # open the file if exists\n",
    "while True:                             # infinite loop\n",
    "    line = fh.readline()                # reading one line at a time\n",
    "    if not line:                        # if there is no line, if block will execute which will break the loop\n",
    "        break\n",
    "    \n",
    "    cnt = cnt+1                         # if line exists, increase the count by 1\n",
    "\n",
    "print(f'Total lines in file: {cnt}')    # print the total count\n",
    "\n",
    "fh.close()"
   ]
  },
  {
   "cell_type": "markdown",
   "id": "ff08e928-dba1-4df0-83c5-d7a8a102293e",
   "metadata": {},
   "source": [
    "### Using `readlines()` method"
   ]
  },
  {
   "cell_type": "code",
   "execution_count": 13,
   "id": "2a645fbf-4a81-4a6e-9804-46ae77bb3b88",
   "metadata": {},
   "outputs": [
    {
     "name": "stdout",
     "output_type": "stream",
     "text": [
      "Total lines in file: 146\n"
     ]
    }
   ],
   "source": [
    "fh = open(\"sample.txt\", mode='r')  # open the file if exists\n",
    "lines = fh.readlines()                # reading all line at a time and store them as list\n",
    "\n",
    "print(f'Total lines in file: {len(lines)}')    # print the total count\n",
    "\n",
    "fh.close()"
   ]
  },
  {
   "cell_type": "code",
   "execution_count": 9,
   "id": "026f5786-1a57-47a8-9b97-3a5014d869d7",
   "metadata": {},
   "outputs": [
    {
     "data": {
      "text/plain": [
       "list"
      ]
     },
     "execution_count": 9,
     "metadata": {},
     "output_type": "execute_result"
    }
   ],
   "source": [
    "type(lines)"
   ]
  },
  {
   "cell_type": "code",
   "execution_count": 10,
   "id": "67487e90-fc02-463b-ac0d-224ac2dce078",
   "metadata": {},
   "outputs": [
    {
     "data": {
      "text/plain": [
       "['Docker containers and microservices have become more or less analogous to powering the cloud\\n',\n",
       " 'No conversation about the cloud is without these terms and advocates for microservices tend to pitch it as a remedy for large monolithic ailments\\n',\n",
       " \"It's also a solution to come up to speed with the rest of the new software out there that is being developed currently\\n\"]"
      ]
     },
     "execution_count": 10,
     "metadata": {},
     "output_type": "execute_result"
    }
   ],
   "source": [
    "lines[:3]"
   ]
  },
  {
   "cell_type": "markdown",
   "id": "7313694f-3257-4d92-8f67-db3dd0de1fe9",
   "metadata": {},
   "source": [
    "### Close file automatically by using `with` clause"
   ]
  },
  {
   "cell_type": "code",
   "execution_count": 14,
   "id": "3f96e094-ead6-4c58-ac3c-bd465cd913ca",
   "metadata": {},
   "outputs": [
    {
     "name": "stdout",
     "output_type": "stream",
     "text": [
      "Total lines in file: 146\n"
     ]
    }
   ],
   "source": [
    "with open(\"sample.txt\", mode='r') as fh: \n",
    "    lines = fh.readlines()                # reading all line at a time and store them as list\n",
    "\n",
    "print(f'Total lines in file: {len(lines)}')    # print the total count"
   ]
  },
  {
   "cell_type": "markdown",
   "id": "c1c6d622-18d6-4dd3-97b0-e0259f15e546",
   "metadata": {},
   "source": [
    "### `seek` method will move the read pointer to specific location  \n",
    "Once you read the while file via file handler, file pointer reached to end of file. If you want to use the same file handler again, You will not get any output. To view the data again, you have to move the pointer back to start of file.  "
   ]
  },
  {
   "cell_type": "code",
   "execution_count": 30,
   "id": "7c6988ce-4523-4c73-8e0b-28dfbc49c407",
   "metadata": {},
   "outputs": [],
   "source": [
    "fh = open(\"data.csv\")  # Open the whole file in one go\n",
    "data = fh.read()\n",
    "\n",
    "data_2 = fh.read()"
   ]
  },
  {
   "cell_type": "code",
   "execution_count": 31,
   "id": "8d987f88-8d17-4061-9e39-94ac2cb78769",
   "metadata": {},
   "outputs": [
    {
     "name": "stdout",
     "output_type": "stream",
     "text": [
      "589657\n",
      "0\n"
     ]
    }
   ],
   "source": [
    "print(len(data))\n",
    "print(len(data_2))"
   ]
  },
  {
   "cell_type": "code",
   "execution_count": 33,
   "id": "466e0d9f-3084-47f0-ac84-16e9b123295b",
   "metadata": {},
   "outputs": [
    {
     "name": "stdout",
     "output_type": "stream",
     "text": [
      "589657\n",
      "589657\n"
     ]
    }
   ],
   "source": [
    "fh = open(\"data.csv\")  # Open the whole file in one go\n",
    "data = fh.read()\n",
    "\n",
    "fh.seek(0,0)   # move read pointer to very start \n",
    "data_2 = fh.read()  \n",
    "\n",
    "print(len(data))\n",
    "print(len(data_2))"
   ]
  },
  {
   "cell_type": "markdown",
   "id": "c40ff3de-d5fa-4ca3-8eda-0d40b6e8c4ad",
   "metadata": {},
   "source": [
    "### Few file handler method"
   ]
  },
  {
   "cell_type": "code",
   "execution_count": 29,
   "id": "6c7b6560-f363-4089-bc80-f2cef0343df5",
   "metadata": {},
   "outputs": [
    {
     "name": "stdout",
     "output_type": "stream",
     "text": [
      "file name: data.csv\n",
      "file closed or not: False\n",
      "file opening mode: r\n",
      "file closed or not: True\n"
     ]
    }
   ],
   "source": [
    "fh = open(\"data.csv\")  # Open the whole file in one go\n",
    "\n",
    "\n",
    "print(f\"file name: {fh.name}\")\n",
    "print(f\"file closed or not: {fh.closed}\")\n",
    "print(f\"file opening mode: {fh.mode}\") \n",
    "\n",
    "fh.close()\n",
    "print(f\"file closed or not: {fh.closed}\")"
   ]
  },
  {
   "cell_type": "markdown",
   "id": "658f2cef-981b-4224-ac2e-a4d06628bb8f",
   "metadata": {},
   "source": [
    "### Write to File with `write()`   \n",
    "`write()` method will write to a file, if exists it will over-write and if not exists, it will create a file. "
   ]
  },
  {
   "cell_type": "code",
   "execution_count": 24,
   "id": "a61d13ab-23d6-4f1a-be29-54cbe03af875",
   "metadata": {},
   "outputs": [],
   "source": [
    "# Writing to a new file -   \n",
    "\n",
    "with open('test.txt', mode='w') as fh:\n",
    "    fh.write(\"this is the first line. \\n\")                     # write a sinle line\n",
    "    fh.write(\"this is the second line. \\n\")\n",
    "    \n",
    "    fh.writelines([\"third line\\n\", 'forth line\\n'])            # write multiple lines, for new line (\\n) character is added at last of each line"
   ]
  },
  {
   "cell_type": "code",
   "execution_count": 25,
   "id": "9d8c6685-3b3f-42c2-a01e-fcced18b18dd",
   "metadata": {},
   "outputs": [
    {
     "name": "stdout",
     "output_type": "stream",
     "text": [
      "this is the first line. \n",
      "this is the second line. \n",
      "third line\n",
      "forth line\n",
      "\n"
     ]
    }
   ],
   "source": [
    "# reading the same file \n",
    "\n",
    "with open('test.txt', mode='r') as fh:\n",
    "    print(fh.read())"
   ]
  },
  {
   "cell_type": "markdown",
   "id": "0a7001c0-33dc-4ddf-a5c0-dd2807057bca",
   "metadata": {},
   "source": [
    "### Preferred way to read a file   \n",
    "if need to work on line by line"
   ]
  },
  {
   "cell_type": "code",
   "execution_count": 26,
   "id": "6658ec58-fbab-4676-bbdf-a8c78b06b461",
   "metadata": {},
   "outputs": [
    {
     "name": "stdout",
     "output_type": "stream",
     "text": [
      "Total lines: 146\n"
     ]
    }
   ],
   "source": [
    "count = 0\n",
    "with open(\"sample.txt\") as file:         \n",
    "    for line in file:                   # this will read the file line by file\n",
    "        count = count+1\n",
    "\n",
    "print(f\"Total lines: {count}\")           # No file.close() statement required. "
   ]
  },
  {
   "cell_type": "markdown",
   "id": "c9d2d6d6-89e3-4657-b825-ad1af7396c52",
   "metadata": {},
   "source": [
    "What if File does not exist or some issue occured when trying to access a file  \n",
    "### Read file with `try/except` block "
   ]
  },
  {
   "cell_type": "code",
   "execution_count": 28,
   "id": "009f6c32-c10a-487d-b67e-52cc94375117",
   "metadata": {},
   "outputs": [
    {
     "name": "stdin",
     "output_type": "stream",
     "text": [
      "Enter the file name:  sample\n"
     ]
    },
    {
     "name": "stdout",
     "output_type": "stream",
     "text": [
      "File does not exists.\n"
     ]
    }
   ],
   "source": [
    "\n",
    "file_name = input(\"Enter the file name: \")\n",
    "\n",
    "try:\n",
    "    count = 0\n",
    "    with open(file_name) as fh:         # this will read the file line by file\n",
    "        for line in fh:\n",
    "            count = count+1\n",
    "\n",
    "except FileNotFoundError:\n",
    "    print(\"File does not exists.\")\n",
    "\n",
    "except Exception as e:\n",
    "    print(\"Unspecified Error occured. - \", type(e))\n",
    "    \n",
    "else:\n",
    "    print(f\"Total lines: {count}\")"
   ]
  },
  {
   "cell_type": "markdown",
   "id": "523a704f-b69f-4946-a01a-bb119d2bf767",
   "metadata": {},
   "source": [
    "### File Methods"
   ]
  },
  {
   "cell_type": "code",
   "execution_count": 39,
   "id": "fac44c96-5873-42f5-871a-929f46bb0e53",
   "metadata": {},
   "outputs": [
    {
     "name": "stdout",
     "output_type": "stream",
     "text": [
      "Total Char:  589657\n",
      "Current offset: 592718\n"
     ]
    }
   ],
   "source": [
    "fh = open(\"data.csv\")  # Open the whole file in one go\n",
    "data = fh.read()       # Read all the characters from file\n",
    "\n",
    "print(f'Total Char:  {len(data)}')\n",
    "print(f'Current offset: {fh.tell()}')              # Display the current offset (byte) location"
   ]
  },
  {
   "cell_type": "code",
   "execution_count": 38,
   "id": "51555128-cc85-4ad4-8ee2-733d25b5c7e2",
   "metadata": {},
   "outputs": [
    {
     "name": "stdout",
     "output_type": "stream",
     "text": [
      "Total Lines: 3061\n"
     ]
    }
   ],
   "source": [
    "fh.seek(0,0)                     #  Resetting offset at beginning of file\n",
    "\n",
    "data_lines = fh.readlines()      # Read all the lines from file\n",
    "\n",
    "print(f'Total Lines: {len(data_lines)}')"
   ]
  },
  {
   "cell_type": "code",
   "execution_count": 40,
   "id": "ea35025f-61af-4cdb-9a22-1a1d391821d9",
   "metadata": {},
   "outputs": [
    {
     "data": {
      "text/plain": [
       "3060"
      ]
     },
     "execution_count": 40,
     "metadata": {},
     "output_type": "execute_result"
    }
   ],
   "source": [
    "# Count word \n",
    "\n",
    "data.count('Dollars')"
   ]
  },
  {
   "cell_type": "code",
   "execution_count": 42,
   "id": "8f67aa91-7f7c-401a-96b9-e01a45271881",
   "metadata": {},
   "outputs": [
    {
     "data": {
      "text/plain": [
       "3061"
      ]
     },
     "execution_count": 42,
     "metadata": {},
     "output_type": "execute_result"
    }
   ],
   "source": [
    "# Total lines in file \n",
    "data.count(\"\\n\")"
   ]
  },
  {
   "cell_type": "code",
   "execution_count": 43,
   "id": "c8df5dae-8298-4774-97a6-8ceabfc8e273",
   "metadata": {},
   "outputs": [
    {
     "data": {
      "text/plain": [
       "3061"
      ]
     },
     "execution_count": 43,
     "metadata": {},
     "output_type": "execute_result"
    }
   ],
   "source": [
    "# Total lines in file \n",
    "len(data_lines)"
   ]
  },
  {
   "cell_type": "code",
   "execution_count": 44,
   "id": "7426c5e3-89f2-4603-a245-ea558d51b3ec",
   "metadata": {},
   "outputs": [
    {
     "data": {
      "text/plain": [
       "['Series_reference,Period,Data_value,Suppressed,STATUS,UNITS,Magnitude,Subject,Group,Series_title_1,Series_title_2,Series_title_3,Series_title_4,Series_title_5\\n',\n",
       " 'BDCQ.SF1AA2CA,2016.06,1116.386,,F,Dollars,6,Business Data Collection - BDC,Industry by financial variable,Sales (operating income),Forestry and Logging,Current prices,Unadjusted,\\n',\n",
       " 'BDCQ.SF1AA2CA,2016.09,1070.874,,F,Dollars,6,Business Data Collection - BDC,Industry by financial variable,Sales (operating income),Forestry and Logging,Current prices,Unadjusted,\\n']"
      ]
     },
     "execution_count": 44,
     "metadata": {},
     "output_type": "execute_result"
    }
   ],
   "source": [
    "data_lines[:3]"
   ]
  },
  {
   "cell_type": "markdown",
   "id": "d996c94d-e813-41ab-8e70-f8dd85e885fe",
   "metadata": {},
   "source": [
    "As we are dealing with Files,  Files are not going to be there where your python program exists.   \n",
    "So traverse through the file path, we use `pathlib` module"
   ]
  },
  {
   "cell_type": "code",
   "execution_count": 1,
   "id": "35ee32ac-bf8f-4d55-8031-72f61ba8c596",
   "metadata": {},
   "outputs": [],
   "source": [
    "import pathlib as p "
   ]
  },
  {
   "cell_type": "code",
   "execution_count": 2,
   "id": "ef463d15-2a5e-4475-b597-520d0c4c6e20",
   "metadata": {},
   "outputs": [
    {
     "data": {
      "text/plain": [
       "WindowsPath('C:/Users/Atul')"
      ]
     },
     "execution_count": 2,
     "metadata": {},
     "output_type": "execute_result"
    }
   ],
   "source": [
    "p.Path.home()  # User's home directory"
   ]
  },
  {
   "cell_type": "code",
   "execution_count": 3,
   "id": "f4596c6f-2f22-4aad-b5f9-624061dc409c",
   "metadata": {},
   "outputs": [
    {
     "data": {
      "text/plain": [
       "WindowsPath('D:/Linux-Shared/DATA/mydata/github/Python/python_workshop/class9')"
      ]
     },
     "execution_count": 3,
     "metadata": {},
     "output_type": "execute_result"
    }
   ],
   "source": [
    "p.Path.cwd()   # User's current working directory"
   ]
  },
  {
   "cell_type": "code",
   "execution_count": 4,
   "id": "9b3ad7ca-e83a-4f8d-87ca-b24ab71e6d3b",
   "metadata": {},
   "outputs": [
    {
     "data": {
      "text/plain": [
       "WindowsPath('D:/Linux-Shared')"
      ]
     },
     "execution_count": 4,
     "metadata": {},
     "output_type": "execute_result"
    }
   ],
   "source": [
    "# Create path variable\n",
    "\n",
    "test_dir = p.Path(\"D:/Linux-Shared/\")\n",
    "test_dir"
   ]
  },
  {
   "cell_type": "code",
   "execution_count": 12,
   "id": "7572cdb3-8979-4539-86da-bc9b09e86517",
   "metadata": {},
   "outputs": [
    {
     "data": {
      "text/plain": [
       "WindowsPath('D:/Linux-Shared/DATA/mydata/github/Python/python_workshop/class9/python_out')"
      ]
     },
     "execution_count": 12,
     "metadata": {},
     "output_type": "execute_result"
    }
   ],
   "source": [
    "test_dir = p.Path.cwd() / \"python_out\"\n",
    "test_dir"
   ]
  },
  {
   "cell_type": "code",
   "execution_count": 13,
   "id": "ddc3add4-2cd8-4511-a918-2b57d90baeca",
   "metadata": {},
   "outputs": [
    {
     "data": {
      "text/plain": [
       "False"
      ]
     },
     "execution_count": 13,
     "metadata": {},
     "output_type": "execute_result"
    }
   ],
   "source": [
    "# check if path exist\n",
    "p.Path.exists(test_dir)"
   ]
  },
  {
   "cell_type": "code",
   "execution_count": 15,
   "id": "2581eaab-89a0-4377-9b78-50915ed3f8c0",
   "metadata": {},
   "outputs": [],
   "source": [
    "# Create Directory, Ignore if exists\n",
    "\n",
    "p.Path.mkdir(test_dir, exist_ok=True)"
   ]
  },
  {
   "cell_type": "code",
   "execution_count": 16,
   "id": "0e2460d1-0656-4c35-b477-91bbeb4abec5",
   "metadata": {},
   "outputs": [
    {
     "data": {
      "text/plain": [
       "True"
      ]
     },
     "execution_count": 16,
     "metadata": {},
     "output_type": "execute_result"
    }
   ],
   "source": [
    "p.Path.exists(test_dir)"
   ]
  },
  {
   "cell_type": "markdown",
   "id": "6a8583e9-8d4a-4835-867b-05253663eac7",
   "metadata": {},
   "source": [
    "### File Operations   \n",
    "\n",
    "With the help of library `os` we can perform lots of os specific operation over files such as menntioned below - "
   ]
  },
  {
   "cell_type": "markdown",
   "id": "eac19de1-e78f-4fa1-ad1d-89c2c9344441",
   "metadata": {},
   "source": [
    "#### Check Existence with `exists()`"
   ]
  },
  {
   "cell_type": "code",
   "execution_count": 1,
   "id": "9f82a013-19bc-463e-aa7c-c1c2d508a525",
   "metadata": {},
   "outputs": [
    {
     "data": {
      "text/plain": [
       "True"
      ]
     },
     "execution_count": 1,
     "metadata": {},
     "output_type": "execute_result"
    }
   ],
   "source": [
    "import os \n",
    "\n",
    "os.path.exists('sample.txt')"
   ]
  },
  {
   "cell_type": "code",
   "execution_count": 2,
   "id": "dbc83a66-cb44-4693-9659-bfbbb61fcb70",
   "metadata": {},
   "outputs": [
    {
     "data": {
      "text/plain": [
       "False"
      ]
     },
     "execution_count": 2,
     "metadata": {},
     "output_type": "execute_result"
    }
   ],
   "source": [
    "os.path.exists('sample')"
   ]
  },
  {
   "cell_type": "markdown",
   "id": "6e269a7b-10d1-40e9-b8df-60a38c5fe602",
   "metadata": {},
   "source": [
    "#### Check type with `isfile()`"
   ]
  },
  {
   "cell_type": "code",
   "execution_count": 3,
   "id": "1f303002-f4d4-4098-94e9-9d9ebd1e4969",
   "metadata": {},
   "outputs": [
    {
     "data": {
      "text/plain": [
       "True"
      ]
     },
     "execution_count": 3,
     "metadata": {},
     "output_type": "execute_result"
    }
   ],
   "source": [
    "os.path.isfile('sample.txt')"
   ]
  },
  {
   "cell_type": "code",
   "execution_count": 4,
   "id": "860871a5-0b4b-41af-82ba-14a34f227e7f",
   "metadata": {},
   "outputs": [
    {
     "data": {
      "text/plain": [
       "False"
      ]
     },
     "execution_count": 4,
     "metadata": {},
     "output_type": "execute_result"
    }
   ],
   "source": [
    "os.path.isfile('sample_2.txt')"
   ]
  },
  {
   "cell_type": "markdown",
   "id": "ac34483f-e7c4-4c98-84a1-3b6e6fe0ca85",
   "metadata": {},
   "source": [
    "#### Change name with `rename()`"
   ]
  },
  {
   "cell_type": "code",
   "execution_count": 7,
   "id": "6901b9ef-a66b-4ab3-bda5-8b1e077e3be5",
   "metadata": {},
   "outputs": [],
   "source": [
    "os.rename('sample.txt', 'sam.txt')           # source file name, target file name"
   ]
  },
  {
   "cell_type": "markdown",
   "id": "bbf96f90-fc6c-4be1-8511-c60bf222ef7a",
   "metadata": {},
   "source": [
    "#### Delete a file with `remove()`"
   ]
  },
  {
   "cell_type": "code",
   "execution_count": 8,
   "id": "b416772d-8a09-4885-8d27-04d9f02961ef",
   "metadata": {},
   "outputs": [],
   "source": [
    "os.remove('test.txt')"
   ]
  },
  {
   "cell_type": "code",
   "execution_count": 9,
   "id": "fd31eabf-84a0-43b9-a510-846060d224c2",
   "metadata": {},
   "outputs": [
    {
     "data": {
      "text/plain": [
       "False"
      ]
     },
     "execution_count": 9,
     "metadata": {},
     "output_type": "execute_result"
    }
   ],
   "source": [
    "os.path.isfile('test.txt')"
   ]
  },
  {
   "cell_type": "markdown",
   "id": "0b9f6777-6042-4eaf-ac5c-7b6d817b823e",
   "metadata": {},
   "source": [
    "### Directory Operations"
   ]
  },
  {
   "cell_type": "markdown",
   "id": "6a20bccd-444c-4621-8daa-8e4c86b19f85",
   "metadata": {},
   "source": [
    "#### Create file with `mkdir()`"
   ]
  },
  {
   "cell_type": "code",
   "execution_count": 10,
   "id": "c68bf364-f85b-4b89-b73d-0d47be13847a",
   "metadata": {},
   "outputs": [],
   "source": [
    "os.mkdir('stories')"
   ]
  },
  {
   "cell_type": "code",
   "execution_count": 11,
   "id": "0d09437e-7700-464b-bbf6-3b0fe8a45f9f",
   "metadata": {},
   "outputs": [
    {
     "data": {
      "text/plain": [
       "True"
      ]
     },
     "execution_count": 11,
     "metadata": {},
     "output_type": "execute_result"
    }
   ],
   "source": [
    "os.path.exists('stories')"
   ]
  },
  {
   "cell_type": "code",
   "execution_count": 12,
   "id": "39f79c66-f29c-4a43-9aa3-19e7e139d998",
   "metadata": {},
   "outputs": [
    {
     "data": {
      "text/plain": [
       "False"
      ]
     },
     "execution_count": 12,
     "metadata": {},
     "output_type": "execute_result"
    }
   ],
   "source": [
    "os.path.isfile('stories')"
   ]
  },
  {
   "cell_type": "code",
   "execution_count": 13,
   "id": "10c480c1-178a-41f2-bd6f-91f2bcec1061",
   "metadata": {},
   "outputs": [
    {
     "data": {
      "text/plain": [
       "True"
      ]
     },
     "execution_count": 13,
     "metadata": {},
     "output_type": "execute_result"
    }
   ],
   "source": [
    "os.path.isdir('stories')"
   ]
  },
  {
   "cell_type": "code",
   "execution_count": null,
   "id": "8784fd7f-df29-426f-b4c6-bab89605fc94",
   "metadata": {},
   "outputs": [],
   "source": []
  }
 ],
 "metadata": {
  "kernelspec": {
   "display_name": "Python 3",
   "language": "python",
   "name": "python3"
  },
  "language_info": {
   "codemirror_mode": {
    "name": "ipython",
    "version": 3
   },
   "file_extension": ".py",
   "mimetype": "text/x-python",
   "name": "python",
   "nbconvert_exporter": "python",
   "pygments_lexer": "ipython3",
   "version": "3.9.5"
  }
 },
 "nbformat": 4,
 "nbformat_minor": 5
}

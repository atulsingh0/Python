{
 "cells": [
  {
   "cell_type": "markdown",
   "id": "68c00e51-0792-4ced-be37-ce5c8c59b38f",
   "metadata": {},
   "source": [
    "## Sets  \n",
    "\n",
    "like dictionaries, but with keys only (no values)  \n",
    "**properties:** unordered, iterable, mutable, can contain multiple data types made up of unique elements (strings, numbers, or tuples)  \n",
    "\n",
    "Use a Set when you only want to know that something exists, and nothing else about it. It's also called a bag of keys.  "
   ]
  },
  {
   "cell_type": "markdown",
   "id": "fc67fa46-99c9-4602-acb6-4aef8a5b44cb",
   "metadata": {},
   "source": [
    "### Create with `set()`"
   ]
  },
  {
   "cell_type": "code",
   "execution_count": 47,
   "id": "ef885199-1b44-48ee-8d26-4d4688de2941",
   "metadata": {},
   "outputs": [
    {
     "name": "stdout",
     "output_type": "stream",
     "text": [
      "set()\n",
      "<class 'set'>\n"
     ]
    }
   ],
   "source": [
    "empty_set = set()\n",
    "\n",
    "print(empty_set)\n",
    "print(type(empty_set))"
   ]
  },
  {
   "cell_type": "code",
   "execution_count": 48,
   "id": "a2d95c39-b1dd-4e4f-b30e-2f9413ade8bd",
   "metadata": {},
   "outputs": [
    {
     "name": "stdout",
     "output_type": "stream",
     "text": [
      "{2, 4, 6, 8, 10, 12, 14}\n",
      "<class 'set'>\n"
     ]
    }
   ],
   "source": [
    "even_num = {2, 4, 6, 8, 10, 12, 14}\n",
    "\n",
    "print(even_num)\n",
    "print(type(even_num))"
   ]
  },
  {
   "cell_type": "code",
   "execution_count": 49,
   "id": "04130617-7131-496c-be3b-7e5c55b70965",
   "metadata": {},
   "outputs": [],
   "source": [
    "emp1 = {'fname': 'Lyle', 'lname': 'Dsouza', 'age': 35, 'job': 'teacher'}"
   ]
  },
  {
   "cell_type": "code",
   "execution_count": 50,
   "id": "eb0d4dd0-a6a5-403e-bd0f-2b706dc3b3e4",
   "metadata": {},
   "outputs": [
    {
     "data": {
      "text/plain": [
       "dict_keys(['fname', 'lname', 'age', 'job'])"
      ]
     },
     "execution_count": 50,
     "metadata": {},
     "output_type": "execute_result"
    }
   ],
   "source": [
    "# Keys\n",
    "emp1.keys()"
   ]
  },
  {
   "cell_type": "code",
   "execution_count": 51,
   "id": "441d0868-8a70-4a89-a684-843b56dead82",
   "metadata": {},
   "outputs": [
    {
     "name": "stdout",
     "output_type": "stream",
     "text": [
      "{'age', 'lname', 'job', 'fname'}\n"
     ]
    }
   ],
   "source": [
    "emp1_keys = set(emp1)\n",
    "\n",
    "print(emp1_keys)"
   ]
  },
  {
   "cell_type": "markdown",
   "id": "9f0b4ab2-0ffb-4b57-942f-626ee99bb4d6",
   "metadata": {},
   "source": [
    "### Get Lenght of Set with `len`"
   ]
  },
  {
   "cell_type": "code",
   "execution_count": 52,
   "id": "376558e7-3c83-4782-a09d-2ab93456d045",
   "metadata": {},
   "outputs": [
    {
     "data": {
      "text/plain": [
       "4"
      ]
     },
     "execution_count": 52,
     "metadata": {},
     "output_type": "execute_result"
    }
   ],
   "source": [
    "len(emp1_keys)"
   ]
  },
  {
   "cell_type": "markdown",
   "id": "9340ee07-82ad-4162-acd8-4d2420c85cde",
   "metadata": {},
   "source": [
    "### Add an item with `add()`"
   ]
  },
  {
   "cell_type": "code",
   "execution_count": 53,
   "id": "8973a2c6-7b5a-4533-8727-3630af1f5d5b",
   "metadata": {},
   "outputs": [
    {
     "name": "stdout",
     "output_type": "stream",
     "text": [
      "{2, 4, 6, 8, 10, 12, 14}\n",
      "{2, 4, 100, 6, 8, 10, 12, 14}\n"
     ]
    }
   ],
   "source": [
    "print(even_num)\n",
    "\n",
    "even_num.add(100)\n",
    "\n",
    "print(even_num)"
   ]
  },
  {
   "cell_type": "markdown",
   "id": "93f9f797-cb4a-463e-921b-21ebf7cd3b51",
   "metadata": {},
   "source": [
    "### Remove an item with `remove()`"
   ]
  },
  {
   "cell_type": "code",
   "execution_count": 54,
   "id": "32f46543-9594-408b-ac85-6525ec33b73f",
   "metadata": {},
   "outputs": [
    {
     "name": "stdout",
     "output_type": "stream",
     "text": [
      "{2, 4, 100, 6, 10, 12, 14}\n"
     ]
    }
   ],
   "source": [
    "even_num.remove(8)\n",
    "\n",
    "print(even_num)"
   ]
  },
  {
   "cell_type": "code",
   "execution_count": 55,
   "id": "ea61c116-1616-4738-8096-4c07ea9e8a01",
   "metadata": {},
   "outputs": [
    {
     "ename": "KeyError",
     "evalue": "99",
     "output_type": "error",
     "traceback": [
      "\u001b[1;31m---------------------------------------------------------------------------\u001b[0m",
      "\u001b[1;31mKeyError\u001b[0m                                  Traceback (most recent call last)",
      "\u001b[1;32m<ipython-input-55-ac17dbc20fbe>\u001b[0m in \u001b[0;36m<module>\u001b[1;34m\u001b[0m\n\u001b[1;32m----> 1\u001b[1;33m \u001b[0meven_num\u001b[0m\u001b[1;33m.\u001b[0m\u001b[0mremove\u001b[0m\u001b[1;33m(\u001b[0m\u001b[1;36m99\u001b[0m\u001b[1;33m)\u001b[0m  \u001b[1;31m# throws error if item does not exists\u001b[0m\u001b[1;33m\u001b[0m\u001b[1;33m\u001b[0m\u001b[0m\n\u001b[0m\u001b[0;32m      2\u001b[0m \u001b[1;33m\u001b[0m\u001b[0m\n\u001b[0;32m      3\u001b[0m \u001b[0mprint\u001b[0m\u001b[1;33m(\u001b[0m\u001b[0meven_num\u001b[0m\u001b[1;33m)\u001b[0m\u001b[1;33m\u001b[0m\u001b[1;33m\u001b[0m\u001b[0m\n",
      "\u001b[1;31mKeyError\u001b[0m: 99"
     ]
    }
   ],
   "source": [
    "even_num.remove(99)  # throws error if item does not exists\n",
    "\n",
    "print(even_num)"
   ]
  },
  {
   "cell_type": "markdown",
   "id": "75de8cc8-d8ab-4675-b28e-922479d89f5a",
   "metadata": {},
   "source": [
    "### Get and remove a random value with `pop()`"
   ]
  },
  {
   "cell_type": "code",
   "execution_count": 56,
   "id": "ee62101f-2501-4918-8631-c1bfafce79c9",
   "metadata": {},
   "outputs": [
    {
     "name": "stdout",
     "output_type": "stream",
     "text": [
      "2\n",
      "{4, 100, 6, 10, 12, 14}\n"
     ]
    }
   ],
   "source": [
    "itm = even_num.pop()\n",
    "\n",
    "print(itm)\n",
    "print(even_num)"
   ]
  },
  {
   "cell_type": "code",
   "execution_count": 57,
   "id": "14166825-3585-4f79-bfe6-56e315d1d308",
   "metadata": {},
   "outputs": [
    {
     "name": "stdout",
     "output_type": "stream",
     "text": [
      "4\n",
      "{100, 6, 10, 12, 14}\n"
     ]
    }
   ],
   "source": [
    "itm = even_num.pop()\n",
    "\n",
    "print(itm)\n",
    "print(even_num)"
   ]
  },
  {
   "cell_type": "markdown",
   "id": "0c2a8735-df39-40b8-9375-4f3f551c4c83",
   "metadata": {},
   "source": [
    "### Remove and item with `discard()`"
   ]
  },
  {
   "cell_type": "code",
   "execution_count": 58,
   "id": "acceb5b8-ad87-47ef-868f-243738992230",
   "metadata": {},
   "outputs": [
    {
     "data": {
      "text/plain": [
       "{6, 10, 12, 14}"
      ]
     },
     "execution_count": 58,
     "metadata": {},
     "output_type": "execute_result"
    }
   ],
   "source": [
    "even_num.discard(100)\n",
    "\n",
    "even_num"
   ]
  },
  {
   "cell_type": "code",
   "execution_count": 59,
   "id": "f0969090-d336-493b-bd61-50231cff3f79",
   "metadata": {},
   "outputs": [
    {
     "data": {
      "text/plain": [
       "{6, 10, 12, 14}"
      ]
     },
     "execution_count": 59,
     "metadata": {},
     "output_type": "execute_result"
    }
   ],
   "source": [
    "even_num.discard(99)   # No err if item does not exists\n",
    "\n",
    "even_num"
   ]
  },
  {
   "cell_type": "markdown",
   "id": "d433226e-7833-40ac-a774-26f693022c10",
   "metadata": {},
   "source": [
    "### Iterating with `for` and `in`"
   ]
  },
  {
   "cell_type": "code",
   "execution_count": 60,
   "id": "6a8c08d7-8727-4828-b0f0-5bb3d3854ed3",
   "metadata": {},
   "outputs": [
    {
     "name": "stdout",
     "output_type": "stream",
     "text": [
      "6\n",
      "10\n",
      "12\n",
      "14\n"
     ]
    }
   ],
   "source": [
    "for val in even_num:\n",
    "    print(val)"
   ]
  },
  {
   "cell_type": "markdown",
   "id": "dcd338c0-8d91-4469-83aa-eb7f85d0c5b0",
   "metadata": {},
   "source": [
    "### Item existance check with `in`"
   ]
  },
  {
   "cell_type": "code",
   "execution_count": 61,
   "id": "b0709fd8-5db1-4048-912f-aae1dfa65bf1",
   "metadata": {},
   "outputs": [
    {
     "data": {
      "text/plain": [
       "False"
      ]
     },
     "execution_count": 61,
     "metadata": {},
     "output_type": "execute_result"
    }
   ],
   "source": [
    "30 in even_num"
   ]
  },
  {
   "cell_type": "code",
   "execution_count": 62,
   "id": "228df463-a23a-4eb8-84c3-60efcad8b8ca",
   "metadata": {},
   "outputs": [
    {
     "data": {
      "text/plain": [
       "True"
      ]
     },
     "execution_count": 62,
     "metadata": {},
     "output_type": "execute_result"
    }
   ],
   "source": [
    "6 in even_num"
   ]
  },
  {
   "cell_type": "markdown",
   "id": "54ef0f62-0935-48de-a78a-0b0336f8191b",
   "metadata": {},
   "source": [
    "### Combinations & Operators  \n",
    "Sets data types are follow the Mathematics Set theory where we can calculate the `intersection`, `difference`, `union`, `exlusive`, `subset` and `superset` functions.   \n",
    "If want to revise little math around this [Set Theory](https://www.mathsisfun.com/sets/venn-diagrams.html)"
   ]
  },
  {
   "cell_type": "code",
   "execution_count": 63,
   "id": "3bb4d7db-8c3d-4b7c-8d5c-0c98804b85c1",
   "metadata": {},
   "outputs": [],
   "source": [
    "set_1 = {22, 11, 33}\n",
    "set_2 = {22, 44, 11}"
   ]
  },
  {
   "cell_type": "markdown",
   "id": "4a40c683-47d8-4a4b-9276-cac9cae71554",
   "metadata": {},
   "source": [
    "### `union`"
   ]
  },
  {
   "cell_type": "code",
   "execution_count": 64,
   "id": "54e1c56d-412b-481c-86a6-b1168cc427d3",
   "metadata": {},
   "outputs": [
    {
     "data": {
      "text/plain": [
       "{11, 22, 33, 44}"
      ]
     },
     "execution_count": 64,
     "metadata": {},
     "output_type": "execute_result"
    }
   ],
   "source": [
    "set_1.union(set_2)   # A + B but without dups`"
   ]
  },
  {
   "cell_type": "code",
   "execution_count": 65,
   "id": "4c6ce700-218d-415f-8a8d-760b3383abfe",
   "metadata": {},
   "outputs": [
    {
     "data": {
      "text/plain": [
       "{11, 22, 33, 44}"
      ]
     },
     "execution_count": 65,
     "metadata": {},
     "output_type": "execute_result"
    }
   ],
   "source": [
    "# You can achieve the same as below - \n",
    "\n",
    "set_1 | set_2    # | - represent union"
   ]
  },
  {
   "cell_type": "markdown",
   "id": "931bd3dc-1d58-41cb-b8ce-3d4412d5fe35",
   "metadata": {},
   "source": [
    "### `intersection`"
   ]
  },
  {
   "cell_type": "code",
   "execution_count": 66,
   "id": "aa910699-13ce-43a0-8a78-cfedc5a6d6f0",
   "metadata": {},
   "outputs": [
    {
     "data": {
      "text/plain": [
       "{11, 22}"
      ]
     },
     "execution_count": 66,
     "metadata": {},
     "output_type": "execute_result"
    }
   ],
   "source": [
    "set_1.intersection(set_2)  # elememts which are available in both "
   ]
  },
  {
   "cell_type": "code",
   "execution_count": 67,
   "id": "2b2cf410-a02f-4dc5-9ab4-2e0c9c79219d",
   "metadata": {},
   "outputs": [
    {
     "data": {
      "text/plain": [
       "{11, 22}"
      ]
     },
     "execution_count": 67,
     "metadata": {},
     "output_type": "execute_result"
    }
   ],
   "source": [
    "set_1 & set_2   # & - represent intersection"
   ]
  },
  {
   "cell_type": "markdown",
   "id": "cb678114-4d9a-4c22-aee4-ff6e4db406f7",
   "metadata": {},
   "source": [
    "### `diffrence`"
   ]
  },
  {
   "cell_type": "code",
   "execution_count": 68,
   "id": "5b9b2942-9a62-44d0-a206-f7dc27b60180",
   "metadata": {},
   "outputs": [
    {
     "data": {
      "text/plain": [
       "{33}"
      ]
     },
     "execution_count": 68,
     "metadata": {},
     "output_type": "execute_result"
    }
   ],
   "source": [
    "set_1.difference(set_2)   # Elements of A which are not available in B"
   ]
  },
  {
   "cell_type": "code",
   "execution_count": 69,
   "id": "502fed31-ee2d-46ef-8696-74a6df6620a4",
   "metadata": {},
   "outputs": [
    {
     "data": {
      "text/plain": [
       "{33}"
      ]
     },
     "execution_count": 69,
     "metadata": {},
     "output_type": "execute_result"
    }
   ],
   "source": [
    "set_1 - set_2"
   ]
  },
  {
   "cell_type": "code",
   "execution_count": 70,
   "id": "4808f13d-aff1-446b-9662-7bd4a69d4165",
   "metadata": {},
   "outputs": [
    {
     "data": {
      "text/plain": [
       "{44}"
      ]
     },
     "execution_count": 70,
     "metadata": {},
     "output_type": "execute_result"
    }
   ],
   "source": [
    "set_2.difference(set_1)   # Elements of B which are not available in A"
   ]
  },
  {
   "cell_type": "code",
   "execution_count": 71,
   "id": "fd910974-fad5-47de-9ca5-35dee53e93fb",
   "metadata": {},
   "outputs": [
    {
     "data": {
      "text/plain": [
       "{44}"
      ]
     },
     "execution_count": 71,
     "metadata": {},
     "output_type": "execute_result"
    }
   ],
   "source": [
    "set_2 - set_1"
   ]
  },
  {
   "cell_type": "markdown",
   "id": "c064c19b-107b-4006-94f5-b5458ce6d141",
   "metadata": {},
   "source": [
    "### exclusive with `symmetric_difference`"
   ]
  },
  {
   "cell_type": "code",
   "execution_count": 72,
   "id": "122f016b-ffe2-4bfb-9d26-a2df8fbc80d9",
   "metadata": {},
   "outputs": [
    {
     "data": {
      "text/plain": [
       "{33, 44}"
      ]
     },
     "execution_count": 72,
     "metadata": {},
     "output_type": "execute_result"
    }
   ],
   "source": [
    "set_1.symmetric_difference(set_2)"
   ]
  },
  {
   "cell_type": "code",
   "execution_count": 73,
   "id": "90a3eb28-1a8e-46a1-ad98-7657d68c10bc",
   "metadata": {},
   "outputs": [
    {
     "data": {
      "text/plain": [
       "{33, 44}"
      ]
     },
     "execution_count": 73,
     "metadata": {},
     "output_type": "execute_result"
    }
   ],
   "source": [
    "set_1 ^ set_2   # ^ - represent exclusive"
   ]
  },
  {
   "cell_type": "markdown",
   "id": "54fcb1c8-3f40-4211-93d6-109426de91b4",
   "metadata": {},
   "source": [
    "### `issubset`"
   ]
  },
  {
   "cell_type": "code",
   "execution_count": 74,
   "id": "a6a6a60f-1d95-436e-a2a2-df23007237d8",
   "metadata": {},
   "outputs": [],
   "source": [
    "set_3 = {11, 22, 44, 55, 33}"
   ]
  },
  {
   "cell_type": "code",
   "execution_count": 75,
   "id": "f6735189-7de1-4689-9c54-48e728338f11",
   "metadata": {},
   "outputs": [
    {
     "data": {
      "text/plain": [
       "False"
      ]
     },
     "execution_count": 75,
     "metadata": {},
     "output_type": "execute_result"
    }
   ],
   "source": [
    "set_3.issubset(set_1)"
   ]
  },
  {
   "cell_type": "code",
   "execution_count": 76,
   "id": "d3810662-6591-41f2-b3f8-5747768e6076",
   "metadata": {},
   "outputs": [
    {
     "data": {
      "text/plain": [
       "True"
      ]
     },
     "execution_count": 76,
     "metadata": {},
     "output_type": "execute_result"
    }
   ],
   "source": [
    "set_1.issubset(set_3)"
   ]
  },
  {
   "cell_type": "code",
   "execution_count": 77,
   "id": "3d7be629-86f1-4eb0-a201-c8178a5e0f7b",
   "metadata": {},
   "outputs": [
    {
     "data": {
      "text/plain": [
       "True"
      ]
     },
     "execution_count": 77,
     "metadata": {},
     "output_type": "execute_result"
    }
   ],
   "source": [
    "set_1 <= set_3    # <=  represent issubset"
   ]
  },
  {
   "cell_type": "markdown",
   "id": "72c00ec0-b94b-423d-988c-4f2dfd80b125",
   "metadata": {},
   "source": [
    "### `issuperset`"
   ]
  },
  {
   "cell_type": "code",
   "execution_count": 78,
   "id": "b5cc398e-5dce-4589-82f8-9a9beb292741",
   "metadata": {},
   "outputs": [
    {
     "data": {
      "text/plain": [
       "True"
      ]
     },
     "execution_count": 78,
     "metadata": {},
     "output_type": "execute_result"
    }
   ],
   "source": [
    "set_3.issuperset(set_1)"
   ]
  },
  {
   "cell_type": "code",
   "execution_count": 79,
   "id": "f10abc45-e94e-4b9b-b5a2-e840ffb0f585",
   "metadata": {},
   "outputs": [
    {
     "data": {
      "text/plain": [
       "True"
      ]
     },
     "execution_count": 79,
     "metadata": {},
     "output_type": "execute_result"
    }
   ],
   "source": [
    "set_3 >= set_1"
   ]
  },
  {
   "cell_type": "markdown",
   "id": "bc332b39-355d-40e0-af0c-f69ed64871ca",
   "metadata": {},
   "source": [
    "### Creating a frozen (immutable) set with `frozenset()`"
   ]
  },
  {
   "cell_type": "code",
   "execution_count": 80,
   "id": "8bdac24f-739e-4d54-bca2-0a9be6224a25",
   "metadata": {},
   "outputs": [],
   "source": [
    "set_1 = {3, 2, 9}\n",
    "set_2 = {9, 2, 3}\n",
    "lis = [ 3, 4, 9, 2, 3, 4 , 8 ]"
   ]
  },
  {
   "cell_type": "code",
   "execution_count": 81,
   "id": "05f61536-5b7c-4551-8496-6c8ea00d1e7f",
   "metadata": {},
   "outputs": [],
   "source": [
    "set_f3 = frozenset(set_1)\n",
    "set_f4 = frozenset(set_2)\n",
    "set_f5 = frozenset(lis)"
   ]
  },
  {
   "cell_type": "code",
   "execution_count": 82,
   "id": "7fb43c0c-729d-447e-bdc6-f85a68577db8",
   "metadata": {},
   "outputs": [
    {
     "name": "stdout",
     "output_type": "stream",
     "text": [
      "frozenset({9, 2, 3})\n",
      "frozenset({9, 2, 3})\n",
      "frozenset({2, 3, 4, 8, 9})\n"
     ]
    }
   ],
   "source": [
    "print(set_f3)\n",
    "print(set_f4)\n",
    "print(set_f5)  "
   ]
  },
  {
   "cell_type": "markdown",
   "id": "f0e80af1-3881-46ee-b53a-0a266bfaecd0",
   "metadata": {},
   "source": [
    "**frozenset** are hold unordered and immnutable elements"
   ]
  },
  {
   "cell_type": "code",
   "execution_count": 83,
   "id": "38cbd59d-a2e9-4ce0-ae94-3d5e47b11d30",
   "metadata": {},
   "outputs": [
    {
     "ename": "AttributeError",
     "evalue": "'frozenset' object has no attribute 'add'",
     "output_type": "error",
     "traceback": [
      "\u001b[1;31m---------------------------------------------------------------------------\u001b[0m",
      "\u001b[1;31mAttributeError\u001b[0m                            Traceback (most recent call last)",
      "\u001b[1;32m<ipython-input-83-b58207048783>\u001b[0m in \u001b[0;36m<module>\u001b[1;34m\u001b[0m\n\u001b[0;32m      3\u001b[0m \u001b[1;31m# add en element\u001b[0m\u001b[1;33m\u001b[0m\u001b[1;33m\u001b[0m\u001b[1;33m\u001b[0m\u001b[0m\n\u001b[0;32m      4\u001b[0m \u001b[1;33m\u001b[0m\u001b[0m\n\u001b[1;32m----> 5\u001b[1;33m \u001b[0mset_f5\u001b[0m\u001b[1;33m.\u001b[0m\u001b[0madd\u001b[0m\u001b[1;33m(\u001b[0m\u001b[1;36m19\u001b[0m\u001b[1;33m)\u001b[0m\u001b[1;33m\u001b[0m\u001b[1;33m\u001b[0m\u001b[0m\n\u001b[0m",
      "\u001b[1;31mAttributeError\u001b[0m: 'frozenset' object has no attribute 'add'"
     ]
    }
   ],
   "source": [
    "# Let's check \n",
    "\n",
    "# add en element \n",
    "\n",
    "set_f5.add(19)"
   ]
  },
  {
   "cell_type": "markdown",
   "id": "95cf1620-d092-43aa-b193-9e4d1f7f392f",
   "metadata": {},
   "source": [
    "### Get all Sorted Unique value from list"
   ]
  },
  {
   "cell_type": "code",
   "execution_count": 84,
   "id": "3db742a3-2a38-430a-9df8-874ef877757a",
   "metadata": {},
   "outputs": [],
   "source": [
    "data = [23, 7, 98, 23, 11, 11, 98, 76, 33, 4, 3, 29, 22, 90, 9, 78, 76]"
   ]
  },
  {
   "cell_type": "code",
   "execution_count": 86,
   "id": "1c62cb4a-d2a3-465d-8861-88422990d38a",
   "metadata": {},
   "outputs": [
    {
     "name": "stdout",
     "output_type": "stream",
     "text": [
      "[3, 4, 7, 9, 11, 22, 23, 29, 33, 76, 78, 90, 98]\n"
     ]
    }
   ],
   "source": [
    "## One way - \n",
    "\n",
    "unq_data = []\n",
    "\n",
    "for d in data:\n",
    "    if d not in unq_data:\n",
    "        unq_data.append(d)\n",
    "\n",
    "print(sorted(unq_data))"
   ]
  },
  {
   "cell_type": "code",
   "execution_count": 87,
   "id": "f0e73734-acd5-4a23-b3c8-24396ff04c32",
   "metadata": {},
   "outputs": [
    {
     "name": "stdout",
     "output_type": "stream",
     "text": [
      "[3, 4, 7, 9, 11, 22, 23, 29, 33, 76, 78, 90, 98]\n"
     ]
    }
   ],
   "source": [
    "## Quick way - \n",
    "\n",
    "print(sorted(set(data)))"
   ]
  },
  {
   "cell_type": "code",
   "execution_count": null,
   "id": "8cb4cb52-8f4e-4276-863f-c6fad08d2ff6",
   "metadata": {},
   "outputs": [],
   "source": []
  }
 ],
 "metadata": {
  "kernelspec": {
   "display_name": "Python 3",
   "language": "python",
   "name": "python3"
  },
  "language_info": {
   "codemirror_mode": {
    "name": "ipython",
    "version": 3
   },
   "file_extension": ".py",
   "mimetype": "text/x-python",
   "name": "python",
   "nbconvert_exporter": "python",
   "pygments_lexer": "ipython3",
   "version": "3.9.5"
  }
 },
 "nbformat": 4,
 "nbformat_minor": 5
}

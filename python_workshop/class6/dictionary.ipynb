{
 "cells": [
  {
   "cell_type": "markdown",
   "id": "2b771d36-4c87-490a-a8d0-f336d7fc6943",
   "metadata": {},
   "source": [
    "## Dictionary  \n",
    "\n",
    "**properties:** unordered, iterable, mutable, can contain multiple data types made up of key-value pairs  \n",
    "keys must be unique, and can be strings, numbers, or tuples values can be any type  \n",
    "\n",
    "Dictionaries are similar to list, but order doesn't matter and items can't be fetched with Indexes.  \n",
    "All the values are associated with an unique key. Usually, Keys are string type, but it can be any data type.  "
   ]
  },
  {
   "cell_type": "markdown",
   "id": "2d40b309-8dd3-4cf0-a0a9-a87344774f03",
   "metadata": {},
   "source": [
    "### Create with {} & `dict()`"
   ]
  },
  {
   "cell_type": "code",
   "execution_count": 1,
   "id": "1b2048e2-cd6c-433c-b0d6-e4e2efcc30bd",
   "metadata": {},
   "outputs": [
    {
     "name": "stdout",
     "output_type": "stream",
     "text": [
      "{}\n",
      "<class 'dict'>\n"
     ]
    }
   ],
   "source": [
    "empty_dict = {}\n",
    "\n",
    "print(empty_dict)\n",
    "print(type(empty_dict))"
   ]
  },
  {
   "cell_type": "code",
   "execution_count": 4,
   "id": "ddfcb5db-67c9-468c-98b1-56d2342c05a3",
   "metadata": {},
   "outputs": [
    {
     "name": "stdout",
     "output_type": "stream",
     "text": [
      "{'fname': 'Lyle', 'lname': 'Dsouza', 'age': 35, 'job': 'teacher'}\n",
      "<class 'dict'>\n"
     ]
    }
   ],
   "source": [
    "emp_1 = {'fname': 'Lyle', 'lname': 'Dsouza', 'age': 35, 'job': 'teacher'}\n",
    "\n",
    "print(emp_1)\n",
    "print(type(emp_1))"
   ]
  },
  {
   "cell_type": "code",
   "execution_count": 6,
   "id": "fa0ee5d7-70fa-4a70-beb4-933100992318",
   "metadata": {},
   "outputs": [
    {
     "name": "stdout",
     "output_type": "stream",
     "text": [
      "{'fname': 'Tim', 'lname': 'Hortons', 'age': 57, 'job': 'fast-food chain'}\n",
      "<class 'dict'>\n"
     ]
    }
   ],
   "source": [
    "emp_2 = dict(fname='Tim', lname='Hortons', age=57, job='fast-food chain')\n",
    "\n",
    "print(emp_2)\n",
    "print(type(emp_2))"
   ]
  },
  {
   "cell_type": "markdown",
   "id": "d6136d0f-9f3d-4452-b599-c366ecd14ad6",
   "metadata": {},
   "source": [
    "### Extracting Keys & Values from Dictionary "
   ]
  },
  {
   "cell_type": "code",
   "execution_count": 7,
   "id": "0a479678-1d52-4d5a-949f-8e1820f78514",
   "metadata": {},
   "outputs": [
    {
     "name": "stdout",
     "output_type": "stream",
     "text": [
      "dict_keys(['fname', 'lname', 'age', 'job'])\n"
     ]
    }
   ],
   "source": [
    "keys = emp_2.keys()\n",
    "print(keys)"
   ]
  },
  {
   "cell_type": "code",
   "execution_count": 8,
   "id": "817e2474-ba12-444c-9775-20c846736f48",
   "metadata": {},
   "outputs": [
    {
     "name": "stdout",
     "output_type": "stream",
     "text": [
      "dict_values(['Tim', 'Hortons', 57, 'fast-food chain'])\n"
     ]
    }
   ],
   "source": [
    "val = emp_2.values()\n",
    "print(val)"
   ]
  },
  {
   "cell_type": "code",
   "execution_count": 9,
   "id": "ae59cbb8-c8e5-49c5-86aa-7bca8eaa3f3d",
   "metadata": {},
   "outputs": [
    {
     "name": "stdout",
     "output_type": "stream",
     "text": [
      "dict_items([('fname', 'Tim'), ('lname', 'Hortons'), ('age', 57), ('job', 'fast-food chain')])\n"
     ]
    }
   ],
   "source": [
    "# Tuple list of key & Value pair \n",
    "\n",
    "both = emp_2.items()\n",
    "print(both)"
   ]
  },
  {
   "cell_type": "markdown",
   "id": "b9a6a53a-29e6-4750-aafb-16866ac448bc",
   "metadata": {},
   "source": [
    "### Add or Change an Item by key"
   ]
  },
  {
   "cell_type": "code",
   "execution_count": 10,
   "id": "b3a50a84-d1bd-46f0-91d1-e1e46e8c1995",
   "metadata": {},
   "outputs": [
    {
     "data": {
      "text/plain": [
       "{'fname': 'Lyle', 'lname': 'Dsouza', 'age': 35, 'job': 'teacher'}"
      ]
     },
     "execution_count": 10,
     "metadata": {},
     "output_type": "execute_result"
    }
   ],
   "source": [
    "emp_1 "
   ]
  },
  {
   "cell_type": "code",
   "execution_count": 11,
   "id": "7e4b3d65-ed71-4ac7-b107-e4e19341c63e",
   "metadata": {},
   "outputs": [
    {
     "name": "stdout",
     "output_type": "stream",
     "text": [
      "{'fname': 'Lyle', 'lname': 'Dsouza', 'age': 35, 'job': 'teacher', 'DOB': 1986}\n"
     ]
    }
   ],
   "source": [
    "# adding - \n",
    "\n",
    "emp_1['DOB'] = 1986\n",
    "\n",
    "print(emp_1)"
   ]
  },
  {
   "cell_type": "markdown",
   "id": "f8d59373-46bf-4539-a863-5546d055aacc",
   "metadata": {},
   "source": [
    "If you are **adding** key name must be unique else it will change the value of existing key"
   ]
  },
  {
   "cell_type": "code",
   "execution_count": 14,
   "id": "9362b62d-a6ed-4aed-8e0b-cee35f24f218",
   "metadata": {},
   "outputs": [
    {
     "name": "stdout",
     "output_type": "stream",
     "text": [
      "{'fname': 'Sunny', 'lname': 'Dsouza', 'age': 35, 'job': 'teacher', 'DOB': 1986}\n"
     ]
    }
   ],
   "source": [
    "emp_1['fname'] = 'Sunny' \n",
    "\n",
    "print(emp_1)"
   ]
  },
  {
   "cell_type": "code",
   "execution_count": 15,
   "id": "5a20a157-d5b0-44d3-a8a3-f4066fde3a7a",
   "metadata": {},
   "outputs": [
    {
     "name": "stdout",
     "output_type": "stream",
     "text": [
      "{'fname': 'Sunny', 'lname': 'Dsouza', 'age': 35, 'job': 'teacher', 'DOB': 1986, 'friends': ['Lynda', 'Akash', 'Daizy']}\n"
     ]
    }
   ],
   "source": [
    "# You can assign any data type as a key and value  \n",
    "# Usually Keys are String type\n",
    "# Values can be any data type \n",
    "\n",
    "# Adding few Friends - \n",
    "\n",
    "emp_1['friends'] = ['Lynda', 'Akash', 'Daizy']\n",
    "\n",
    "print(emp_1)"
   ]
  },
  {
   "cell_type": "markdown",
   "id": "cab6b1c9-c468-4e5e-9cc2-d3250ea9255b",
   "metadata": {},
   "source": [
    "### Get an element by `[key]` or `get(key)` method"
   ]
  },
  {
   "cell_type": "code",
   "execution_count": 17,
   "id": "9c462e63-00f2-4e52-98f8-ba0c7b2fafb3",
   "metadata": {},
   "outputs": [
    {
     "data": {
      "text/plain": [
       "'Dsouza'"
      ]
     },
     "execution_count": 17,
     "metadata": {},
     "output_type": "execute_result"
    }
   ],
   "source": [
    "# Get lname of emp_1\n",
    "\n",
    "emp_1['lname']"
   ]
  },
  {
   "cell_type": "code",
   "execution_count": 18,
   "id": "b11ded2d-f829-437c-b552-e4b8e7ad07e3",
   "metadata": {},
   "outputs": [
    {
     "data": {
      "text/plain": [
       "['Lynda', 'Akash', 'Daizy']"
      ]
     },
     "execution_count": 18,
     "metadata": {},
     "output_type": "execute_result"
    }
   ],
   "source": [
    "# Get Friends of emp_1\n",
    "\n",
    "emp_1.get('friends')"
   ]
  },
  {
   "cell_type": "markdown",
   "id": "4dde4e0b-dc8c-472a-a7b5-45a82a40e16f",
   "metadata": {},
   "source": [
    "`[key]` method will throw an error if key does not exists.  \n",
    "where in `get(key)` method, you can define the default value if key does not exists.  "
   ]
  },
  {
   "cell_type": "code",
   "execution_count": 19,
   "id": "a7933c65-77ea-4747-b463-cab5fb92fe56",
   "metadata": {},
   "outputs": [
    {
     "ename": "KeyError",
     "evalue": "'address'",
     "output_type": "error",
     "traceback": [
      "\u001b[1;31m---------------------------------------------------------------------------\u001b[0m",
      "\u001b[1;31mKeyError\u001b[0m                                  Traceback (most recent call last)",
      "\u001b[1;32m<ipython-input-19-6d59e33e83c6>\u001b[0m in \u001b[0;36m<module>\u001b[1;34m\u001b[0m\n\u001b[0;32m      1\u001b[0m \u001b[1;31m# get emp_1 address\u001b[0m\u001b[1;33m\u001b[0m\u001b[1;33m\u001b[0m\u001b[1;33m\u001b[0m\u001b[0m\n\u001b[0;32m      2\u001b[0m \u001b[1;33m\u001b[0m\u001b[0m\n\u001b[1;32m----> 3\u001b[1;33m \u001b[0memp_1\u001b[0m\u001b[1;33m[\u001b[0m\u001b[1;34m'address'\u001b[0m\u001b[1;33m]\u001b[0m\u001b[1;33m\u001b[0m\u001b[1;33m\u001b[0m\u001b[0m\n\u001b[0m",
      "\u001b[1;31mKeyError\u001b[0m: 'address'"
     ]
    }
   ],
   "source": [
    "# get emp_1 address \n",
    "\n",
    "emp_1['address']"
   ]
  },
  {
   "cell_type": "code",
   "execution_count": 20,
   "id": "d84ea4db-52be-488e-b169-928f1e3e24b9",
   "metadata": {},
   "outputs": [
    {
     "data": {
      "text/plain": [
       "'No Address'"
      ]
     },
     "execution_count": 20,
     "metadata": {},
     "output_type": "execute_result"
    }
   ],
   "source": [
    "emp_1.get('address', 'No Address')"
   ]
  },
  {
   "cell_type": "markdown",
   "id": "731362a3-22ac-4956-afbc-03599edd5a61",
   "metadata": {},
   "source": [
    "### Get No of Items in Dictionary "
   ]
  },
  {
   "cell_type": "code",
   "execution_count": 21,
   "id": "6cb84b94-5316-44d5-9b49-703a79bfe4e7",
   "metadata": {},
   "outputs": [
    {
     "data": {
      "text/plain": [
       "6"
      ]
     },
     "execution_count": 21,
     "metadata": {},
     "output_type": "execute_result"
    }
   ],
   "source": [
    "len(emp_1)"
   ]
  },
  {
   "cell_type": "markdown",
   "id": "7d950058-6a5f-48de-afc0-555c974571ce",
   "metadata": {},
   "source": [
    "### Combine Dictionary with `update()`"
   ]
  },
  {
   "cell_type": "code",
   "execution_count": 22,
   "id": "dc24f0d5-7798-48eb-bfde-928a20a7d233",
   "metadata": {},
   "outputs": [
    {
     "data": {
      "text/plain": [
       "{'fname': 'Sunny',\n",
       " 'lname': 'Dsouza',\n",
       " 'age': 35,\n",
       " 'job': 'teacher',\n",
       " 'DOB': 1986,\n",
       " 'friends': ['Lynda', 'Akash', 'Daizy']}"
      ]
     },
     "execution_count": 22,
     "metadata": {},
     "output_type": "execute_result"
    }
   ],
   "source": [
    "emp_1"
   ]
  },
  {
   "cell_type": "code",
   "execution_count": 26,
   "id": "dceff930-9125-46c1-8c55-80409fb2d6f4",
   "metadata": {},
   "outputs": [
    {
     "data": {
      "text/plain": [
       "{'apt': 518, 'st': '199 wellesley st', 'city': 'toronto'}"
      ]
     },
     "execution_count": 26,
     "metadata": {},
     "output_type": "execute_result"
    }
   ],
   "source": [
    "emp_1_address = {'apt':518, 'st': '199 wellesley st', 'city': 'toronto'}\n",
    "\n",
    "emp_1_address"
   ]
  },
  {
   "cell_type": "code",
   "execution_count": 27,
   "id": "d3aa8ae8-753a-4151-aa34-66e2c8e135cd",
   "metadata": {},
   "outputs": [
    {
     "data": {
      "text/plain": [
       "{'fname': 'Sunny',\n",
       " 'lname': 'Dsouza',\n",
       " 'age': 35,\n",
       " 'job': 'teacher',\n",
       " 'DOB': 1986,\n",
       " 'friends': ['Lynda', 'Akash', 'Daizy'],\n",
       " 'apt': 518,\n",
       " 'st': '199 wellesley st',\n",
       " 'city': 'toronto'}"
      ]
     },
     "execution_count": 27,
     "metadata": {},
     "output_type": "execute_result"
    }
   ],
   "source": [
    "# Combineing emp_1 address details with emp_1 data\n",
    "\n",
    "emp_1.update(emp_1_address)\n",
    "\n",
    "emp_1"
   ]
  },
  {
   "cell_type": "markdown",
   "id": "2818485d-4a8d-41d0-b344-4edd77f7589e",
   "metadata": {},
   "source": [
    "### Delete an Item with `del`"
   ]
  },
  {
   "cell_type": "code",
   "execution_count": 29,
   "id": "3e59e90c-3c4b-482f-a823-a7008b0643b4",
   "metadata": {},
   "outputs": [
    {
     "data": {
      "text/plain": [
       "{'fname': 'Sunny',\n",
       " 'lname': 'Dsouza',\n",
       " 'age': 35,\n",
       " 'job': 'teacher',\n",
       " 'friends': ['Lynda', 'Akash', 'Daizy'],\n",
       " 'apt': 518,\n",
       " 'st': '199 wellesley st',\n",
       " 'city': 'toronto'}"
      ]
     },
     "execution_count": 29,
     "metadata": {},
     "output_type": "execute_result"
    }
   ],
   "source": [
    "del emp_1['DOB']\n",
    "\n",
    "emp_1"
   ]
  },
  {
   "cell_type": "markdown",
   "id": "ae539bc3-7536-430d-8dc0-8f839922becd",
   "metadata": {},
   "source": [
    "### Get an Item by Key and Delete with `pop()`"
   ]
  },
  {
   "cell_type": "code",
   "execution_count": 30,
   "id": "5c79c5ab-7c23-4c23-b5ff-b0f818671361",
   "metadata": {},
   "outputs": [
    {
     "name": "stdout",
     "output_type": "stream",
     "text": [
      "518\n"
     ]
    },
    {
     "data": {
      "text/plain": [
       "{'fname': 'Sunny',\n",
       " 'lname': 'Dsouza',\n",
       " 'age': 35,\n",
       " 'job': 'teacher',\n",
       " 'friends': ['Lynda', 'Akash', 'Daizy'],\n",
       " 'st': '199 wellesley st',\n",
       " 'city': 'toronto'}"
      ]
     },
     "execution_count": 30,
     "metadata": {},
     "output_type": "execute_result"
    }
   ],
   "source": [
    "apt = emp_1.pop('apt')\n",
    "\n",
    "print(apt)\n",
    "emp_1"
   ]
  },
  {
   "cell_type": "markdown",
   "id": "1c4f4047-5475-49c6-9406-4a924518d110",
   "metadata": {},
   "source": [
    "### Delete all item with `clear()`"
   ]
  },
  {
   "cell_type": "code",
   "execution_count": 31,
   "id": "1504e438-0c6e-4faa-80c9-21d4a2a9dcb9",
   "metadata": {},
   "outputs": [
    {
     "data": {
      "text/plain": [
       "{}"
      ]
     },
     "execution_count": 31,
     "metadata": {},
     "output_type": "execute_result"
    }
   ],
   "source": [
    "emp_1.clear()\n",
    "\n",
    "emp_1"
   ]
  },
  {
   "cell_type": "markdown",
   "id": "80121a81-27f3-4b13-a83b-07e6a10f3dc8",
   "metadata": {},
   "source": [
    "### Test for Key with `in`"
   ]
  },
  {
   "cell_type": "code",
   "execution_count": 32,
   "id": "9d27ae12-ba23-4682-8dea-f0860d7e16ce",
   "metadata": {},
   "outputs": [
    {
     "data": {
      "text/plain": [
       "{'fname': 'Tim', 'lname': 'Hortons', 'age': 57, 'job': 'fast-food chain'}"
      ]
     },
     "execution_count": 32,
     "metadata": {},
     "output_type": "execute_result"
    }
   ],
   "source": [
    "emp_2"
   ]
  },
  {
   "cell_type": "code",
   "execution_count": 33,
   "id": "3a6132aa-2bf1-44a3-b6eb-6024a65ba3fd",
   "metadata": {},
   "outputs": [
    {
     "data": {
      "text/plain": [
       "True"
      ]
     },
     "execution_count": 33,
     "metadata": {},
     "output_type": "execute_result"
    }
   ],
   "source": [
    "'lname' in emp_2"
   ]
  },
  {
   "cell_type": "code",
   "execution_count": 34,
   "id": "f730b5fb-a27e-415b-b692-ab4aeec66b34",
   "metadata": {},
   "outputs": [
    {
     "data": {
      "text/plain": [
       "False"
      ]
     },
     "execution_count": 34,
     "metadata": {},
     "output_type": "execute_result"
    }
   ],
   "source": [
    "'address' in emp_2"
   ]
  },
  {
   "cell_type": "markdown",
   "id": "e471fd3e-4630-4841-999e-e4e6c15c60b9",
   "metadata": {},
   "source": [
    "### Copy (duplicate) with `copy()` "
   ]
  },
  {
   "cell_type": "code",
   "execution_count": 35,
   "id": "70950efc-e3dc-4ed0-a723-80e723a34131",
   "metadata": {},
   "outputs": [
    {
     "name": "stdout",
     "output_type": "stream",
     "text": [
      "{}\n",
      "{'fname': 'Tim', 'lname': 'Hortons', 'age': 57, 'job': 'fast-food chain'}\n"
     ]
    }
   ],
   "source": [
    "# if you are going to create copy by using = , It is just an assignment, another name for same dictionary.\n",
    "\n",
    "print(emp_1)\n",
    "print(emp_2)"
   ]
  },
  {
   "cell_type": "code",
   "execution_count": 36,
   "id": "0b55930f-8199-4bac-b7fc-1999f25dd763",
   "metadata": {},
   "outputs": [
    {
     "name": "stdout",
     "output_type": "stream",
     "text": [
      "{'fname': 'Tim', 'lname': 'Hortons', 'age': 57, 'job': 'fast-food chain'}\n",
      "{'fname': 'Tim', 'lname': 'Hortons', 'age': 57, 'job': 'fast-food chain'}\n"
     ]
    }
   ],
   "source": [
    "emp_1 = emp_2  # This will create an alias, NOT a COPY\n",
    "\n",
    "print(emp_1)\n",
    "print(emp_2)"
   ]
  },
  {
   "cell_type": "code",
   "execution_count": 39,
   "id": "d1b11b7c-ff1f-41b7-8f53-0dd0c1ccc6a6",
   "metadata": {},
   "outputs": [
    {
     "name": "stdout",
     "output_type": "stream",
     "text": [
      "{'fname': 'Tim', 'lname': 'Hortons', 'age': 57, 'job': 'fast-food chain', 'Address': 'Toronto'}\n",
      "{'fname': 'Tim', 'lname': 'Hortons', 'age': 57, 'job': 'fast-food chain', 'Address': 'Toronto'}\n"
     ]
    }
   ],
   "source": [
    "# So if we change emp_2, emp_1 will also change. \n",
    "\n",
    "emp_2['Address'] = 'Toronto'\n",
    "\n",
    "print(emp_1)\n",
    "print(emp_2)"
   ]
  },
  {
   "cell_type": "code",
   "execution_count": 40,
   "id": "57a7ce1d-9f6e-463a-9175-22d9b430bef9",
   "metadata": {},
   "outputs": [
    {
     "data": {
      "text/plain": [
       "{'fname': 'Tim',\n",
       " 'lname': 'Hortons',\n",
       " 'age': 57,\n",
       " 'job': 'fast-food chain',\n",
       " 'Address': 'Toronto'}"
      ]
     },
     "execution_count": 40,
     "metadata": {},
     "output_type": "execute_result"
    }
   ],
   "source": [
    "# Create actual copy with copy()\n",
    "\n",
    "emp_3 = emp_1.copy()\n",
    "\n",
    "emp_3"
   ]
  },
  {
   "cell_type": "code",
   "execution_count": 41,
   "id": "8c862cfc-7b61-4b11-9c06-4a11e84b053b",
   "metadata": {},
   "outputs": [
    {
     "name": "stdout",
     "output_type": "stream",
     "text": [
      "{'fname': 'Tim', 'lname': 'Hortons', 'age': 57, 'job': 'fast-food chain', 'Address': 'Toronto', 'dob': 1964}\n",
      "{'fname': 'Tim', 'lname': 'Hortons', 'age': 57, 'job': 'fast-food chain', 'Address': 'Toronto'}\n"
     ]
    }
   ],
   "source": [
    "emp_1['dob'] = 1964\n",
    "\n",
    "print(emp_1)\n",
    "print(emp_3)"
   ]
  },
  {
   "cell_type": "markdown",
   "id": "fa6ef255-d700-4d22-bf56-e4e3000ddc22",
   "metadata": {},
   "source": [
    "### Iterate with `for` and `in`  (Traversal)"
   ]
  },
  {
   "cell_type": "code",
   "execution_count": 42,
   "id": "e86dadc1-382b-436a-9e8a-0c82d203754c",
   "metadata": {},
   "outputs": [
    {
     "data": {
      "text/plain": [
       "{'fname': 'Tim',\n",
       " 'lname': 'Hortons',\n",
       " 'age': 57,\n",
       " 'job': 'fast-food chain',\n",
       " 'Address': 'Toronto'}"
      ]
     },
     "execution_count": 42,
     "metadata": {},
     "output_type": "execute_result"
    }
   ],
   "source": [
    "emp_3"
   ]
  },
  {
   "cell_type": "code",
   "execution_count": 43,
   "id": "6e4852d8-99e4-4eb1-aac1-504c98efd5f1",
   "metadata": {},
   "outputs": [
    {
     "name": "stdout",
     "output_type": "stream",
     "text": [
      "fname = Tim\n",
      "lname = Hortons\n",
      "age = 57\n",
      "job = fast-food chain\n",
      "Address = Toronto\n"
     ]
    }
   ],
   "source": [
    "for k,v in emp_3.items():  # with items()\n",
    "    print(f'{k} = {v}')"
   ]
  },
  {
   "cell_type": "code",
   "execution_count": 46,
   "id": "29c11d9e-8b28-48fa-9a35-43a2a0c04bae",
   "metadata": {},
   "outputs": [
    {
     "name": "stdout",
     "output_type": "stream",
     "text": [
      "fname == Tim\n",
      "lname == Hortons\n",
      "age == 57\n",
      "job == fast-food chain\n",
      "Address == Toronto\n"
     ]
    }
   ],
   "source": [
    "for k in emp_3.keys():\n",
    "    print(f'{k} == {emp_3[k]}')"
   ]
  },
  {
   "cell_type": "code",
   "execution_count": 49,
   "id": "9b40552b-a216-4ad7-bd8a-f047a8f88a55",
   "metadata": {},
   "outputs": [
    {
     "name": "stdout",
     "output_type": "stream",
     "text": [
      "Tim\n",
      "Hortons\n",
      "57\n",
      "fast-food chain\n",
      "Toronto\n"
     ]
    }
   ],
   "source": [
    "for v in emp_3.values():\n",
    "    print(v)"
   ]
  },
  {
   "cell_type": "markdown",
   "id": "3144f28a-e39a-44c1-bd8e-084d92324a15",
   "metadata": {},
   "source": [
    "### Build word counter with dictionary"
   ]
  },
  {
   "cell_type": "code",
   "execution_count": 50,
   "id": "2e8d85c9-9421-4a30-8202-e81ab1f36af2",
   "metadata": {},
   "outputs": [],
   "source": [
    "sentence = \"List all processes List state of a process List state of all processes in a job  List all locks  List locks held by a process \\\n",
    "List locks held by all processes in a job  Clear locks held by a process  Clear locks held by all processes in a \\\n",
    "job  Logout a process  Logout all processes in a job  Clear status file for a job\""
   ]
  },
  {
   "cell_type": "code",
   "execution_count": 51,
   "id": "6f644387-25a0-4546-94f5-974875940618",
   "metadata": {},
   "outputs": [
    {
     "name": "stdout",
     "output_type": "stream",
     "text": [
      "list == 6\n",
      "all == 6\n",
      "processes == 5\n",
      "state == 2\n",
      "of == 2\n",
      "a == 9\n",
      "process == 4\n",
      "in == 4\n",
      "job == 5\n",
      "locks == 5\n",
      "held == 4\n",
      "by == 4\n",
      "clear == 3\n",
      "logout == 2\n",
      "status == 1\n",
      "file == 1\n",
      "for == 1\n"
     ]
    }
   ],
   "source": [
    "# Want to count all the words, irrespective of CASES \n",
    "\n",
    "word_counter = {}        # creating a empty dictionary\n",
    "\n",
    "words = sentence.split()   # Boken down the sentense into list of words \n",
    "\n",
    "for w in words:\n",
    "    w = w.lower()     # Lowercasing the word to remove the CASE diffrences     \n",
    "    word_counter[w] = word_counter.get(w, 0) + 1   # this will check if word exist in dictionaru, If yes, It will fetch the value and add 1 \n",
    "                                                   # Else, If will return 0 and then add 1 \n",
    "\n",
    "for k,v  in word_counter.items():\n",
    "    print(f'{k} == {v}')"
   ]
  },
  {
   "cell_type": "code",
   "execution_count": null,
   "id": "03982c13-a8f5-4260-bd59-d60eef6fbffd",
   "metadata": {},
   "outputs": [],
   "source": []
  }
 ],
 "metadata": {
  "kernelspec": {
   "display_name": "Python 3",
   "language": "python",
   "name": "python3"
  },
  "language_info": {
   "codemirror_mode": {
    "name": "ipython",
    "version": 3
   },
   "file_extension": ".py",
   "mimetype": "text/x-python",
   "name": "python",
   "nbconvert_exporter": "python",
   "pygments_lexer": "ipython3",
   "version": "3.9.5"
  }
 },
 "nbformat": 4,
 "nbformat_minor": 5
}

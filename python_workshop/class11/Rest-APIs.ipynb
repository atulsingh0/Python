{
 "cells": [
  {
   "cell_type": "markdown",
   "id": "7bba7a57",
   "metadata": {},
   "source": [
    "### Weather API"
   ]
  },
  {
   "cell_type": "markdown",
   "id": "d3e051d3",
   "metadata": {},
   "source": [
    "```\n",
    "// Current Weather API Endpoint - a5164137ea95083f7aa8863195bc480f\n",
    "\n",
    "http://api.weatherstack.com/current? access_key = YOUR_ACCESS_KEY & query = New York\n",
    "```"
   ]
  },
  {
   "cell_type": "markdown",
   "id": "7234a0ce",
   "metadata": {},
   "source": [
    "Installation:  \n",
    "```\n",
    "python3 -m pip install requests\n",
    "```\n",
    "\n",
    "Learning:\n",
    "* https://realpython.com/python-requests/\n",
    "* https://www.datacamp.com/community/tutorials/making-http-requests-in-python"
   ]
  },
  {
   "cell_type": "code",
   "execution_count": 20,
   "id": "a39a1d3b",
   "metadata": {},
   "outputs": [],
   "source": [
    "import requests"
   ]
  },
  {
   "cell_type": "code",
   "execution_count": 21,
   "id": "ae6287a5",
   "metadata": {},
   "outputs": [],
   "source": [
    "YOUR_ACCESS_KEY=\"a5164137ea95083f7aa8863195bc480f\"\n",
    "CITY=\"New York\""
   ]
  },
  {
   "cell_type": "code",
   "execution_count": 22,
   "id": "c54b9666",
   "metadata": {},
   "outputs": [],
   "source": [
    "# Calling API (Get Method)\n",
    "data = requests.get(f\"http://api.weatherstack.com/current?access_key={YOUR_ACCESS_KEY}&query={CITY}\")"
   ]
  },
  {
   "cell_type": "code",
   "execution_count": 23,
   "id": "81b095dd",
   "metadata": {},
   "outputs": [
    {
     "data": {
      "text/plain": [
       "'{\"request\":{\"type\":\"City\",\"query\":\"New York, United States of America\",\"language\":\"en\",\"unit\":\"m\"},\"location\":{\"name\":\"New York\",\"country\":\"United States of America\",\"region\":\"New York\",\"lat\":\"40.714\",\"lon\":\"-74.006\",\"timezone_id\":\"America\\\\/New_York\",\"localtime\":\"2021-07-27 22:31\",\"localtime_epoch\":1627425060,\"utc_offset\":\"-4.0\"},\"current\":{\"observation_time\":\"02:31 AM\",\"temperature\":26,\"weather_code\":116,\"weather_icons\":[\"https:\\\\/\\\\/assets.weatherstack.com\\\\/images\\\\/wsymbols01_png_64\\\\/wsymbol_0004_black_low_cloud.png\"],\"weather_descriptions\":[\"Partly cloudy\"],\"wind_speed\":0,\"wind_degree\":213,\"wind_dir\":\"SSW\",\"pressure\":1016,\"precip\":0,\"humidity\":50,\"cloudcover\":75,\"feelslike\":26,\"uv_index\":7,\"visibility\":16,\"is_day\":\"no\"}}'"
      ]
     },
     "execution_count": 23,
     "metadata": {},
     "output_type": "execute_result"
    }
   ],
   "source": [
    "data.text"
   ]
  },
  {
   "cell_type": "code",
   "execution_count": 25,
   "id": "ad071c0c",
   "metadata": {},
   "outputs": [
    {
     "data": {
      "text/plain": [
       "{'request': {'type': 'City',\n",
       "  'query': 'New York, United States of America',\n",
       "  'language': 'en',\n",
       "  'unit': 'm'},\n",
       " 'location': {'name': 'New York',\n",
       "  'country': 'United States of America',\n",
       "  'region': 'New York',\n",
       "  'lat': '40.714',\n",
       "  'lon': '-74.006',\n",
       "  'timezone_id': 'America/New_York',\n",
       "  'localtime': '2021-07-27 22:31',\n",
       "  'localtime_epoch': 1627425060,\n",
       "  'utc_offset': '-4.0'},\n",
       " 'current': {'observation_time': '02:31 AM',\n",
       "  'temperature': 26,\n",
       "  'weather_code': 116,\n",
       "  'weather_icons': ['https://assets.weatherstack.com/images/wsymbols01_png_64/wsymbol_0004_black_low_cloud.png'],\n",
       "  'weather_descriptions': ['Partly cloudy'],\n",
       "  'wind_speed': 0,\n",
       "  'wind_degree': 213,\n",
       "  'wind_dir': 'SSW',\n",
       "  'pressure': 1016,\n",
       "  'precip': 0,\n",
       "  'humidity': 50,\n",
       "  'cloudcover': 75,\n",
       "  'feelslike': 26,\n",
       "  'uv_index': 7,\n",
       "  'visibility': 16,\n",
       "  'is_day': 'no'}}"
      ]
     },
     "execution_count": 25,
     "metadata": {},
     "output_type": "execute_result"
    }
   ],
   "source": [
    "# Pretty Print\n",
    "data.json()"
   ]
  },
  {
   "cell_type": "code",
   "execution_count": 26,
   "id": "a1cd0ab4",
   "metadata": {},
   "outputs": [
    {
     "data": {
      "text/plain": [
       "{'request': {'type': 'City',\n",
       "  'query': 'Toronto, Canada',\n",
       "  'language': 'en',\n",
       "  'unit': 'm'},\n",
       " 'location': {'name': 'Toronto',\n",
       "  'country': 'Canada',\n",
       "  'region': 'Ontario',\n",
       "  'lat': '43.667',\n",
       "  'lon': '-79.417',\n",
       "  'timezone_id': 'America/Toronto',\n",
       "  'localtime': '2021-07-27 22:34',\n",
       "  'localtime_epoch': 1627425240,\n",
       "  'utc_offset': '-4.0'},\n",
       " 'current': {'observation_time': '02:34 AM',\n",
       "  'temperature': 20,\n",
       "  'weather_code': 143,\n",
       "  'weather_icons': ['https://assets.weatherstack.com/images/wsymbols01_png_64/wsymbol_0006_mist.png'],\n",
       "  'weather_descriptions': ['Mist'],\n",
       "  'wind_speed': 0,\n",
       "  'wind_degree': 81,\n",
       "  'wind_dir': 'E',\n",
       "  'pressure': 1015,\n",
       "  'precip': 1.6,\n",
       "  'humidity': 100,\n",
       "  'cloudcover': 0,\n",
       "  'feelslike': 20,\n",
       "  'uv_index': 5,\n",
       "  'visibility': 6,\n",
       "  'is_day': 'no'}}"
      ]
     },
     "execution_count": 26,
     "metadata": {},
     "output_type": "execute_result"
    }
   ],
   "source": [
    "CITY=\"toronto\"\n",
    "data = requests.get(f\"http://api.weatherstack.com/current?access_key={YOUR_ACCESS_KEY}&query={CITY}\")\n",
    "data.json()"
   ]
  },
  {
   "cell_type": "code",
   "execution_count": 27,
   "id": "89288828",
   "metadata": {},
   "outputs": [
    {
     "name": "stdout",
     "output_type": "stream",
     "text": [
      "Current temperature in Toronto is 20℃\n"
     ]
    }
   ],
   "source": [
    "api_response = data.json()\n",
    "\n",
    "print(u'Current temperature in %s is %d℃' % (api_response['location']['name'], api_response['current']['temperature']))"
   ]
  },
  {
   "cell_type": "code",
   "execution_count": 40,
   "id": "61d95043",
   "metadata": {},
   "outputs": [
    {
     "name": "stdout",
     "output_type": "stream",
     "text": [
      "Enter the City Name: toronto\n",
      "Current temperature in Toronto(Canada) is 20℃\n",
      "Feels like temprature will be 20℃.\n",
      "The longitude and lattitude for Toronto is -79.417 and 43.667 \n"
     ]
    }
   ],
   "source": [
    "CITY=input(\"Enter the City Name: \")\n",
    "\n",
    "data = requests.get(f\"http://api.weatherstack.com/current?access_key={YOUR_ACCESS_KEY}&query={CITY}\")\n",
    "api_response = data.json()\n",
    "print(f\"Current temperature in {api_response['location']['name']}({api_response['location']['country']}) is {api_response['current']['temperature']}℃\")\n",
    "print(f\"Feels like temprature will be {api_response['current']['feelslike']}℃.\")\n",
    "print(f\"The longitude and lattitude for {api_response['location']['name']} is {api_response['location']['lon']} and {api_response['location']['lat']} \")"
   ]
  },
  {
   "cell_type": "code",
   "execution_count": null,
   "id": "5955f89f",
   "metadata": {},
   "outputs": [],
   "source": []
  }
 ],
 "metadata": {
  "kernelspec": {
   "display_name": "Python 3",
   "language": "python",
   "name": "python3"
  },
  "language_info": {
   "codemirror_mode": {
    "name": "ipython",
    "version": 3
   },
   "file_extension": ".py",
   "mimetype": "text/x-python",
   "name": "python",
   "nbconvert_exporter": "python",
   "pygments_lexer": "ipython3",
   "version": "3.9.5"
  }
 },
 "nbformat": 4,
 "nbformat_minor": 5
}
